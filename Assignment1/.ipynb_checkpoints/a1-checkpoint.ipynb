{
 "cells": [
  {
   "cell_type": "markdown",
   "metadata": {
    "deletable": false,
    "editable": false,
    "nbgrader": {
     "cell_type": "markdown",
     "checksum": "c83e10f16906d383f7e9c0a4351d19f3",
     "grade": false,
     "grade_id": "cell-d8c0fc514422446a",
     "locked": true,
     "schema_version": 3,
     "solution": false,
     "task": false
    }
   },
   "source": [
    "# Assignment 1\n",
    "\n",
    "\n",
    "## Learning Goals\n",
    "After successfully completing this assignment, you should be able to:\n",
    "\n",
    "- represent and manipulate numeric data using [`numpy`](https://numpy.org/doc/stable/reference/generated/numpy.array.html) arrays \n",
    "- represent and manipulate data using [`pandas`](https://pandas.pydata.org/docs/reference/api/pandas.DataFrame.html) dataframes \n",
    "- load data from a .csv file "
   ]
  },
  {
   "cell_type": "code",
   "execution_count": null,
   "metadata": {
    "ExecuteTime": {
     "end_time": "2022-01-07T13:08:52.768256Z",
     "start_time": "2022-01-07T13:08:51.312324Z"
    },
    "deletable": false,
    "editable": false,
    "nbgrader": {
     "cell_type": "code",
     "checksum": "daa22ec6691c1c183bd1ea9bda48af26",
     "grade": false,
     "grade_id": "cell-ba12c5c47b74176a",
     "locked": true,
     "schema_version": 3,
     "solution": false,
     "task": false
    }
   },
   "outputs": [],
   "source": [
    "import numpy as np                   # import numpy package under shorthand \"np\"\n",
    "import pandas as pd                  # import pandas package under shorthand \"pd\"\n",
    "import matplotlib.pyplot as plt\n",
    "from nose.tools import assert_equal\n",
    "from numpy.testing import assert_array_equal"
   ]
  },
  {
   "cell_type": "markdown",
   "metadata": {
    "deletable": false,
    "editable": false,
    "nbgrader": {
     "cell_type": "markdown",
     "checksum": "eefbd2e051a90fa6e21e59979026ead2",
     "grade": false,
     "grade_id": "cell-48e4a36aa5e0b026",
     "locked": true,
     "schema_version": 3,
     "solution": false,
     "task": false
    }
   },
   "source": [
    "# Representing Data as Numpy Arrays\n",
    "\n",
    "Data consists of many individual datapoints. Each datapoint is characterized by features and labels. Let us assume that the features of a datapoint is a finite list of numbers $x_{1},\\ldots,x_{n} \\in \\mathbb{R}$. We can represent such a finite list of numbers conveniently using a numeric or [`numpy`](https://numpy.org/doc/stable/reference/generated/numpy.ndarray.html?highlight=ndarray#numpy.ndarray) array. \n",
    "\n",
    "For instance, we could have a feature vector `np.array([60.1699, 24.9384])` representing the coordinates of Helsinki, and a label `np.array([5.0])` representing average yearly temperature.\n",
    "In general, the feature vector $\\mathbf{x} = \\big(x_{1},\\ldots,x_{n} \\big)^{T} \\in \\mathbb{R}^{n}$ can be represented by a 1 dimensional `numpy` array `x = np.array([x1,...,xn])`. \n",
    "\n",
    "This course will use mainly `numpy` arrays with 1 or 2 dimensions, representing vectors and matrices, respectively. We represent an $m \\times n$ matrix, i.e., with $m$ rows and $n$ columns, using a 2 dimensional `numpy`array with shape `(m,n)`. The Python code `A=np.array([[1,1,1],[2,2,2]])` creates a `numpy` array of shape `(2, 3)`, representing the matrix \n",
    "$$\n",
    "A= \\begin{pmatrix}\n",
    "1 & 1 & 1\\\\\n",
    "2 & 2 & 2\n",
    "\\end{pmatrix}\n",
    "$$\n",
    "\n",
    "One key attribute of an [`numpy.ndarray`](https://numpy.org/doc/stable/reference/generated/numpy.ndarray.html?highlight=ndarray#numpy.ndarray) object `x` is its shape, which is stored in the attribute `x.shape`. The shape `x.shape` is a tuple of integers $s_{0},\\ldots,s_{d-1}$ that indicates the extent (size/length) of the `numeric` array in different dimensions. The first entry $s_{0}$ of the list `x.shape` is the extent in the first dimension (dimension \"0\"), the second entry $s_{1}$ is the extent of `x` in the second dimension (dimension \"1\"). Note that `np.array([1,2,3]).shape` returns `(3,)` which represents a vector, but `np.array([[1,2,3]]).shape` returns `(1, 3)` which represents a matrix.\n",
    "\n",
    "\n",
    "\n",
    "For more information:\n",
    "\n",
    "- [Numpy Documentation](https://numpy.org/doc/stable/index.html)\n",
    "- [What is Numpy?](https://numpy.org/doc/stable/user/whatisnumpy.html)\n",
    "- [Numpy Basics](https://numpy.org/doc/stable/user/basics.html)\n",
    "- [Visualization](https://stackoverflow.com/questions/48200911/very-basic-numpy-array-dimension-visualization)\n",
    "\n",
    "In the task below you will be asked to do some simple operations in numpy that will be necessary to know for the duration of the course. "
   ]
  },
  {
   "cell_type": "markdown",
   "metadata": {
    "deletable": false,
    "editable": false,
    "nbgrader": {
     "cell_type": "markdown",
     "checksum": "8f9cb8e02c3d8c30f3c31e01e764e862",
     "grade": false,
     "grade_id": "cell-48e4a36aa5e0b026-2",
     "locked": true,
     "schema_version": 3,
     "solution": false,
     "task": false
    }
   },
   "source": [
    "<div class=\" alert alert-warning\">\n",
    "    \n",
    "### Student Task A1.1\n",
    "\n",
    "- Create a `numpy` array `x` that represents the vector $\\mathbf{x} = \\big(1, 2, 3\\big)^{T}$ and another `numpy` array `y` that represents the vector $\\mathbf{y} = \\big( 2, 3, 4 \\big)^{T}$.\n",
    "- Complete the function `sum_matrix` which should read in two `numpy` arrays of the same shape. The function should return a `numpy` array with the same shape of the inputs and whose entries are sums of the corresponding entries in the two input arrays. \n",
    "- Similar to `sum_matrix`, complete the function `product_matrix` that returns a `numpy` array whose entries are products of the entries of the input `numpy` arrays. \n",
    "</div>"
   ]
  },
  {
   "cell_type": "code",
   "execution_count": null,
   "metadata": {
    "ExecuteTime": {
     "end_time": "2022-01-07T13:08:52.779887Z",
     "start_time": "2022-01-07T13:08:52.770934Z"
    },
    "deletable": false,
    "nbgrader": {
     "cell_type": "code",
     "checksum": "ec3bc2bf498bead3bd051aa3dede917d",
     "grade": false,
     "grade_id": "cell-1633c801da254294",
     "locked": false,
     "schema_version": 3,
     "solution": true,
     "task": false
    }
   },
   "outputs": [],
   "source": [
    "## create numpy arrays as:\n",
    "x = np.array([[1, 2, 3]]).T  # input: a list\n",
    "y = np.array([[2, 3, 4]]).T  # input: a list\n",
    "\n",
    "# YOUR CODE HERE\n",
    "raise NotImplementedError()\n",
    "\n",
    "\n",
    "\n",
    "def sum_matrix(x,y):  \n",
    "    \"\"\"\n",
    "    Parameters:\n",
    "    x -- a numpy array\n",
    "    y -- a numpy array\n",
    "    \n",
    "    Returns:\n",
    "    a numpy array representing the element-wise sum of x and y\n",
    "    \"\"\"\n",
    "    # YOUR CODE HERE\n",
    "    raise NotImplementedError()\n",
    "\n",
    "def product_matrix(x,y):\n",
    "    \"\"\"\n",
    "    Parameters:\n",
    "    x -- a numpy array\n",
    "    y -- a numpy array\n",
    "    \n",
    "    Returns:\n",
    "    a numpy array representing the element-wise product of x and y\n",
    "    \"\"\"\n",
    "    # YOUR CODE HERE\n",
    "    raise NotImplementedError()"
   ]
  },
  {
   "cell_type": "code",
   "execution_count": null,
   "metadata": {
    "ExecuteTime": {
     "end_time": "2022-01-07T13:08:52.793462Z",
     "start_time": "2022-01-07T13:08:52.784441Z"
    },
    "deletable": false,
    "editable": false,
    "nbgrader": {
     "cell_type": "code",
     "checksum": "f9c29072225e027c3d7a2d196a9ebd3a",
     "grade": true,
     "grade_id": "cell-1c5ac46222c250ff",
     "locked": true,
     "points": 1,
     "schema_version": 3,
     "solution": false,
     "task": false
    }
   },
   "outputs": [],
   "source": [
    "# this cell is for tests, please leave it as it is\n"
   ]
  },
  {
   "cell_type": "markdown",
   "metadata": {
    "deletable": false,
    "editable": false,
    "nbgrader": {
     "cell_type": "markdown",
     "checksum": "08755232a5447abd915ad3b12d3f57d3",
     "grade": false,
     "grade_id": "cell-1e2965ae63ee9132",
     "locked": true,
     "schema_version": 3,
     "solution": false,
     "task": false
    }
   },
   "source": [
    "<div class=\" alert alert-warning\">\n",
    "\n",
    "### Student Task A1.2\n",
    "\n",
    "\n",
    "Create a `numpy` array `A` of shape `(2,3)` that represents the $2 \\times 3$ matrix \n",
    "\n",
    "\\begin{pmatrix}\n",
    "1 & 2 & 3\\\\\n",
    "4 & 5 & 6\n",
    "\\end{pmatrix}\n",
    "\n",
    "Complete the three functions in the code snippet:\n",
    "\n",
    " - `first_row` that should return a 1-D `numpy` array that represents the first row of the matrix corresponding to the input array. \n",
    "\n",
    " -  `second_column` that should return 1-D `numpy` array ... second column ...\n",
    "    \n",
    " -  `second_row_and_column` that should return a single number which is contained in the second row and second column of the input matrix.\n",
    "    \n",
    "</div>"
   ]
  },
  {
   "cell_type": "code",
   "execution_count": null,
   "metadata": {
    "ExecuteTime": {
     "end_time": "2022-01-07T13:08:52.809546Z",
     "start_time": "2022-01-07T13:08:52.804559Z"
    },
    "deletable": false,
    "nbgrader": {
     "cell_type": "code",
     "checksum": "dbb6e648674117b4aeaf5998ba0cf748",
     "grade": false,
     "grade_id": "cell-1cc1e6c6c1853608",
     "locked": false,
     "schema_version": 3,
     "solution": true,
     "task": false
    }
   },
   "outputs": [],
   "source": [
    "## create a 2-D numpy array as:\n",
    "# A = ...\n",
    "\n",
    "# YOUR CODE HERE\n",
    "raise NotImplementedError()\n",
    "\n",
    "## sanity check to avoid major mistakes\n",
    "assert isinstance(A,np.ndarray)  # check the type of A\n",
    "assert A.shape==(2,3)  # check the shape of A"
   ]
  },
  {
   "cell_type": "code",
   "execution_count": null,
   "metadata": {
    "ExecuteTime": {
     "end_time": "2022-01-07T13:08:52.820591Z",
     "start_time": "2022-01-07T13:08:52.813115Z"
    },
    "deletable": false,
    "nbgrader": {
     "cell_type": "code",
     "checksum": "d98ccc7ac99e252d3460393010d8c291",
     "grade": false,
     "grade_id": "cell-1cc1e6c6c1873608",
     "locked": false,
     "schema_version": 3,
     "solution": true,
     "task": false
    }
   },
   "outputs": [],
   "source": [
    "def first_row(A): \n",
    "    '''\n",
    "    Parameter:\n",
    "    A -- a numpy array\n",
    "    \n",
    "    Returns:\n",
    "    the first row of A\n",
    "    '''\n",
    "    # YOUR CODE HERE\n",
    "    raise NotImplementedError()\n",
    "\n",
    "def second_column(A): \n",
    "    '''\n",
    "    Parameter:\n",
    "    A -- a numpy array\n",
    "    \n",
    "    Returns:\n",
    "    the second column of A\n",
    "    '''\n",
    "    # YOUR CODE HERE\n",
    "    raise NotImplementedError()\n",
    "\n",
    "def second_row_and_column(A): \n",
    "    '''\n",
    "    Parameter:\n",
    "    A -- a numpy array\n",
    "    \n",
    "    Returns:\n",
    "    the second row and second column of A, a float\n",
    "    '''\n",
    "    # YOUR CODE HERE\n",
    "    raise NotImplementedError()"
   ]
  },
  {
   "cell_type": "code",
   "execution_count": null,
   "metadata": {
    "ExecuteTime": {
     "end_time": "2022-01-07T13:08:52.841119Z",
     "start_time": "2022-01-07T13:08:52.824148Z"
    },
    "deletable": false,
    "editable": false,
    "nbgrader": {
     "cell_type": "code",
     "checksum": "c5a5b90eee04deb847602b15bd498a23",
     "grade": true,
     "grade_id": "cell-2b915d8dee4891a9",
     "locked": true,
     "points": 1,
     "schema_version": 3,
     "solution": false,
     "task": false
    }
   },
   "outputs": [],
   "source": [
    "## this cell is for tests, please leave it as it is\n"
   ]
  },
  {
   "cell_type": "markdown",
   "metadata": {
    "deletable": false,
    "editable": false,
    "nbgrader": {
     "cell_type": "markdown",
     "checksum": "8e491df12f8ad65e6ac6760f75044c46",
     "grade": false,
     "grade_id": "cell-f4669a4f967e1533",
     "locked": true,
     "schema_version": 3,
     "solution": false,
     "task": false
    }
   },
   "source": [
    "<div class=\" alert alert-warning\">\n",
    "\n",
    "### Student Task A1.3 \n",
    "\n",
    "- Create a `numpy` array `B` of shape `(2,2)` that represents the matrix \n",
    "\\begin{pmatrix}\n",
    "1 & 2 \\\\\n",
    "3 & 4 \n",
    "\\end{pmatrix}\n",
    "- Create a `numpy` array `C` of shape `(2,2)` that represents the matrix \n",
    "\\begin{pmatrix}\n",
    "5 & 6 \\\\\n",
    "6 & 7 \n",
    "\\end{pmatrix}\n",
    "- Complete the function `matrix_mult` which reads in `numpy` arrays `B` and `C` and returns a `numpy` array that represents the [matrix multiplication](https://en.wikipedia.org/wiki/Matrix_multiplication) of the matrices represented by `B` and `C`.\n",
    "    \n",
    "</div>"
   ]
  },
  {
   "cell_type": "code",
   "execution_count": null,
   "metadata": {
    "ExecuteTime": {
     "end_time": "2022-01-07T13:08:52.858028Z",
     "start_time": "2022-01-07T13:08:52.845971Z"
    },
    "deletable": false,
    "nbgrader": {
     "cell_type": "code",
     "checksum": "acc050ba8bcb8209a370913b2ea9bf8d",
     "grade": false,
     "grade_id": "cell-ffe997addcc907e7",
     "locked": false,
     "schema_version": 3,
     "solution": true,
     "task": false
    }
   },
   "outputs": [],
   "source": [
    "## create two numpy arrays as:\n",
    "# B = ...\n",
    "# C = ...\n",
    "\n",
    "# YOUR CODE HERE\n",
    "raise NotImplementedError()\n",
    "\n",
    "def matrix_mult(B,C): \n",
    "    '''\n",
    "    Parameters:\n",
    "    B -- a numpy array\n",
    "    C -- a numpy array\n",
    "    \n",
    "    Returns:\n",
    "    the result of matrix multiplying of B and C\n",
    "    '''\n",
    "    # YOUR CODE HERE\n",
    "    raise NotImplementedError()"
   ]
  },
  {
   "cell_type": "code",
   "execution_count": null,
   "metadata": {
    "ExecuteTime": {
     "end_time": "2022-01-07T13:08:52.873584Z",
     "start_time": "2022-01-07T13:08:52.865242Z"
    },
    "deletable": false,
    "editable": false,
    "nbgrader": {
     "cell_type": "code",
     "checksum": "8a49b88181baef93daf6c93f3594fd06",
     "grade": true,
     "grade_id": "cell-732e2467559ef94d",
     "locked": true,
     "points": 1,
     "schema_version": 3,
     "solution": false,
     "task": false
    }
   },
   "outputs": [],
   "source": [
    "# this cell is for tests\n"
   ]
  },
  {
   "cell_type": "markdown",
   "metadata": {
    "deletable": false,
    "editable": false,
    "nbgrader": {
     "cell_type": "markdown",
     "checksum": "2b22d41035294134ac883e71d6476b3a",
     "grade": false,
     "grade_id": "cell-95e69469e6e32caf",
     "locked": true,
     "schema_version": 3,
     "solution": false,
     "task": false
    }
   },
   "source": [
    "<div class=\" alert alert-warning\">\n",
    "    \n",
    "### Student Task A1.4\n",
    "    \n",
    "Consider the code line `A=np.array([[1,0,0],[0,0,1]])` which creates a `numpy` array `A`. What is the shape of the `numpy` array? (Set the variable `Answer` to the index of the correct answer) \n",
    "   \n",
    "* answer 1: the shape is `(2,1)`.\n",
    "* answer 2: the shape is `(2,3)`.\n",
    "    \n",
    "</div>"
   ]
  },
  {
   "cell_type": "code",
   "execution_count": null,
   "metadata": {
    "ExecuteTime": {
     "end_time": "2022-01-07T13:08:52.885629Z",
     "start_time": "2022-01-07T13:08:52.879475Z"
    },
    "deletable": false,
    "nbgrader": {
     "cell_type": "code",
     "checksum": "7056f84d1ca7ae80672a90e0a4e17f08",
     "grade": false,
     "grade_id": "cell-d5e46c978765b8c1",
     "locked": false,
     "schema_version": 3,
     "solution": true,
     "task": false
    }
   },
   "outputs": [],
   "source": [
    "## set Answer to the index of the correct answer (e.g., Answer = 1 if you think answer 1 is correct):\n",
    "# Answer = ... # either 1 or 2\n",
    "\n",
    "# YOUR CODE HERE\n",
    "raise NotImplementedError()\n",
    "\n",
    "assert isinstance(Answer,int) # sanity check the datatype "
   ]
  },
  {
   "cell_type": "code",
   "execution_count": null,
   "metadata": {
    "ExecuteTime": {
     "end_time": "2022-01-07T13:08:52.897821Z",
     "start_time": "2022-01-07T13:08:52.890696Z"
    },
    "deletable": false,
    "editable": false,
    "nbgrader": {
     "cell_type": "code",
     "checksum": "f65fc2372d9e2d0fe1d37d5d1e557f57",
     "grade": true,
     "grade_id": "cell-8c745bf592878bc7",
     "locked": true,
     "points": 1,
     "schema_version": 3,
     "solution": false,
     "task": false
    }
   },
   "outputs": [],
   "source": [
    "# this cell is for tests\n"
   ]
  },
  {
   "cell_type": "markdown",
   "metadata": {
    "deletable": false,
    "editable": false,
    "nbgrader": {
     "cell_type": "markdown",
     "checksum": "485850940d7eec2745afea74ac8778b8",
     "grade": false,
     "grade_id": "cell-95e69464e6e32caf",
     "locked": true,
     "schema_version": 3,
     "solution": false,
     "task": false
    }
   },
   "source": [
    "<div class=\" alert alert-info\" >\n",
    "    \n",
    "### Demo\n",
    "    \n",
    "A frequently used method of ndarray is [ndarray.reshape()](https://numpy.org/doc/stable/reference/generated/numpy.ndarray.reshape.html), it returns a new shape to an array without changing its data. The mandatory parameter of `.reshape()` is 'shape' which should be the new shape represented by an int or a tuple of ints, it should be compatible with the original shape. If an integer, then the result will be a 1-D array of that length. One shape dimension can be -1, in this case, the value is inferred from the length of the array and remaining dimensions.\n",
    "</div>"
   ]
  },
  {
   "cell_type": "code",
   "execution_count": null,
   "metadata": {
    "ExecuteTime": {
     "end_time": "2022-01-07T13:08:52.912645Z",
     "start_time": "2022-01-07T13:08:52.901602Z"
    },
    "deletable": false,
    "editable": false,
    "nbgrader": {
     "cell_type": "code",
     "checksum": "982a76f2c56378f2eff1f4c719f59fb9",
     "grade": false,
     "grade_id": "cell-4828f310e646df38",
     "locked": true,
     "schema_version": 3,
     "solution": false,
     "task": false
    }
   },
   "outputs": [],
   "source": [
    "# create a 1-D numpy array\n",
    "P = np.array([1,2,3,4,5,6,7,8])  \n",
    "print('P:\\n',P)\n",
    "print('The shape of P is: ',P.shape)   \n",
    "\n",
    "# reshape P to a 2-D array, the size of the second dimension is 1, the first dimension is inferred\n",
    "P_1 = P.reshape((-1,1)) \n",
    "print('\\nP_1:\\n',P_1)\n",
    "print('The shape of P_1 is: ',P_1.shape)\n",
    "\n",
    "# reshape P to a 2-D array with the shape (2,4)\n",
    "P_2 = P.reshape((2,4))  \n",
    "print('\\nP_2:\\n',P_2)\n",
    "print('The shape of P_2 is: ',P_2.shape)"
   ]
  },
  {
   "cell_type": "markdown",
   "metadata": {
    "deletable": false,
    "editable": false,
    "nbgrader": {
     "cell_type": "markdown",
     "checksum": "c3c617b63d49492f0eae9eda055c2645",
     "grade": false,
     "grade_id": "cell-95e69466e6e32caf",
     "locked": true,
     "schema_version": 3,
     "solution": false,
     "task": false
    }
   },
   "source": [
    "<div class=\" alert alert-warning\">\n",
    "    \n",
    "### Student Task A1.5\n",
    "    \n",
    "Your task is to reshape P to a new ndarray P_test with the shape (4,2)\n",
    "    \n",
    "</div>\n"
   ]
  },
  {
   "cell_type": "code",
   "execution_count": null,
   "metadata": {
    "ExecuteTime": {
     "end_time": "2022-01-07T13:08:52.920592Z",
     "start_time": "2022-01-07T13:08:52.915322Z"
    },
    "deletable": false,
    "nbgrader": {
     "cell_type": "code",
     "checksum": "ffe847f2ed5f2a5c9bf7c3d6f1f49e12",
     "grade": false,
     "grade_id": "cell-496c2d223c75968f",
     "locked": false,
     "schema_version": 3,
     "solution": true,
     "task": false
    }
   },
   "outputs": [],
   "source": [
    "## apply the method P.rehshape() to create a new ndarray P_test with the shape (4,2) as:\n",
    "# P_test = P.reshape(...) # input: a tuple\n",
    "\n",
    "# YOUR CODE HERE\n",
    "raise NotImplementedError()\n",
    "\n",
    "print('P_test:\\n',P_test)\n",
    "print('\\nThe shape of P_test is: ', P_test.shape)"
   ]
  },
  {
   "cell_type": "code",
   "execution_count": null,
   "metadata": {
    "ExecuteTime": {
     "end_time": "2022-01-07T13:08:52.930501Z",
     "start_time": "2022-01-07T13:08:52.925275Z"
    },
    "deletable": false,
    "editable": false,
    "nbgrader": {
     "cell_type": "code",
     "checksum": "a920fcc7edb6d1964afc8e7da91f06f2",
     "grade": true,
     "grade_id": "cell-21ab5473bc31c0dc",
     "locked": true,
     "points": 1,
     "schema_version": 3,
     "solution": false,
     "task": false
    }
   },
   "outputs": [],
   "source": [
    "# this cell is for tests"
   ]
  },
  {
   "cell_type": "markdown",
   "metadata": {
    "deletable": false,
    "editable": false,
    "nbgrader": {
     "cell_type": "markdown",
     "checksum": "9e8417faf68aa4422a4b5143f0d49949",
     "grade": false,
     "grade_id": "cell-ce07c051b9fc9ddf",
     "locked": true,
     "schema_version": 3,
     "solution": false,
     "task": false
    }
   },
   "source": [
    "# Processing Data with Pandas\n",
    "\n",
    "[Pandas](https://pandas.pydata.org/docs/) provides the class `DataFrame`. A dataframe is a two-dimensional data structure, i.e., data is aligned in a tabular fashion in rows and columns. We can think of `DataFrame` a table whose rows represent individual datapoints and whose columns represent different properties (which might be features or labels) of the datapoints. \n",
    "\n",
    "We can perform basic operations on rows/columns like selecting, deleting, adding, and renaming. You can find some example use cases for `DataFrame` below. For more practice with `pandas` there is great documentation in the [10 minutes to Pandas](https://pandas.pydata.org/pandas-docs/stable/user_guide/10min.html) notebooks on their website.\n",
    "\n",
    "In what follows, we will demonstrate the usage of a `DataFrame` on data provided by the Finnish Meteorological Institute (FMI) at https://en.ilmatieteenlaitos.fi/download-observations. We have downloaded hourly weather observations at the FMI station Otsjoki Nuorgam during 01.06.2021 and 31.08.2021. The data is stored in the file `air_temp.csv` which is located in the same directory as this notebook.\n"
   ]
  },
  {
   "cell_type": "code",
   "execution_count": null,
   "metadata": {
    "ExecuteTime": {
     "end_time": "2022-01-07T13:08:52.977264Z",
     "start_time": "2022-01-07T13:08:52.933853Z"
    },
    "deletable": false,
    "editable": false,
    "nbgrader": {
     "cell_type": "code",
     "checksum": "41e2909ce5bac7113cf079cd4456296e",
     "grade": false,
     "grade_id": "cell-fc8018b370ed297c",
     "locked": true,
     "schema_version": 3,
     "solution": false,
     "task": false
    }
   },
   "outputs": [],
   "source": [
    "# read in data from the file \"air_temp.csv\" and store it \n",
    "# in the DataFrame \"df\"\n",
    "\n",
    "df = pd.read_csv('air_temp.csv')\n",
    "\n",
    "# print the first 5 weather recordings in the DataFrame `df`\n",
    "\n",
    "df.head(5)  "
   ]
  },
  {
   "cell_type": "code",
   "execution_count": null,
   "metadata": {
    "ExecuteTime": {
     "end_time": "2022-01-07T13:08:53.012283Z",
     "start_time": "2022-01-07T13:08:52.991220Z"
    },
    "deletable": false,
    "editable": false,
    "nbgrader": {
     "cell_type": "code",
     "checksum": "16dc5a69b0d8a183959e89109e43e136",
     "grade": false,
     "grade_id": "cell-80d20e86e47ed69c",
     "locked": true,
     "schema_version": 3,
     "solution": false,
     "task": false
    }
   },
   "outputs": [],
   "source": [
    "# print a concise summary of a DataFrame including the index dtype and columns, non-null values and memory usage\n",
    "\n",
    "df.info()"
   ]
  },
  {
   "cell_type": "code",
   "execution_count": null,
   "metadata": {
    "ExecuteTime": {
     "end_time": "2022-01-07T13:08:54.256449Z",
     "start_time": "2022-01-07T13:08:53.016476Z"
    },
    "deletable": false,
    "editable": false,
    "nbgrader": {
     "cell_type": "code",
     "checksum": "d5e082217f52741fe6e9fca8907793d2",
     "grade": false,
     "grade_id": "cell-fc8008b370ed297c",
     "locked": true,
     "schema_version": 3,
     "solution": false,
     "task": false
    }
   },
   "outputs": [],
   "source": [
    "# change column names\n",
    "\n",
    "df.columns=['year','month', 'day', 'time', 'time_zone','temperature'] \n",
    "\n",
    "# remove rows from dataframe \"df\" which contain missing values\n",
    "\n",
    "df = df.dropna(axis=0) #rows are considered as axis 0\n",
    "\n",
    "# concatenate the 3 columns \"year\", \"month\", \"day\" into a new column \"date\" in format e.g. 2022-01-26\n",
    "\n",
    "data = df.assign(date = df[\"year\"].astype(str)+'-'+df[\"month\"].astype(str)+'-'+df[\"day\"].astype(str))\n",
    "\n",
    "# remove columns \"year\", \"month\", \"day\", \"time_zone\" that are not used \n",
    "\n",
    "data = data.drop(['year','month','day','time_zone'],axis=1)  #columns are axis 1\n",
    "\n",
    "# switch column order\n",
    "\n",
    "data = data[['date','time','temperature']]\n",
    "\n",
    "# print the last 5 weather recordings of the new dataframe \n",
    "\n",
    "data.tail(5) "
   ]
  },
  {
   "cell_type": "code",
   "execution_count": null,
   "metadata": {
    "ExecuteTime": {
     "end_time": "2022-01-07T13:08:54.285509Z",
     "start_time": "2022-01-07T13:08:54.259960Z"
    },
    "deletable": false,
    "editable": false,
    "nbgrader": {
     "cell_type": "code",
     "checksum": "22ce603c231d3b3e02ddeafe829ff7fa",
     "grade": false,
     "grade_id": "cell-e60e6362096f0cf6",
     "locked": true,
     "schema_version": 3,
     "solution": false,
     "task": false
    }
   },
   "outputs": [],
   "source": [
    "# print some summary statistics of the rows in \"data\", such as mean, std, etc.\n",
    "\n",
    "df.describe()"
   ]
  },
  {
   "cell_type": "markdown",
   "metadata": {
    "deletable": false,
    "editable": false,
    "nbgrader": {
     "cell_type": "markdown",
     "checksum": "3266477d2ed69077bc584b241c49fe72",
     "grade": false,
     "grade_id": "cell-0664bf99478bc0e9",
     "locked": true,
     "schema_version": 3,
     "solution": false,
     "task": false
    }
   },
   "source": [
    "Sometimes we are interested in a specific column of a DataFrame, e.g. we want to use it as feature/label. we can select a single column using `dataframe['column_name']`, this will return a [Series](https://pandas.pydata.org/docs/reference/api/pandas.Series.to_numpy.html#pandas.Series.to_numpy) object. Series object has a method `Series.to_numpy()` which will give us a NumPy ndarray representing the values in this Series. You will repeatedly use this method through this course."
   ]
  },
  {
   "cell_type": "code",
   "execution_count": null,
   "metadata": {
    "ExecuteTime": {
     "end_time": "2022-01-07T13:08:54.296879Z",
     "start_time": "2022-01-07T13:08:54.288654Z"
    },
    "deletable": false,
    "editable": false,
    "nbgrader": {
     "cell_type": "code",
     "checksum": "40caf76832de053e96ebaae8bc795669",
     "grade": false,
     "grade_id": "cell-cf90d7dc8402d58a",
     "locked": true,
     "schema_version": 3,
     "solution": false,
     "task": false
    }
   },
   "outputs": [],
   "source": [
    "# Let us select only the column \"temperature\" of the DataFrame \"data\"\n",
    "tmp = data['temperature'] \n",
    "\n",
    "print(type(tmp),'\\n') # check the type of this object\n",
    "print(tmp)"
   ]
  },
  {
   "cell_type": "code",
   "execution_count": null,
   "metadata": {
    "ExecuteTime": {
     "end_time": "2022-01-07T13:08:54.308903Z",
     "start_time": "2022-01-07T13:08:54.300369Z"
    },
    "deletable": false,
    "editable": false,
    "nbgrader": {
     "cell_type": "code",
     "checksum": "0201d96c69241c28a8dcf78a5f1c2f00",
     "grade": false,
     "grade_id": "cell-3a2bd8930083b3f3",
     "locked": true,
     "schema_version": 3,
     "solution": false,
     "task": false
    }
   },
   "outputs": [],
   "source": [
    "data['temperature'].to_numpy() # extract the values stored in a specific column into a ndarray"
   ]
  },
  {
   "cell_type": "markdown",
   "metadata": {
    "deletable": false,
    "editable": false,
    "nbgrader": {
     "cell_type": "markdown",
     "checksum": "1439f2477e67829d9a2853c9fc67c0d3",
     "grade": false,
     "grade_id": "cell-90c119c45d708563",
     "locked": true,
     "schema_version": 3,
     "solution": false,
     "task": false
    }
   },
   "source": [
    "We can select a single row by using dataframe.loc[ ] or dataframe.iloc[ ], the returned object is also Series.\n",
    "dataframe.iloc[ ] and dataframe.loc[ ] in fact can be used in multiple ways to do dataframe slicing, for more details please read [the documentation](https://pandas.pydata.org/docs/reference/frame.html)."
   ]
  },
  {
   "cell_type": "code",
   "execution_count": null,
   "metadata": {
    "ExecuteTime": {
     "end_time": "2022-01-07T13:08:54.323690Z",
     "start_time": "2022-01-07T13:08:54.311981Z"
    },
    "deletable": false,
    "editable": false,
    "nbgrader": {
     "cell_type": "code",
     "checksum": "572dda4ee4e02309995adcfe6e17a521",
     "grade": false,
     "grade_id": "cell-21f795881988cc72",
     "locked": true,
     "schema_version": 3,
     "solution": false,
     "task": false
    }
   },
   "outputs": [],
   "source": [
    "# select the first weather recording (row) stored in the DataFrame \"data\"\n",
    "firstrow = data.iloc[0]  # `0` is the index of the first row\n",
    "\n",
    "print(\"The first row: \\n\",firstrow) \n",
    "\n",
    "# select the row with row label name `3` by using data.loc[ ]\n",
    "# NOTE `3` is interpreted as a row label name , not an integer position along the index\n",
    "# the row label name could be string or other data type, not only int\n",
    "rowName3 = data.loc[3] \n",
    "print(\"\\n The row with row label name '3': \\n\",rowName3) "
   ]
  },
  {
   "cell_type": "code",
   "execution_count": null,
   "metadata": {
    "ExecuteTime": {
     "end_time": "2022-01-07T13:08:54.344110Z",
     "start_time": "2022-01-07T13:08:54.328013Z"
    },
    "deletable": false,
    "editable": false,
    "nbgrader": {
     "cell_type": "code",
     "checksum": "38953fb38bac6c9e8bacd059670101f0",
     "grade": false,
     "grade_id": "cell-85df995348f6ed3a",
     "locked": true,
     "schema_version": 3,
     "solution": false,
     "task": false
    }
   },
   "outputs": [],
   "source": [
    "# we can select a subset of a DataFrame on some condition and create a new DataFrame\n",
    "\n",
    "# create a \"newdataset\" which consists only of weather recordings in \"data\" at \"time\" `03:00`\n",
    "newdataset= data[data['time'] == '03:00'] ; \n",
    "\n",
    "# print randomly selected five weather recordings (rows) of \"newdataset\"\n",
    "newdataset.sample(5) "
   ]
  },
  {
   "cell_type": "markdown",
   "metadata": {
    "deletable": false,
    "editable": false,
    "nbgrader": {
     "cell_type": "markdown",
     "checksum": "1d1ad3ed001562d0aa94be59e432d88d",
     "grade": false,
     "grade_id": "cell-0dac08dc476caf9f",
     "locked": true,
     "schema_version": 3,
     "solution": false,
     "task": false
    }
   },
   "source": [
    "# Preparing Features and Labels from DataFrame"
   ]
  },
  {
   "cell_type": "markdown",
   "metadata": {
    "ExecuteTime": {
     "end_time": "2021-12-20T07:56:48.798882Z",
     "start_time": "2021-12-20T07:56:48.783955Z"
    },
    "deletable": false,
    "editable": false,
    "nbgrader": {
     "cell_type": "markdown",
     "checksum": "87cabb9a46098ec379996ca0407c2a90",
     "grade": false,
     "grade_id": "cell-ee62dc21349b1342",
     "locked": true,
     "schema_version": 3,
     "solution": false,
     "task": false
    }
   },
   "source": [
    "<div class=\" alert alert-info\" >\n",
    "\n",
    "## Demo\n",
    "\n",
    "Consider the weather observations recorded in `air_temp.csv` and loaded into the dataframe `data`. Let us now demonstrate how to define datapoints, their features and labels based on these weather observations. It is important to note that the choice (definition) of datapoints, their features and labels are design choices. \n",
    "    \n",
    "We like to define a datapoint to represent an entire day, e.g., \n",
    "* first datapoint represents the day `2021-06-01`,\n",
    "* second datapoint represents the day `2021-06-02`,\n",
    "* third datapoint represents the day `2021-06-03`, \n",
    "* ...\n",
    "\n",
    "The total number $m$ of datapoints is the number of days for which `data` contains weather recordings for daytime `01:00` and `12:00`. \n",
    "    \n",
    "We characterize the $i$-th datapoint (day) using \n",
    "* the temperature recorded at 01:00 during the $i$th day as its feature $x^{(i)}$\n",
    "* the temperature recorded at 12:00 during the $i$th day as its label $y^{(i)}$\n",
    "\n",
    "We store the feature values $x^{(i)},i=1,\\ldots,m$ in a (two-dimensional) numpy array `X_demo` with shape `(m,1)`. The feature value $x^{(i)}$ is stored in the entry `X_demo[i-1,0]` (note that indexing of numpy arrays starts with 0!). The label values $y^{(i)},i=1,\\ldots,m$ are stored in a (one-dimensional) numpy array `y_demo` with shape `(m,)`. Finally, we generate a scatterplot where the $i$th datapoint is depicted by a dot located at coordinates $\\big(x^{(i)},y^{(i)}\\big)$. \n",
    "\n",
    "HINT: Reshape `X_demo` into a 2-D array by using array.reshape(-1, 1). This asks numpy to make the second dimension length one and automatically calculate the needed length of the first dimension so that the feature fits in the container which expects a 2-D array. (e.g.,the  .fit() method of [LinearRegression](https://scikit-learn.org/stable/modules/generated/sklearn.linear_model.LinearRegression.html#sklearn.linear_model.LinearRegression.fit))\n",
    "</div>"
   ]
  },
  {
   "cell_type": "code",
   "execution_count": null,
   "metadata": {
    "ExecuteTime": {
     "end_time": "2022-01-07T13:08:54.601081Z",
     "start_time": "2022-01-07T13:08:54.348124Z"
    },
    "deletable": false,
    "editable": false,
    "nbgrader": {
     "cell_type": "code",
     "checksum": "e6a1fb3c8a9e59b6066d2673588c563f",
     "grade": false,
     "grade_id": "cell-05cd614948ab74ec",
     "locked": true,
     "schema_version": 3,
     "solution": false,
     "task": false
    }
   },
   "outputs": [],
   "source": [
    "# create a list containing the dates for which at least one recording is contained in \"data\"\n",
    "dates = data['date'].unique() \n",
    "\n",
    "features = []   # list used for storing features of datapoints\n",
    "labels = []     # list used for storing labels of datapoints\n",
    "\n",
    "m = 0    # number of datapoints created so far\n",
    "\n",
    "# iterate through the list of dates for which we have weather recordings\n",
    "for date in dates:\n",
    "    datapoint = data[(data['date']==date)]  # select weather recordinds corresponding at day \"date\"\n",
    "    row_f = datapoint[(datapoint.time=='01:00')]    # select weather recording at time \"01:00\"\n",
    "    row_l = datapoint[(datapoint.time=='12:00')]    # select weather recording at time \"12:00\"\n",
    "    if len(row_f)==1 and len(row_l)==1:\n",
    "        feature = row_f['temperature'].to_numpy()[0]  # extract the temperature recording at \"01:00\" as feature\n",
    "        label = row_l['temperature'].to_numpy()[0]    # extract the temperature recording at \"12:00\" as label\n",
    "        features.append(feature)                  # add feature to list \"features\"\n",
    "        labels.append(label)                      # add label to list \"labels\"\n",
    "        m = m+1\n",
    "        \n",
    "X_demo = np.array(features).reshape(m,1)  # convert a list of len=m to a ndarray and reshape it to (m,1)\n",
    "y_demo = np.array(labels) # convert a list of len=m to a ndarray \n",
    "\n",
    "print(\"number of datapoints:\",m)\n",
    "print(\"the shape of the feature matrix is: \",X_demo.shape)\n",
    "print('the shape of the label vector is: ',y_demo.shape)"
   ]
  },
  {
   "cell_type": "code",
   "execution_count": null,
   "metadata": {
    "ExecuteTime": {
     "end_time": "2022-01-07T13:08:54.909067Z",
     "start_time": "2022-01-07T13:08:54.612434Z"
    },
    "deletable": false,
    "editable": false,
    "nbgrader": {
     "cell_type": "code",
     "checksum": "000ca6e2a1b12855c29093d2467b2780",
     "grade": false,
     "grade_id": "cell-8d25839bf52a5bfa",
     "locked": true,
     "schema_version": 3,
     "solution": false,
     "task": false
    }
   },
   "outputs": [],
   "source": [
    "# visualize the datapoints\n",
    "fig = plt.figure()  #create a figure\n",
    "\n",
    "ax = fig.add_subplot(1, 1, 1) #add an axes object to the figure\n",
    "\n",
    "ax.scatter(X_demo,y_demo) #plot a scatterplot in the axes to visualize the datapoints\n",
    "ax.set_xlabel('Temperature at 01:00') # set the label of x axis\n",
    "ax.set_ylabel('Temperature at 12:00') # \n",
    "ax.set_title('Tmp_01:00 vs Tmp_12:00')\n",
    "\n",
    "plt.show()\n",
    "\n",
    "# one line of code `plt.scatter(X_demo,y_demo)` without creating figure and axes objects \n",
    "# can also realize a scatter plot, but it's worth getting yourself familiar with the relation among figure, axes and plot"
   ]
  },
  {
   "cell_type": "markdown",
   "metadata": {
    "deletable": false,
    "editable": false,
    "nbgrader": {
     "cell_type": "markdown",
     "checksum": "d236276a05cd8b89a8fe03b2fa21692e",
     "grade": false,
     "grade_id": "cell-e1006521b3fdc6d8",
     "locked": true,
     "schema_version": 3,
     "solution": false,
     "task": false
    }
   },
   "source": [
    "<div class=\" alert alert-warning\">\n",
    "\n",
    "## Student Task A1.6\n",
    "\n",
    "Consider the weather observations recorded in `air_temp.csv` and loaded into the dataframe `data`. \n",
    "We define a datapoint to represent an entire day, \n",
    "* First datapoint represents the day `2021-06-01`,\n",
    "* Second datapoint represents the day `2021-06-02`,\n",
    "* Third datapoint represents the day `2021-06-03`, \n",
    "* ...\n",
    "    \n",
    "The total number $m$ of datapoints is the number of days for which `data` contains weather recordings for daytime `11:00` and `12:00`. \n",
    "    \n",
    "We characterize the $i$-th datapoint (day) using \n",
    "* The temperature recorded at 11:00 during the $i$th day as its feature $x^{(i)}$\n",
    "* The temperature recorded at 12:00 during the $i$th day as its label $y^{(i)}$\n",
    "    \n",
    "Store the feature values in a numpy array `X` of shape `(m,1)` and the label values in a numpy array `y` of shape `(m,)`. \n",
    "    \n",
    "</div>"
   ]
  },
  {
   "cell_type": "code",
   "execution_count": null,
   "metadata": {
    "ExecuteTime": {
     "end_time": "2022-01-07T13:08:55.248885Z",
     "start_time": "2022-01-07T13:08:54.916749Z"
    },
    "deletable": false,
    "nbgrader": {
     "cell_type": "code",
     "checksum": "6abec844499ffd2e8be2acb3dc8542b4",
     "grade": false,
     "grade_id": "cell-9f36d4b4cb51b88a",
     "locked": false,
     "schema_version": 3,
     "solution": true,
     "task": false
    }
   },
   "outputs": [],
   "source": [
    "## Generate your own datapoints with feature X = “tmp at 11:00” and label y = “tmp at 12:00\"\n",
    "\n",
    "# YOUR CODE HERE\n",
    "raise NotImplementedError()\n",
    "\n",
    "# Sanity check to help you detect major mistakes\n",
    "assert np.isclose(X[0,0],14.1), 'Feature matrix is incorrect'\n",
    "assert X.shape == (91,1), 'The shape of feature matrix is incorrect'\n",
    "assert y.shape == (91,), 'The shape of label vector is incorrect'"
   ]
  },
  {
   "cell_type": "code",
   "execution_count": null,
   "metadata": {
    "ExecuteTime": {
     "end_time": "2022-01-07T13:08:55.477657Z",
     "start_time": "2022-01-07T13:08:55.251158Z"
    },
    "deletable": false,
    "editable": false,
    "nbgrader": {
     "cell_type": "code",
     "checksum": "3392f92a448fa778c66f224aa9c759d0",
     "grade": true,
     "grade_id": "cell-1ebc0fd5486e2842",
     "locked": true,
     "points": 1,
     "schema_version": 3,
     "solution": false,
     "task": false
    }
   },
   "outputs": [],
   "source": [
    "#this cell is for tests, please leave it as it is.\n"
   ]
  }
 ],
 "metadata": {
  "kernelspec": {
   "display_name": "Python 3",
   "language": "python",
   "name": "python3"
  },
  "language_info": {
   "codemirror_mode": {
    "name": "ipython",
    "version": 3
   },
   "file_extension": ".py",
   "mimetype": "text/x-python",
   "name": "python",
   "nbconvert_exporter": "python",
   "pygments_lexer": "ipython3",
   "version": "3.8.6"
  },
  "latex_envs": {
   "LaTeX_envs_menu_present": true,
   "autoclose": false,
   "autocomplete": true,
   "bibliofile": "biblio.bib",
   "cite_by": "apalike",
   "current_citInitial": 1,
   "eqLabelWithNumbers": true,
   "eqNumInitial": 1,
   "hotkeys": {
    "equation": "Ctrl-E",
    "itemize": "Ctrl-I"
   },
   "labels_anchors": false,
   "latex_user_defs": false,
   "report_style_numbering": false,
   "user_envs_cfg": false
  },
  "toc": {
   "base_numbering": 1,
   "nav_menu": {},
   "number_sections": true,
   "sideBar": true,
   "skip_h1_title": false,
   "title_cell": "Table of Contents",
   "title_sidebar": "Contents",
   "toc_cell": false,
   "toc_position": {
    "height": "calc(100% - 180px)",
    "left": "10px",
    "top": "150px",
    "width": "301.17645263671875px"
   },
   "toc_section_display": true,
   "toc_window_display": false
  },
  "varInspector": {
   "cols": {
    "lenName": 16,
    "lenType": 16,
    "lenVar": 40
   },
   "kernels_config": {
    "python": {
     "delete_cmd_postfix": "",
     "delete_cmd_prefix": "del ",
     "library": "var_list.py",
     "varRefreshCmd": "print(var_dic_list())"
    },
    "r": {
     "delete_cmd_postfix": ") ",
     "delete_cmd_prefix": "rm(",
     "library": "var_list.r",
     "varRefreshCmd": "cat(var_dic_list()) "
    }
   },
   "types_to_exclude": [
    "module",
    "function",
    "builtin_function_or_method",
    "instance",
    "_Feature"
   ],
   "window_display": false
  }
 },
 "nbformat": 4,
 "nbformat_minor": 5
}
