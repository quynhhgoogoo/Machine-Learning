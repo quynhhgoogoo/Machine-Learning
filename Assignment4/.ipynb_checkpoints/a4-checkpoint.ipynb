{
 "cells": [
  {
   "cell_type": "markdown",
   "metadata": {
    "deletable": false,
    "editable": false,
    "nbgrader": {
     "cell_type": "markdown",
     "checksum": "a333931418d45fefb26369933dd60438",
     "grade": false,
     "grade_id": "cell-9ac63cfa8f732ca8",
     "locked": true,
     "schema_version": 3,
     "solution": false,
     "task": false
    }
   },
   "source": [
    "# CS-C3240 Machine Learning\n",
    "\n",
    "## Assignment 4 - Model Validation and Selection\n",
    "\n",
    "**submission deadline 11.02.2022 20:00 Helsinki time**"
   ]
  },
  {
   "cell_type": "markdown",
   "metadata": {
    "deletable": false,
    "editable": false,
    "nbgrader": {
     "cell_type": "markdown",
     "checksum": "e2204bf4181730964515627cbd0dc52b",
     "grade": false,
     "grade_id": "cell-e9b5149e0d9c95be",
     "locked": true,
     "schema_version": 3,
     "solution": false,
     "task": false
    }
   },
   "source": [
    "In the previous assignments, we simply trained and evaluated the models on all the data we had. However, the performance of a model on the **training set** of datapoints can be very misleading. In extreme cases, a complex model could even memorize the whole dataset, rendering it useless when presented with new data. What we care about in practice is the performance on a set of **unseen** datapoints, called the **validation set**, withheld from the model training. \n",
    "\n",
    "This process of evaluating the predictive capability of a ML model on the validation set is called **model validation**. It gives us a much better idea of the actual quality of the model, which we can then use to perform **model selection** - picking the best model for real world use.\n",
    "\n",
    "## Learning goals\n",
    "After successfully completing this assignment, you should: \n",
    "* Know why we need to split dataset into a **training and validation set**\n",
    "* Be able to train a model on the **training set** then compute **validation error / accuracy**\n",
    "* Know that validation can **be misleading** for small datasets\n",
    "* Be able to use **k-fold CV** as an upgraded version of a single train/val split, to avoid an unlucky split (especially for small datasets)\n",
    "* Know how to **select** between different models based on validation or average cross validation error/accuracy"
   ]
  },
  {
   "cell_type": "code",
   "execution_count": 2,
   "metadata": {
    "ExecuteTime": {
     "end_time": "2022-02-03T19:22:45.160729Z",
     "start_time": "2022-02-03T19:22:42.934882Z"
    },
    "deletable": false,
    "editable": false,
    "nbgrader": {
     "cell_type": "code",
     "checksum": "7bc66d73d175022d7fbbd638acc5b0fc",
     "grade": false,
     "grade_id": "cell-197d0fbf9cdf1880",
     "locked": true,
     "schema_version": 3,
     "solution": false,
     "task": false
    }
   },
   "outputs": [],
   "source": [
    "%config Completer.use_jedi = False  # enable code auto-completion\n",
    "import numpy as np #import numpy to work with arrays\n",
    "import pandas as pd #import pandas to manipulate the dataset\n",
    "from matplotlib import pyplot as plt #import the module matplotlib.pyplot to do visulization\n",
    "from sklearn.preprocessing import PolynomialFeatures    # function to generate polynomial and interaction features\n",
    "from sklearn.linear_model import LinearRegression, LogisticRegression\n",
    "from sklearn.svm import SVC\n",
    "from sklearn.metrics import mean_squared_error, accuracy_score    # function to calculate mean squared error "
   ]
  },
  {
   "cell_type": "markdown",
   "metadata": {
    "ExecuteTime": {
     "end_time": "2022-02-02T18:09:00.187747Z",
     "start_time": "2022-02-02T18:08:58.139774Z"
    },
    "deletable": false,
    "editable": false,
    "nbgrader": {
     "cell_type": "markdown",
     "checksum": "7b69db282c084b509c4cb641a9bba635",
     "grade": false,
     "grade_id": "cell-bbaa5047cf2af564",
     "locked": true,
     "schema_version": 3,
     "solution": false,
     "task": false
    }
   },
   "source": [
    "\n",
    "## Underfitting V.S. Overfitting\n",
    "Underfitting and overfitting are one of the most common ideas in Machine Learnig, essential for understanding why model validation is necessary. In case you have not seen it yet, you can find a demo notebook and a video of the presentation on the topic done by Yu in the Diagnosing ML lecture from Wed. 26.01. in [MyCourses](https://mycourses.aalto.fi/course/view.php?id=33626&section=2)"
   ]
  },
  {
   "cell_type": "markdown",
   "metadata": {
    "deletable": false,
    "editable": false,
    "nbgrader": {
     "cell_type": "markdown",
     "checksum": "db321a03400f1a88a070f3372da5bf2d",
     "grade": false,
     "grade_id": "cell-977899e3d7739e11",
     "locked": true,
     "schema_version": 3,
     "solution": false,
     "task": false
    }
   },
   "source": [
    "## Dataset for your task\n",
    "We are going to reuse the dataset we have been working with in the previous assignments. The code below (up to the _'Student Task A4.1'_ section) loads and prepares the data and is exactly the same as in task _A2.1_."
   ]
  },
  {
   "cell_type": "code",
   "execution_count": 3,
   "metadata": {
    "ExecuteTime": {
     "end_time": "2022-02-03T19:22:45.201610Z",
     "start_time": "2022-02-03T19:22:45.164063Z"
    },
    "deletable": false,
    "editable": false,
    "nbgrader": {
     "cell_type": "code",
     "checksum": "19874af30633a23c83ef6c2db78372d6",
     "grade": false,
     "grade_id": "cell-fd7a3dd09d63d0f2",
     "locked": true,
     "schema_version": 3,
     "solution": false,
     "task": false
    }
   },
   "outputs": [
    {
     "data": {
      "text/html": [
       "<div>\n",
       "<style scoped>\n",
       "    .dataframe tbody tr th:only-of-type {\n",
       "        vertical-align: middle;\n",
       "    }\n",
       "\n",
       "    .dataframe tbody tr th {\n",
       "        vertical-align: top;\n",
       "    }\n",
       "\n",
       "    .dataframe thead th {\n",
       "        text-align: right;\n",
       "    }\n",
       "</style>\n",
       "<table border=\"1\" class=\"dataframe\">\n",
       "  <thead>\n",
       "    <tr style=\"text-align: right;\">\n",
       "      <th></th>\n",
       "      <th>year</th>\n",
       "      <th>m</th>\n",
       "      <th>d</th>\n",
       "      <th>time</th>\n",
       "      <th>max temperature</th>\n",
       "      <th>min temperature</th>\n",
       "    </tr>\n",
       "  </thead>\n",
       "  <tbody>\n",
       "    <tr>\n",
       "      <th>0</th>\n",
       "      <td>2020</td>\n",
       "      <td>1</td>\n",
       "      <td>1</td>\n",
       "      <td>00:00</td>\n",
       "      <td>3.4</td>\n",
       "      <td>-2.6</td>\n",
       "    </tr>\n",
       "    <tr>\n",
       "      <th>1</th>\n",
       "      <td>2020</td>\n",
       "      <td>1</td>\n",
       "      <td>1</td>\n",
       "      <td>06:00</td>\n",
       "      <td>NaN</td>\n",
       "      <td>NaN</td>\n",
       "    </tr>\n",
       "    <tr>\n",
       "      <th>2</th>\n",
       "      <td>2020</td>\n",
       "      <td>1</td>\n",
       "      <td>2</td>\n",
       "      <td>00:00</td>\n",
       "      <td>5.1</td>\n",
       "      <td>1.8</td>\n",
       "    </tr>\n",
       "    <tr>\n",
       "      <th>3</th>\n",
       "      <td>2020</td>\n",
       "      <td>1</td>\n",
       "      <td>2</td>\n",
       "      <td>06:00</td>\n",
       "      <td>NaN</td>\n",
       "      <td>NaN</td>\n",
       "    </tr>\n",
       "    <tr>\n",
       "      <th>4</th>\n",
       "      <td>2020</td>\n",
       "      <td>1</td>\n",
       "      <td>3</td>\n",
       "      <td>00:00</td>\n",
       "      <td>5.7</td>\n",
       "      <td>4.3</td>\n",
       "    </tr>\n",
       "  </tbody>\n",
       "</table>\n",
       "</div>"
      ],
      "text/plain": [
       "   year  m  d   time  max temperature  min temperature\n",
       "0  2020  1  1  00:00              3.4             -2.6\n",
       "1  2020  1  1  06:00              NaN              NaN\n",
       "2  2020  1  2  00:00              5.1              1.8\n",
       "3  2020  1  2  06:00              NaN              NaN\n",
       "4  2020  1  3  00:00              5.7              4.3"
      ]
     },
     "execution_count": 3,
     "metadata": {},
     "output_type": "execute_result"
    }
   ],
   "source": [
    "# Read in the data stored in the file 'FMIData_Assignment4.csv'\n",
    "df = pd.read_csv('FMIData_Assignment4.csv')\n",
    "df.drop(columns=['Time zone','Precipitation amount (mm)','Snow depth (cm)','Air temperature (degC)',\\\n",
    "                 'Ground minimum temperature (degC)'],inplace=True)  # drop unrelevant columns\n",
    "df.columns =['year','m','d','time','max temperature','min temperature'] # rename columns \n",
    "\n",
    "# Print the first 5 rows of the DataFrame 'df'\n",
    "df.head(5)"
   ]
  },
  {
   "cell_type": "code",
   "execution_count": 4,
   "metadata": {
    "ExecuteTime": {
     "end_time": "2022-02-03T19:22:45.219044Z",
     "start_time": "2022-02-03T19:22:45.207426Z"
    },
    "deletable": false,
    "editable": false,
    "nbgrader": {
     "cell_type": "code",
     "checksum": "c099d13a73d3180d834a53456744ee4e",
     "grade": false,
     "grade_id": "cell-f56cf094eb4676ef",
     "locked": true,
     "schema_version": 3,
     "solution": false,
     "task": false
    }
   },
   "outputs": [],
   "source": [
    "# Select only weather recordings whose property 'time' is equal to `00:00`\n",
    "FMIRawData = df[df['time'] == '00:00']\n",
    "\n",
    "# Create the feature and label vectors\n",
    "X = FMIRawData['min temperature'].to_numpy().reshape(-1, 1)\n",
    "y = FMIRawData['max temperature'].to_numpy()"
   ]
  },
  {
   "cell_type": "markdown",
   "metadata": {
    "deletable": false,
    "editable": false,
    "nbgrader": {
     "cell_type": "markdown",
     "checksum": "aaa9ab60ed50d28ff0eb33bd104991db",
     "grade": false,
     "grade_id": "cell-4c0f94c3eaf4da1d",
     "locked": true,
     "schema_version": 3,
     "solution": false,
     "task": false
    }
   },
   "source": [
    "<div class=\" alert alert-warning\">\n",
    "\n",
    "# Student Task A4.1: Generate Training set and Validation Set.\n",
    "   \n",
    "YOUR TASK is to use the function <a href=\"https://scikit-learn.org/stable/modules/generated/sklearn.model_selection.train_test_split.html\">train_test_split()</a> provided by Scikit-learn's `model_selection` module to split the dataset into a training and validation set. \n",
    "\n",
    "This function takes as input the original feature matrix `X` and label vector `y` and outputs the feature matrices and label vectors of the training- and validation sets in the order `X_train, X_val, y_train, y_val`. Moreover, the function takes additional input parameters that specify how the data should be split. In this case, you should set the parameters `test_size=0.33` and `random_state=42`. The parameter `test_size` indicates the proportion of the dataset that is used as the validation(/test) set,please set it to`test_size=0.33`\n",
    "    \n",
    "</div>"
   ]
  },
  {
   "cell_type": "code",
   "execution_count": 5,
   "metadata": {
    "ExecuteTime": {
     "end_time": "2022-02-03T19:22:45.231440Z",
     "start_time": "2022-02-03T19:22:45.223942Z"
    },
    "deletable": false,
    "nbgrader": {
     "cell_type": "code",
     "checksum": "fb23c61f88d07bce0a627c707dd6e562",
     "grade": false,
     "grade_id": "cell-d8956685595a8a38",
     "locked": false,
     "schema_version": 3,
     "solution": true,
     "task": false
    }
   },
   "outputs": [
    {
     "ename": "NotImplementedError",
     "evalue": "",
     "output_type": "error",
     "traceback": [
      "\u001b[0;31m---------------------------------------------------------------------------\u001b[0m",
      "\u001b[0;31mNotImplementedError\u001b[0m                       Traceback (most recent call last)",
      "\u001b[0;32m<ipython-input-5-a69e9b78bb72>\u001b[0m in \u001b[0;36m<module>\u001b[0;34m\u001b[0m\n\u001b[1;32m      6\u001b[0m \u001b[0;34m\u001b[0m\u001b[0m\n\u001b[1;32m      7\u001b[0m \u001b[0;31m# YOUR CODE HERE\u001b[0m\u001b[0;34m\u001b[0m\u001b[0;34m\u001b[0m\u001b[0;34m\u001b[0m\u001b[0m\n\u001b[0;32m----> 8\u001b[0;31m \u001b[0;32mraise\u001b[0m \u001b[0mNotImplementedError\u001b[0m\u001b[0;34m(\u001b[0m\u001b[0;34m)\u001b[0m\u001b[0;34m\u001b[0m\u001b[0;34m\u001b[0m\u001b[0m\n\u001b[0m",
      "\u001b[0;31mNotImplementedError\u001b[0m: "
     ]
    }
   ],
   "source": [
    "from sklearn.model_selection import train_test_split \n",
    "\n",
    "\n",
    "# Split the dataset into a training set and a validation set like:\n",
    "# X_train, X_val, y_train, y_val = ....\n",
    "\n",
    "# YOUR CODE HERE\n",
    "raise NotImplementedError()"
   ]
  },
  {
   "cell_type": "code",
   "execution_count": null,
   "metadata": {
    "ExecuteTime": {
     "end_time": "2022-02-03T19:22:45.242095Z",
     "start_time": "2022-02-03T19:22:45.235057Z"
    },
    "deletable": false,
    "editable": false,
    "nbgrader": {
     "cell_type": "code",
     "checksum": "4dc98b280c6a88c9aed5e71776cf5f99",
     "grade": false,
     "grade_id": "cell-86a6ac2ac41de08c",
     "locked": true,
     "schema_version": 3,
     "solution": false,
     "task": false
    }
   },
   "outputs": [],
   "source": [
    "# Sanity check the percentage of the validation data up to 1%\n",
    "assert np.isclose(0.33, X_val.shape[0] / X.shape[0], atol=0.01)"
   ]
  },
  {
   "cell_type": "code",
   "execution_count": null,
   "metadata": {
    "ExecuteTime": {
     "end_time": "2022-02-03T19:22:45.255294Z",
     "start_time": "2022-02-03T19:22:45.245486Z"
    },
    "deletable": false,
    "editable": false,
    "nbgrader": {
     "cell_type": "code",
     "checksum": "50ec41c71bd2d5e50a929554d4d43605",
     "grade": true,
     "grade_id": "cell-12312ec5b9a6e088",
     "locked": true,
     "points": 1,
     "schema_version": 3,
     "solution": false,
     "task": false
    }
   },
   "outputs": [],
   "source": [
    "# this test cell is for A4.1\n"
   ]
  },
  {
   "cell_type": "markdown",
   "metadata": {
    "deletable": false,
    "editable": false,
    "nbgrader": {
     "cell_type": "markdown",
     "checksum": "af846f4b1a7295578f364e1882b8ca83",
     "grade": false,
     "grade_id": "cell-264b50642fb6240b",
     "locked": true,
     "schema_version": 3,
     "solution": false,
     "task": false
    }
   },
   "source": [
    "Here we create the `y_..._train, y_..._val` label vectors for the binary and multilass classification versions of the temperature problem, similarly to the code preparing _A3.1_ and _A3.4_. We will use the `X_train, X_val` feature matrices for regression and both of the classification tasks."
   ]
  },
  {
   "cell_type": "markdown",
   "metadata": {
    "deletable": false,
    "editable": false,
    "nbgrader": {
     "cell_type": "markdown",
     "checksum": "c20bef635c3bdc1b218b8fcc1912fc48",
     "grade": false,
     "grade_id": "cell-92dd8497dc066c64",
     "locked": true,
     "schema_version": 3,
     "solution": false,
     "task": false
    }
   },
   "source": [
    "## Models for your task\n",
    "We will use the models we trained previously - Polynomial regressors from Assignment 2, and Logistic regressors from Assignment 3. The code for training them is copied directly from _A2.3_ and _A3.1_, with gaps left for calculating the validation results.   "
   ]
  },
  {
   "cell_type": "markdown",
   "metadata": {
    "deletable": false,
    "editable": false,
    "nbgrader": {
     "cell_type": "markdown",
     "checksum": "81e3e40ba0430eac0f3ee28eb89999ab",
     "grade": false,
     "grade_id": "cell-a38833edb5eb26f8",
     "locked": true,
     "schema_version": 3,
     "solution": false,
     "task": false
    }
   },
   "source": [
    "<div class=\" alert alert-warning\">\n",
    "\n",
    "# Student Task A4.2: \n",
    "    \n",
    "Fill the below code training Polynomial regression models to also report train and validation errors. Use the [mean_squared_error()](https://scikit-learn.org/stable/modules/model_evaluation.html#mean-squared-error) function, same as in Assignment 2\n",
    "   \n",
    "</div>"
   ]
  },
  {
   "cell_type": "code",
   "execution_count": null,
   "metadata": {
    "ExecuteTime": {
     "end_time": "2022-02-03T19:22:47.689820Z",
     "start_time": "2022-02-03T19:22:45.259045Z"
    },
    "deletable": false,
    "nbgrader": {
     "cell_type": "code",
     "checksum": "3806f42a4073552c0c8e3a93499c77e2",
     "grade": false,
     "grade_id": "cell-51752c63f722862b",
     "locked": false,
     "schema_version": 3,
     "solution": true,
     "task": false
    }
   },
   "outputs": [],
   "source": [
    "## define a list of values for the maximum polynomial degree \n",
    "degrees = [3, 5, 10]    \n",
    "\n",
    "# we will use this variable to store the resulting training errors for each polynomial degree\n",
    "tr_errors = []          \n",
    "val_errors = []\n",
    "\n",
    "plt.figure(figsize=(8, 20))    # create a new figure with size 8*20\n",
    "for i, degree in enumerate(degrees):    # use for-loop to fit polynomial regression models with different degrees\n",
    "    plt.subplot(len(degrees), 1, i + 1)    # choose the subplot\n",
    "    \n",
    "    lin_regr = LinearRegression(fit_intercept=False) # NOTE: \"fit_intercept=False\" as we already have a constant iterm in the new feature X_poly\n",
    " \n",
    "    poly = PolynomialFeatures(degree=degree)    # generate polynomial features\n",
    "    X_train_poly = poly.fit_transform(X_train)    # fit and transform the raw features\n",
    "    lin_regr.fit(X_train_poly, y_train)    # apply linear regression to these new features and labels\n",
    "    \n",
    "    # y_pred_train = ...    # predict values for the training data using the linear model\n",
    "    # tr_error = ...        # calculate the training error\n",
    "    # X_val_poly = ...      # transform the raw features for the validation data \n",
    "    # y_pred_val = ...      # predict values for the validation data using the linear model \n",
    "    # val_error = ...       # calculate the validation error\n",
    "    \n",
    "    # YOUR CODE HERE\n",
    "    raise NotImplementedError()\n",
    "    \n",
    "    # sanity check the feature matrix is transformed correctly\n",
    "    assert X_val_poly.shape == (X_val.shape[0], degree + 1), \"The dimension of new feature vector is incorrect\" \n",
    "    # sanity check the error values\n",
    "    assert 8 < tr_error < 12 and 8 < val_error < 12\n",
    "    \n",
    "    tr_errors.append(tr_error)\n",
    "    val_errors.append(val_error)\n",
    "    X_fit = np.linspace(-25, 25, 100)    # generate samples\n",
    "    plt.tight_layout()\n",
    "    plt.plot(X_fit, lin_regr.predict(poly.transform(X_fit.reshape(-1, 1))), label=\"Model\")    # plot the polynomial regression model\n",
    "    plt.scatter(X_train, y_train, color=\"b\", s=10, label=\"Train Datapoints\")    # plot a scatter plot of y(maxtmp) vs. X(mintmp) with color 'blue' and size '10'\n",
    "    plt.scatter(X_val, y_val, color=\"r\", s=10, label=\"Validation Datapoints\")    # do the same for validation data with color 'red'\n",
    "    plt.xlabel('mintmp')    # set the label for the x/y-axis\n",
    "    plt.ylabel('maxtmp')\n",
    "    plt.legend(loc=\"best\")    # set the location of the legend\n",
    "    plt.title(f'Polynomial degree = {degree}\\nTraining error = {tr_error:.5}\\nValidation error = {val_error:.5}')    # set the title\n",
    "plt.show()    # show the plot\n",
    "\n",
    "# sanity check the length of array tr_errors\n",
    "assert len(tr_errors) == len(val_errors) == len(degrees)"
   ]
  },
  {
   "cell_type": "code",
   "execution_count": null,
   "metadata": {
    "ExecuteTime": {
     "end_time": "2022-02-03T19:22:47.935561Z",
     "start_time": "2022-02-03T19:22:47.693947Z"
    },
    "deletable": false,
    "editable": false,
    "nbgrader": {
     "cell_type": "code",
     "checksum": "e633bbc68e9d8aab3850a0428b765cab",
     "grade": false,
     "grade_id": "cell-4b76ecca38661ec1",
     "locked": true,
     "schema_version": 3,
     "solution": false,
     "task": false
    }
   },
   "outputs": [],
   "source": [
    "plt.figure(figsize=(8, 6))\n",
    "\n",
    "plt.plot(degrees, tr_errors, label = 'Train')\n",
    "plt.plot(degrees, val_errors,label = 'Valid')\n",
    "plt.legend(loc = 'upper left')\n",
    "\n",
    "plt.xlabel('Degree')\n",
    "plt.ylabel('Loss')\n",
    "plt.title('Train vs validation loss')\n",
    "plt.show()"
   ]
  },
  {
   "cell_type": "code",
   "execution_count": null,
   "metadata": {
    "ExecuteTime": {
     "end_time": "2022-02-03T19:22:47.962953Z",
     "start_time": "2022-02-03T19:22:47.940704Z"
    },
    "deletable": false,
    "editable": false,
    "nbgrader": {
     "cell_type": "code",
     "checksum": "fdc3489c5dd84192713c7e5348a2d55c",
     "grade": true,
     "grade_id": "cell-a8de789b6ba917cc",
     "locked": true,
     "points": 1,
     "schema_version": 3,
     "solution": false,
     "task": false
    }
   },
   "outputs": [],
   "source": [
    "# this test cell is for A4.2\n"
   ]
  },
  {
   "cell_type": "code",
   "execution_count": null,
   "metadata": {
    "deletable": false,
    "editable": false,
    "nbgrader": {
     "cell_type": "code",
     "checksum": "a2346ae16ac415fca5601152539a5002",
     "grade": true,
     "grade_id": "cell-db97cc981c869c5a",
     "locked": true,
     "points": 1,
     "schema_version": 3,
     "solution": false,
     "task": false
    }
   },
   "outputs": [],
   "source": [
    "# this test cell is for A4.2"
   ]
  },
  {
   "cell_type": "markdown",
   "metadata": {
    "deletable": false,
    "editable": false,
    "nbgrader": {
     "cell_type": "markdown",
     "checksum": "b082c2500419fd41aabb80e445321c41",
     "grade": false,
     "grade_id": "cell-6806325a0b115ca8",
     "locked": true,
     "schema_version": 3,
     "solution": false,
     "task": false
    }
   },
   "source": [
    "<div class=\" alert alert-warning\">\n",
    "\n",
    "# Student Task A4.3 \n",
    "\n",
    "Answer the following quiz questions by setting the corresponding variable to the index of the answer that you consider correct. \n",
    "    \n",
    "Question 1: Which of the models from A4.2 would you recommend based on the validation error?\n",
    "- Answer 1: Degree 3 \n",
    "- Answer 2: Degree 5\n",
    "- Answer 3: Degree 10\n",
    "\n",
    "Question 2: Which of the models from A4.2 seems to overfit the data the most?\n",
    "- Answer 1: Degree 3 \n",
    "- Answer 2: Degree 5\n",
    "- Answer 3: Degree 10\n",
    "- Answer 4: None\n",
    "</div>"
   ]
  },
  {
   "cell_type": "code",
   "execution_count": null,
   "metadata": {
    "ExecuteTime": {
     "end_time": "2022-02-03T19:22:47.978679Z",
     "start_time": "2022-02-03T19:22:47.968219Z"
    },
    "deletable": false,
    "nbgrader": {
     "cell_type": "code",
     "checksum": "2029c7f7c62db8bbb4ae15844ae7de56",
     "grade": false,
     "grade_id": "cell-75dea6b0d2c6fe77",
     "locked": false,
     "schema_version": 3,
     "solution": true,
     "task": false
    }
   },
   "outputs": [],
   "source": [
    "## set Answer_Q1 to the index (starting from 1 !!!) of the correct answer (e.g., Answer_Q1=1 if you think Answer 1 is correct)\n",
    "# Answer_Q1  = ...  \n",
    "\n",
    "## set Answer_Q2 to the index of the correct answer for Question 2 \n",
    "# (e.g., write \"Answer_Q2=1\" if you think Answer 1 is correct)\n",
    "\n",
    "# Answer_Q2 = ...   \n",
    "\n",
    "# YOUR CODE HERE\n",
    "raise NotImplementedError()"
   ]
  },
  {
   "cell_type": "code",
   "execution_count": null,
   "metadata": {
    "ExecuteTime": {
     "end_time": "2022-02-03T19:22:47.993020Z",
     "start_time": "2022-02-03T19:22:47.986504Z"
    },
    "deletable": false,
    "editable": false,
    "nbgrader": {
     "cell_type": "code",
     "checksum": "d75060a1207725f50e1e35b73be9d3ba",
     "grade": false,
     "grade_id": "cell-b1200351d91ea8b7",
     "locked": true,
     "schema_version": 3,
     "solution": false,
     "task": false
    }
   },
   "outputs": [],
   "source": [
    "# sanity check datatype of Answer_Q1\n",
    "assert isinstance(Answer_Q1, int), \"Please use datatype 'int' for your answer\"\n",
    "assert isinstance(Answer_Q2, int), \"Please use datatype 'int' for your answer\""
   ]
  },
  {
   "cell_type": "code",
   "execution_count": null,
   "metadata": {
    "ExecuteTime": {
     "end_time": "2022-02-03T19:22:48.025582Z",
     "start_time": "2022-02-03T19:22:48.015286Z"
    },
    "deletable": false,
    "editable": false,
    "nbgrader": {
     "cell_type": "code",
     "checksum": "3b814953770af05ecbf900c910a0e6a6",
     "grade": true,
     "grade_id": "cell-c9c9817ac2ec3e4a",
     "locked": true,
     "points": 1,
     "schema_version": 3,
     "solution": false,
     "task": false
    }
   },
   "outputs": [],
   "source": [
    "# this cell is for tests for A4.3"
   ]
  },
  {
   "cell_type": "code",
   "execution_count": null,
   "metadata": {
    "ExecuteTime": {
     "end_time": "2022-02-03T19:22:48.036212Z",
     "start_time": "2022-02-03T19:22:48.029055Z"
    },
    "deletable": false,
    "editable": false,
    "nbgrader": {
     "cell_type": "code",
     "checksum": "ec3302608a0e9fa1e11eebf8f448b651",
     "grade": true,
     "grade_id": "cell-8c9a17ee0ac9bf2e",
     "locked": true,
     "points": 1,
     "schema_version": 3,
     "solution": false,
     "task": false
    }
   },
   "outputs": [],
   "source": [
    "# this cell is for tests for A4.3"
   ]
  },
  {
   "cell_type": "markdown",
   "metadata": {
    "deletable": false,
    "editable": false,
    "nbgrader": {
     "cell_type": "markdown",
     "checksum": "62b96529c835fcadcb9b2e7ada9da26b",
     "grade": false,
     "grade_id": "cell-ae30f7889d605334",
     "locked": true,
     "schema_version": 3,
     "solution": false,
     "task": false
    }
   },
   "source": [
    "<div class=\" alert alert-warning\">\n",
    "\n",
    "# Student Task A4.4\n",
    "Train two different classifiers and evaluate them on both training set and validation set:\n",
    "    \n",
    "    \n",
    "* By minimising different losses, **logistic loss** and **hinge loss**, find the optimal hypothesis function $h(x)$ from the same hypothesis space, in particular, the span of a set of linear maps we have been repeatedly using for our previous assignments.\n",
    "    \n",
    "   Sklearn classes [LogisticRegression](https://scikit-learn.org/stable/modules/generated/sklearn.linear_model.LogisticRegression.html) and [SVC](https://scikit-learn.org/stable/modules/generated/sklearn.svm.SVC.html) provides the methods you need to complete model training and label predicting.\n",
    "    \n",
    "\n",
    "* Calculate the train and validation accuracy (average **0/1 loss**) for both models. The function [accuracy_score()](https://scikit-learn.org/stable/modules/generated/sklearn.metrics.accuracy_score.html) has been imported for you in the beginning of this notebook.\n",
    "\n",
    "We will use a subset from the dataset you have seen in A3, for each datapoint, the feature is min temperature at 00:00, the label is the corresponding binarized max temperature at 00:00.\n",
    "</div>"
   ]
  },
  {
   "cell_type": "code",
   "execution_count": null,
   "metadata": {
    "ExecuteTime": {
     "end_time": "2022-02-03T19:22:48.059595Z",
     "start_time": "2022-02-03T19:22:48.040742Z"
    },
    "deletable": false,
    "editable": false,
    "nbgrader": {
     "cell_type": "code",
     "checksum": "509475a2c137d8023b01cb6f3e1f1c4d",
     "grade": false,
     "grade_id": "cell-ca6fe901b6d827a2",
     "locked": true,
     "schema_version": 3,
     "solution": false,
     "task": false
    }
   },
   "outputs": [],
   "source": [
    "minvalue = FMIRawData['max temperature'].min() # minimum of the column 'max temperature'\n",
    "maxvalue = FMIRawData['max temperature'].max() # maximum of the column 'max temperature'\n",
    "    \n",
    "bi_labels = [0,1] # new labels to be assigned\n",
    "bi_cut_bins = [minvalue,0,maxvalue] #cutting intervals/criteria\n",
    "\n",
    "# encode max temperatures (label) to binary labels\n",
    "y_clf = pd.cut(y, bins=bi_cut_bins,labels=bi_labels,include_lowest=True).to_numpy()\n",
    "\n",
    "# features remain same, but assign different variable name to make the names more consistent\n",
    "X_clf = np.copy(X)\n",
    "\n",
    "# Select a subset and split data into training set and validation set, NOTE: variable names are different from last task\n",
    "np.random.seed(42)\n",
    "idx = np.random.choice(np.arange(713),200) # choose 200 datapoints\n",
    "\n",
    "# Variable names: X_clf_train, X_clf_val, y_clf_train, y_clf_val are used for this classification task\n",
    "X_clf_train, X_clf_val, y_clf_train, y_clf_val = train_test_split(X_clf[idx,:], y_clf[idx], test_size=0.33, random_state=42)"
   ]
  },
  {
   "cell_type": "code",
   "execution_count": null,
   "metadata": {
    "ExecuteTime": {
     "end_time": "2022-02-03T19:22:48.071188Z",
     "start_time": "2022-02-03T19:22:48.063998Z"
    },
    "deletable": false,
    "editable": false,
    "nbgrader": {
     "cell_type": "code",
     "checksum": "7d72b631508cdd8a03e1ab48b4231b50",
     "grade": false,
     "grade_id": "cell-3d332b8780c0fbe6",
     "locked": true,
     "schema_version": 3,
     "solution": false,
     "task": false
    }
   },
   "outputs": [],
   "source": [
    "# C is the inverse of regularization strength, use a very large C to greatly weaken regularization strength\n",
    "# Use \"linear\" kernal for SVC to avoid non-linear transformation to features\n",
    "c = 100000 \n",
    "\n",
    "clf_1 = LogisticRegression(C=c)              # initialise a LogisticRegression classifier\n",
    "clf_2 = SVC(C=c,kernel=\"linear\")             # initialise a SVC classifier\n",
    "\n",
    "clfs = [clf_1,clf_2]                         # list of classifiers\n",
    "clf_names = [\"LogisticRegression\",\"SVC\"]     # list of classifier names"
   ]
  },
  {
   "cell_type": "code",
   "execution_count": null,
   "metadata": {
    "ExecuteTime": {
     "end_time": "2022-02-03T19:22:50.185303Z",
     "start_time": "2022-02-03T19:22:48.075628Z"
    },
    "deletable": false,
    "nbgrader": {
     "cell_type": "code",
     "checksum": "851bc874848539e3756482a9187c2cec",
     "grade": false,
     "grade_id": "cell-4a4035a4f7732965",
     "locked": false,
     "schema_version": 3,
     "solution": true,
     "task": false
    }
   },
   "outputs": [],
   "source": [
    "tr_accs = {} # create a dictionary to store training accuracies for both models, clf_names will be used as keys\n",
    "val_accs = {} # create a dictionary to store validation accuracies for both models, clf_names will be used as keys \n",
    "for i, clf in enumerate(clfs):\n",
    "    print(f\"classifier {i+1} is: \",clf_names[i])\n",
    "    \n",
    "    ## Train the models and calculate both training accuracies and validation accuracies\n",
    "    \n",
    "#     clf.fit(...) # train the model on training set, NOTE: valriable names are different from last task\n",
    "    \n",
    "#     y_pred_train = ... # predict the labels of training set\n",
    "#     acc_train = ... # calculate the training accuracy\n",
    "#     tr_accs[clf_names[i]] = ... # add the training accuracy to the dict\n",
    "    \n",
    "#     y_pred_val = ... # predict the labels of validation set\n",
    "#     acc_val = ... # calculate the validation accuracy\n",
    "#     val_accs[clf_names[i]] = ... # add the validation accuracy to the dict  \n",
    "\n",
    "    # YOUR CODE HERE\n",
    "    raise NotImplementedError()\n",
    "print(\"\\ntraining accuracies:\\n\",tr_accs)\n",
    "print('\\n')\n",
    "print(\"validation accuracies:\\n\",val_accs)\n",
    "\n",
    "## sanity check\n",
    "assert 0.6 < clf_1.coef_ <0.7, \"Incorrect map\"\n",
    "assert (np.fromiter(tr_accs.values(),dtype=float) > 0.92).all(), \"accuracies on training set are incorrect\""
   ]
  },
  {
   "cell_type": "code",
   "execution_count": null,
   "metadata": {
    "ExecuteTime": {
     "end_time": "2022-02-03T19:22:52.638602Z",
     "start_time": "2022-02-03T19:22:50.188912Z"
    },
    "deletable": false,
    "editable": false,
    "nbgrader": {
     "cell_type": "code",
     "checksum": "1c282ecb6977bc2081686ab265bb78f1",
     "grade": true,
     "grade_id": "cell-4173ea3b5c26ff0f",
     "locked": true,
     "points": 1,
     "schema_version": 3,
     "solution": false,
     "task": false
    }
   },
   "outputs": [],
   "source": [
    "# this test cell is for A4.4\n"
   ]
  },
  {
   "cell_type": "code",
   "execution_count": null,
   "metadata": {
    "ExecuteTime": {
     "end_time": "2022-02-03T19:22:52.675460Z",
     "start_time": "2022-02-03T19:22:52.644788Z"
    },
    "deletable": false,
    "editable": false,
    "nbgrader": {
     "cell_type": "code",
     "checksum": "64a9bd63dc91827565056b92af0b2d39",
     "grade": true,
     "grade_id": "cell-46eb57c93f1ff7a3",
     "locked": true,
     "points": 1,
     "schema_version": 3,
     "solution": false,
     "task": false
    }
   },
   "outputs": [],
   "source": [
    "# this test cell is for A4.4\n"
   ]
  },
  {
   "cell_type": "code",
   "execution_count": null,
   "metadata": {
    "ExecuteTime": {
     "end_time": "2022-02-03T19:25:12.213904Z",
     "start_time": "2022-02-03T19:25:11.715935Z"
    },
    "deletable": false,
    "editable": false,
    "nbgrader": {
     "cell_type": "code",
     "checksum": "c6fa3c09aa315ed0426ece984b21a676",
     "grade": false,
     "grade_id": "cell-7b8227f8d8f47ccc",
     "locked": true,
     "schema_version": 3,
     "solution": false,
     "task": false
    }
   },
   "outputs": [],
   "source": [
    "# plot results\n",
    "fig, axes = plt.subplots(1,3,figsize=(15,4))\n",
    "x = np.arange(2)\n",
    "y1 = list(tr_accs.values())\n",
    "y2 = list(val_accs.values())\n",
    "width = 0.2\n",
    "\n",
    "axes[0].bar(x-0.2, y1, width, color='cyan')\n",
    "axes[0].bar(x, y2, width, color='orange')\n",
    "axes[0].set_ylim(0.7, 1.1)\n",
    "axes[0].set_xticks(x)\n",
    "axes[0].set_xticklabels([\"LogisticRegression\",\"SVC\"])\n",
    "axes[0].set_ylabel(\"Accuracies\")\n",
    "axes[0].legend([\"training accuracy\", \"validation accuracy\"])\n",
    "\n",
    "X_fit = np.linspace(-22, 22, 100)\n",
    "\n",
    "axes[1].set_xlabel(\"feature(mintmp)\")\n",
    "axes[1].set_yticks([0,1])\n",
    "axes[1].set_ylabel('label (class)')\n",
    "axes[1].set_title(\"LogisticRegression\")\n",
    "axes[1].scatter(X_clf_train[:,0],y_clf_train,s=80,c=\"skyblue\",label=\"training datapoints\")\n",
    "axes[1].scatter(X_clf_val[:,0],y_clf_val,s=30,c=\"blue\",label=\"validation datapoints\")\n",
    "axes[1].scatter(X_fit, clf_1.predict(X_fit.reshape(-1, 1)),color='r',s=5,label='predicted label ($\\hat{y}=1$ if $h(x) > 0$)') \n",
    "axes[1].legend()\n",
    "\n",
    "axes[2].set_xlabel(\"feature(mintmp)\")\n",
    "axes[2].set_yticks([0,1])\n",
    "axes[2].set_ylabel('label (class)')\n",
    "axes[2].set_title(\"SVC\")\n",
    "axes[2].scatter(X_clf_train[:,0],y_clf_train,s=100,c=\"skyblue\",label=\"training datapoints\")\n",
    "axes[2].scatter(X_clf_val[:,0],y_clf_val,s=30,c=\"blue\",label=\"validation datapoints\")\n",
    "axes[2].scatter(X_fit, clf_2.predict(X_fit.reshape(-1, 1)),color='r',s=5,label='predicted label ($\\hat{y}=1$ if $h(x) > 0$)') \n",
    "axes[2].legend()\n",
    "plt.show()"
   ]
  },
  {
   "cell_type": "markdown",
   "metadata": {
    "ExecuteTime": {
     "end_time": "2022-02-02T16:26:10.217530Z",
     "start_time": "2022-02-02T16:26:10.203617Z"
    }
   },
   "source": [
    "<div class=\" alert alert-warning\">\n",
    "\n",
    "# Student Task A4.5\n",
    "\n",
    "Answer the following quiz questions by setting the corresponding variable to the index of the answer that you consider correct. \n",
    "    \n",
    "Question 1: Which of the following statements is correct?\n",
    "- Answer 1: The hypothesis spaces for LogisticRegression and SVC are different.\n",
    "- Answer 2: The loss functions used by LogisticRegression and SVC are different.\n",
    "    \n",
    "Question 2 : Which of the classifiers from A4.4 would you select?\n",
    "- Answer 1: Classifier 1, LogisticRegression model\n",
    "- Answer 2: Classifier 2, SVC model\n",
    "\n",
    "</div>"
   ]
  },
  {
   "cell_type": "code",
   "execution_count": null,
   "metadata": {
    "ExecuteTime": {
     "end_time": "2022-02-03T19:22:53.540366Z",
     "start_time": "2022-02-03T19:22:53.533864Z"
    },
    "deletable": false,
    "nbgrader": {
     "cell_type": "code",
     "checksum": "eb9ed3b4214f169a960ddbc0335077f2",
     "grade": false,
     "grade_id": "cell-2ce1578bc3ebd209",
     "locked": false,
     "schema_version": 3,
     "solution": true,
     "task": false
    }
   },
   "outputs": [],
   "source": [
    "## set Answer_Q1 to the index (starting from 1 !!!) of the correct answer (e.g., Answer_Q1=1 if you think Answer 1 is correct)\n",
    "# Answer_Q1 = ...\n",
    "# Answer_Q2 = ...\n",
    "\n",
    "# YOUR CODE HERE\n",
    "raise NotImplementedError()"
   ]
  },
  {
   "cell_type": "code",
   "execution_count": null,
   "metadata": {
    "ExecuteTime": {
     "end_time": "2022-02-03T19:22:53.552675Z",
     "start_time": "2022-02-03T19:22:53.544638Z"
    },
    "deletable": false,
    "editable": false,
    "nbgrader": {
     "cell_type": "code",
     "checksum": "4b375da27c6b90b8aa50bf226c1c7ab6",
     "grade": false,
     "grade_id": "cell-2a24d6b37e329aec",
     "locked": true,
     "schema_version": 3,
     "solution": false,
     "task": false
    }
   },
   "outputs": [],
   "source": [
    "# sanity check datatype of Answer_Q1\n",
    "assert isinstance(Answer_Q1, int), \"Please use datatype 'int' for your answer\"\n",
    "assert isinstance(Answer_Q2, int), \"Please use datatype 'int' for your answer\""
   ]
  },
  {
   "cell_type": "code",
   "execution_count": null,
   "metadata": {
    "ExecuteTime": {
     "end_time": "2022-02-03T19:22:53.569495Z",
     "start_time": "2022-02-03T19:22:53.561108Z"
    },
    "deletable": false,
    "editable": false,
    "nbgrader": {
     "cell_type": "code",
     "checksum": "af3081518f76982a2f4efaa5018847d4",
     "grade": true,
     "grade_id": "cell-2b3b49f4c72d38be",
     "locked": true,
     "points": 1,
     "schema_version": 3,
     "solution": false,
     "task": false
    }
   },
   "outputs": [],
   "source": [
    "# this is the first test cell for A4.5"
   ]
  },
  {
   "cell_type": "code",
   "execution_count": null,
   "metadata": {
    "ExecuteTime": {
     "end_time": "2022-02-03T19:22:53.597831Z",
     "start_time": "2022-02-03T19:22:53.593436Z"
    },
    "deletable": false,
    "editable": false,
    "nbgrader": {
     "cell_type": "code",
     "checksum": "6978fefa16ce2354e5d35fa19f42b5a3",
     "grade": true,
     "grade_id": "cell-413879e25bc89114",
     "locked": true,
     "points": 1,
     "schema_version": 3,
     "solution": false,
     "task": false
    }
   },
   "outputs": [],
   "source": [
    "# this is the second test cell for A4.5"
   ]
  },
  {
   "attachments": {
    "image.png": {
     "image/png": "[encoded data removed]"
    }
   },
   "cell_type": "markdown",
   "metadata": {
    "deletable": false,
    "editable": false,
    "nbgrader": {
     "cell_type": "markdown",
     "checksum": "db878bc27d41cf15d7c52bb9dad9e598",
     "grade": false,
     "grade_id": "cell-fb1b376506e4ef97",
     "locked": true,
     "schema_version": 3,
     "solution": false,
     "task": false
    }
   },
   "source": [
    "# Cross validation demo\n",
    "\n",
    "The training-validation division we introduced so far is alreday much better than making decisions based solely on the training loss or accuracy, which as we have seen can be deceiving. However, sometimes the dataset we are using is so diverse, that the small, randomly selected validation set might not capture its difficulty properly.\n",
    "\n",
    "Instead of deciding which model is best by looking only at a small portion of the data - the validation set, we can run the training multiple times. Each time we would use a different part of the dataset, so that each datapoint ends up in the validation set (withheld from the training) once, and then calculate the average results. K-fold Cross Validation is a technique allowing us to do that, and is described in the following figure: \n",
    "\n",
    "![image.png](attachment:image.png)\n",
    "\n",
    "Note that when using K-fold CV, we have to run the training K times - which is fine for the regression models we have been using so far, but usually infeasible for more complex ML methods which take a long time to train, such as Neural Networks.\n",
    "For more explanation, see the [Machine Learning Book](http://mlbook.cs.aalto.fi/), chapter 6.2.2\n"
   ]
  },
  {
   "cell_type": "code",
   "execution_count": null,
   "metadata": {
    "ExecuteTime": {
     "end_time": "2022-02-03T19:22:53.612849Z",
     "start_time": "2022-02-03T19:22:53.607827Z"
    },
    "deletable": false,
    "editable": false,
    "nbgrader": {
     "cell_type": "code",
     "checksum": "44df05801e4cd65a98f6530305eadb8a",
     "grade": false,
     "grade_id": "cell-0abc3bf5a94b73f3",
     "locked": true,
     "schema_version": 3,
     "solution": false,
     "task": false
    }
   },
   "outputs": [],
   "source": [
    "from sklearn.model_selection import KFold"
   ]
  },
  {
   "cell_type": "code",
   "execution_count": null,
   "metadata": {
    "ExecuteTime": {
     "end_time": "2022-02-03T19:22:53.641584Z",
     "start_time": "2022-02-03T19:22:53.618856Z"
    },
    "deletable": false,
    "editable": false,
    "nbgrader": {
     "cell_type": "code",
     "checksum": "31bc866177200916d4e8b570cc487cd1",
     "grade": false,
     "grade_id": "cell-5e9d156809b58a3e",
     "locked": true,
     "schema_version": 3,
     "solution": false,
     "task": false
    }
   },
   "outputs": [],
   "source": [
    "# Defining the kfold object we will use for cross validation\n",
    "k, shuffle, seed = 3, True, 42\n",
    "kfold = KFold(n_splits=k, shuffle=shuffle, random_state=seed)"
   ]
  },
  {
   "cell_type": "markdown",
   "metadata": {
    "deletable": false,
    "editable": false,
    "nbgrader": {
     "cell_type": "markdown",
     "checksum": "26b2008027b3acbfad7fc55f7c3ef90b",
     "grade": false,
     "grade_id": "cell-900acf9f32cbd29b",
     "locked": true,
     "schema_version": 3,
     "solution": false,
     "task": false
    }
   },
   "source": [
    "The code below is largly the same as in A4.2, but note that we now use the kfold indices instead of the previous train test split, and we have multiple (`k`, to be precise) iterations per degree."
   ]
  },
  {
   "cell_type": "code",
   "execution_count": null,
   "metadata": {
    "ExecuteTime": {
     "end_time": "2022-02-03T19:22:56.662256Z",
     "start_time": "2022-02-03T19:22:53.647488Z"
    },
    "deletable": false,
    "editable": false,
    "nbgrader": {
     "cell_type": "code",
     "checksum": "51a45b16f536ac964c50987183ff7798",
     "grade": false,
     "grade_id": "cell-25ca201c21df9748",
     "locked": true,
     "schema_version": 3,
     "solution": false,
     "task": false
    }
   },
   "outputs": [],
   "source": [
    "## define a list of values for the maximum polynomial degree \n",
    "degrees = [3, 5, 10]    \n",
    "\n",
    "# we will use this variables to store the resulting training/validation errors for each polynomial degree \n",
    "# NB - this time we have multiple errors (for each CV step) for each degree, so we store the errors in a dictionary\n",
    "tr_errors = {}          \n",
    "val_errors = {}\n",
    "\n",
    "plt.figure(figsize=(15, 15))    # create a new figure with size 8*20\n",
    "for i, degree in enumerate(degrees):    # use for-loop to fit polynomial regression models with different degrees\n",
    "    tr_errors[degree] = [] # NB - now we will have k different errors per degree\n",
    "    val_errors[degree] = []\n",
    "    \n",
    "    # We use the kfold object created earlier, to obtain train and validation sets \n",
    "    # for k iterations of training and evaluation\n",
    "    for j, (train_indices, val_indices) in enumerate(kfold.split(X)): \n",
    "        plt.subplot(len(degrees), k, i * k + j + 1)   # choose the subplot\n",
    "\n",
    "        # Define the training and validation data using the indices returned by kfold and numpy indexing \n",
    "        \n",
    "        X_train, y_train, X_val, y_val = X[train_indices], y[train_indices], X[val_indices], y[val_indices]\n",
    "        \n",
    "        lin_regr = LinearRegression(fit_intercept=False) # NOTE: \"fit_intercept=False\" as we already have a constant iterm in the new feature X_poly\n",
    "        poly = PolynomialFeatures(degree=degree)    # generate polynomial features\n",
    "        X_train_poly = poly.fit_transform(X_train)    # fit the raw features\n",
    "        lin_regr.fit(X_train_poly, y_train)    # apply linear regression to these new features and labels\n",
    "\n",
    "        # Now we compute the errors on train and validation data obtained from kfold\n",
    "        y_pred_train = lin_regr.predict(X_train_poly)    # predict using the linear model\n",
    "        tr_error = mean_squared_error(y_train, y_pred_train)    # calculate the training error\n",
    "        X_val_poly = poly.transform(X_val) # fit the raw features for the validation data \n",
    "        y_pred_val = lin_regr.predict(X_val_poly) # predict labels for the validation data using the linear model \n",
    "        val_error = mean_squared_error(y_val, y_pred_val) # calculate the validation error\n",
    "        \n",
    "        tr_errors[degree].append(tr_error) # # NB - We save all the errors to analyze later\n",
    "        val_errors[degree].append(val_error)\n",
    "        X_fit = np.linspace(-25, 25, 100)    # generate samples\n",
    "        plt.tight_layout()\n",
    "        plt.plot(X_fit, lin_regr.predict(poly.transform(X_fit.reshape(-1, 1))), label=\"Model\")    # plot the polynomial regression model\n",
    "        plt.scatter(X_train, y_train, color=\"b\", s=10, label=\"Train Datapoints\")    # plot a scatter plot of y(maxtmp) vs. X(mintmp) with color 'blue' and size '10'\n",
    "        plt.scatter(X_val, y_val, color=\"r\", s=10, label=\"Validation Datapoints\")    # do the same for validation data with color 'red'\n",
    "        plt.xlabel('mintmp')    # set the label for the x/y-axis\n",
    "        plt.ylabel('maxtmp')\n",
    "        plt.legend(loc=\"best\")    # set the location of the legend\n",
    "        plt.title(f'Polynomial degree = {degree}\\nCV iteration = {j}\\nTraining error = {tr_error:.5}\\nValidation error = {val_error:.5}')    # set the title\n",
    "\n",
    "\n",
    "plt.show()    # show the plot"
   ]
  },
  {
   "cell_type": "code",
   "execution_count": null,
   "metadata": {
    "ExecuteTime": {
     "end_time": "2022-02-03T19:22:56.674828Z",
     "start_time": "2022-02-03T19:22:56.664326Z"
    },
    "deletable": false,
    "editable": false,
    "nbgrader": {
     "cell_type": "code",
     "checksum": "923812fc337a9c53c8b15fe17ef7dbca",
     "grade": false,
     "grade_id": "cell-dca2899495eb82d7",
     "locked": true,
     "schema_version": 3,
     "solution": false,
     "task": false
    }
   },
   "outputs": [],
   "source": [
    "tr_errors, val_errors"
   ]
  },
  {
   "cell_type": "code",
   "execution_count": null,
   "metadata": {
    "ExecuteTime": {
     "end_time": "2022-02-03T19:22:56.687161Z",
     "start_time": "2022-02-03T19:22:56.677976Z"
    },
    "deletable": false,
    "editable": false,
    "nbgrader": {
     "cell_type": "code",
     "checksum": "8857e4365854b0631be5fb4d621feb97",
     "grade": false,
     "grade_id": "cell-b5eaf96bdc1fd3d1",
     "locked": true,
     "schema_version": 3,
     "solution": false,
     "task": false
    }
   },
   "outputs": [],
   "source": [
    "average_train_error, average_val_error = {}, {}\n",
    "for degree in degrees:\n",
    "    # Now we calculate the average train and validation errors for each polynomial degree\n",
    "    average_train_error[degree] = np.mean(tr_errors[degree])\n",
    "    average_val_error[degree] = np.mean(val_errors[degree])\n",
    "   \n",
    "    print(f\"Degree {degree}, avg train error = {average_train_error[degree]:.5f}, \"\n",
    "          f\"avg val error = {average_val_error[degree]:.5f}\")"
   ]
  },
  {
   "cell_type": "markdown",
   "metadata": {
    "deletable": false,
    "editable": false,
    "nbgrader": {
     "cell_type": "markdown",
     "checksum": "b65609efc637c4c2d0151f87f69de27d",
     "grade": false,
     "grade_id": "cell-924dd19473d5b886",
     "locked": true,
     "schema_version": 3,
     "solution": false,
     "task": false
    }
   },
   "source": [
    "<div class=\" alert alert-warning\">\n",
    "\n",
    "# Student Task A4.6\n",
    "\n",
    "Answer the following quiz question by setting the corresponding variable to the index of the answer that you consider correct. For answering question 1, read through the Cross Valdation demo above.\n",
    "\n",
    "Question 1: Based on the K-fold CV average validation errors, which model would you recommend?\n",
    "- Answer 1: Degree 3 \n",
    "- Answer 2: Degree 5\n",
    "- Answer 3: Degree 10\n",
    "    \n",
    "Question 2: Is it possible for a model to have a lower accuracy on the train set than on the validation set, for any dataset?\n",
    "- Answer 1: Yes\n",
    "- Answer 2: No\n",
    "\n",
    "</div>"
   ]
  },
  {
   "cell_type": "code",
   "execution_count": null,
   "metadata": {
    "ExecuteTime": {
     "end_time": "2022-02-03T19:22:56.706440Z",
     "start_time": "2022-02-03T19:22:56.694051Z"
    },
    "deletable": false,
    "nbgrader": {
     "cell_type": "code",
     "checksum": "6315b21fa8da9edb8d84b061b0521810",
     "grade": false,
     "grade_id": "cell-4a44a108bae998e5",
     "locked": false,
     "schema_version": 3,
     "solution": true,
     "task": false
    }
   },
   "outputs": [],
   "source": [
    "## set Answer_Q1 and Answer_Q2 to the index (starting from 1 !!!) of the correct answer (e.g., Answer_Q1=1 if you think Answer 1 is correct)\n",
    "\n",
    "# Answer_Q1  = ...\n",
    "# Answer_Q2 = ...\n",
    "\n",
    "# YOUR CODE HERE\n",
    "raise NotImplementedError()"
   ]
  },
  {
   "cell_type": "code",
   "execution_count": null,
   "metadata": {
    "ExecuteTime": {
     "end_time": "2022-02-03T19:22:56.723554Z",
     "start_time": "2022-02-03T19:22:56.713539Z"
    },
    "deletable": false,
    "editable": false,
    "nbgrader": {
     "cell_type": "code",
     "checksum": "a46d08106bbda38e999b0f197ce50608",
     "grade": false,
     "grade_id": "cell-18a67d4a69232bea",
     "locked": true,
     "schema_version": 3,
     "solution": false,
     "task": false
    }
   },
   "outputs": [],
   "source": [
    "# sanity check datatype \n",
    "assert isinstance(Answer_Q1, int), \"Please use datatype 'int' for your answer\"\n",
    "assert isinstance(Answer_Q2, int), \"Please use datatype 'int' for your answer\""
   ]
  },
  {
   "cell_type": "code",
   "execution_count": null,
   "metadata": {
    "ExecuteTime": {
     "end_time": "2022-02-03T19:22:56.751458Z",
     "start_time": "2022-02-03T19:22:56.742975Z"
    },
    "deletable": false,
    "editable": false,
    "nbgrader": {
     "cell_type": "code",
     "checksum": "6e4a2745f118e915927c913f6151764f",
     "grade": true,
     "grade_id": "cell-1666eb7825955b99",
     "locked": true,
     "points": 1,
     "schema_version": 3,
     "solution": false,
     "task": false
    }
   },
   "outputs": [],
   "source": [
    "# this is test cell for A4.6"
   ]
  },
  {
   "cell_type": "code",
   "execution_count": null,
   "metadata": {
    "ExecuteTime": {
     "end_time": "2022-02-03T19:22:56.763606Z",
     "start_time": "2022-02-03T19:22:56.754787Z"
    },
    "deletable": false,
    "editable": false,
    "nbgrader": {
     "cell_type": "code",
     "checksum": "6b1eec8d68a9675e253ae49050cdb760",
     "grade": true,
     "grade_id": "cell-b44f58d1fdbc1f27",
     "locked": true,
     "points": 1,
     "schema_version": 3,
     "solution": false,
     "task": false
    }
   },
   "outputs": [],
   "source": [
    "# this is test cell for A4.6"
   ]
  }
 ],
 "metadata": {
  "kernelspec": {
   "display_name": "Python 3",
   "language": "python",
   "name": "python3"
  },
  "language_info": {
   "codemirror_mode": {
    "name": "ipython",
    "version": 3
   },
   "file_extension": ".py",
   "mimetype": "text/x-python",
   "name": "python",
   "nbconvert_exporter": "python",
   "pygments_lexer": "ipython3",
   "version": "3.8.6"
  },
  "latex_envs": {
   "LaTeX_envs_menu_present": true,
   "autoclose": false,
   "autocomplete": true,
   "bibliofile": "biblio.bib",
   "cite_by": "apalike",
   "current_citInitial": 1,
   "eqLabelWithNumbers": true,
   "eqNumInitial": 1,
   "hotkeys": {
    "equation": "Ctrl-E",
    "itemize": "Ctrl-I"
   },
   "labels_anchors": false,
   "latex_user_defs": false,
   "report_style_numbering": false,
   "user_envs_cfg": false
  },
  "toc": {
   "base_numbering": 1,
   "nav_menu": {},
   "number_sections": true,
   "sideBar": true,
   "skip_h1_title": false,
   "title_cell": "Table of Contents",
   "title_sidebar": "Contents",
   "toc_cell": false,
   "toc_position": {},
   "toc_section_display": true,
   "toc_window_display": false
  },
  "varInspector": {
   "cols": {
    "lenName": 16,
    "lenType": 16,
    "lenVar": 40
   },
   "kernels_config": {
    "python": {
     "delete_cmd_postfix": "",
     "delete_cmd_prefix": "del ",
     "library": "var_list.py",
     "varRefreshCmd": "print(var_dic_list())"
    },
    "r": {
     "delete_cmd_postfix": ") ",
     "delete_cmd_prefix": "rm(",
     "library": "var_list.r",
     "varRefreshCmd": "cat(var_dic_list()) "
    }
   },
   "types_to_exclude": [
    "module",
    "function",
    "builtin_function_or_method",
    "instance",
    "_Feature"
   ],
   "window_display": false
  }
 },
 "nbformat": 4,
 "nbformat_minor": 4
}
