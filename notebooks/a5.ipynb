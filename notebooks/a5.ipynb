{
 "cells": [
  {
   "cell_type": "markdown",
   "metadata": {
    "deletable": false,
    "editable": false,
    "nbgrader": {
     "cell_type": "markdown",
     "checksum": "09fc671ef8d2b7b00644f0ef9f06b1ec",
     "grade": false,
     "grade_id": "cell-dd9660b5721f3935",
     "locked": true,
     "schema_version": 3,
     "solution": false,
     "task": false
    }
   },
   "source": [
    "# Assignment 5 - ML diagnosis"
   ]
  },
  {
   "cell_type": "markdown",
   "metadata": {
    "deletable": false,
    "editable": false,
    "nbgrader": {
     "cell_type": "markdown",
     "checksum": "0e212076c1d68b31527aca362e3ff981",
     "grade": false,
     "grade_id": "cell-0a12b9e3141c868e",
     "locked": true,
     "schema_version": 3,
     "solution": false,
     "task": false
    }
   },
   "source": [
    "Suppose we train a model and it does well on the training set, after that we have to assess if it can generalize well to unseen data. We can diagnose the quality of ML methods just by comparing training $E_{t}$ with validation $E_{v}$ errors. This diagnosis can be further developed if a benchmark (or reference) error level $E_{ref}$ exists. You can read more about it in **Section 6.6** of the course book.\n",
    "\n",
    "There are several cases of errors comparison:\n",
    "\n",
    "**1.** $E_{t}\\approx E_{v}\\approx E_{ref}$: All the errors are on the same level, so the ML method works rather good and there is no need to improve it further.\n",
    "\n",
    "**2.** $E_{t}\\ll E_{v}$: The validation error is larger than the the training error. That means that the model faces overfitting. That can be solved either by reducing the effective size of the hypothesis space or increasing the effective\n",
    "number of training data points. **That is the most common case which is checked in the process of model learning.**\n",
    "\n",
    "**3.** $E_{t}\\approx E_{v}\\gg E_{ref}$: Training and validation errors are same, but they are much larger than the reference error. In that case the model does not overfit, but it in general performs bad, i.e. it is underfitting the training data. Two commonly used strategies to conquer underfitting are choosing a larger hypothese space and collecting more relevant features.\n",
    "\n",
    "**4.** $E_{t}\\gg E_{v}$: The situation of having training error significantly larger than validation one is not so common.  The increase of training and validation sets sizes by collecting more labeled data points or\n",
    "using data augmentation can increase the performance here. On the contrary, $E_{t}> E_{v}$ is not rare, even if the dataset is not small, you are highly likely to see it in your practicing. It usually is due to unlucky splitting combined with underfitting, the former can be mitigated by Kfold CV, the latter may be solved by enlarging hypothesis space and/or collecting more relevant features.\n",
    "\n",
    "\n",
    "## Learning goals\n",
    "After successfully completing this assignment, you should:\n",
    "\n",
    "* Understand the basic workflow of training, selecting and testing ML models.\n",
    "* Be aware of random fluctuations in validation error (due to unlucky splits).\n",
    "* Know some means for getting a baseline/benchmark/reference value to compare against the obtained average loss on validation/test set."
   ]
  },
  {
   "cell_type": "code",
   "execution_count": 1,
   "metadata": {
    "ExecuteTime": {
     "end_time": "2022-02-07T17:14:45.908183Z",
     "start_time": "2022-02-07T17:14:43.028044Z"
    },
    "deletable": false,
    "editable": false,
    "nbgrader": {
     "cell_type": "code",
     "checksum": "91bb906be21551317a0d30fe12003464",
     "grade": false,
     "grade_id": "cell-00d94b9513ab25c8",
     "locked": true,
     "schema_version": 3,
     "solution": false,
     "task": false
    }
   },
   "outputs": [],
   "source": [
    "# Import basic libraries needed for this assignment\n",
    "%config Completer.use_jedi = False  # enable code auto-completion\n",
    "import numpy as np #import numpy to work with arrays\n",
    "import pandas as pd #import pandas to manipulate the dataset\n",
    "from matplotlib import pyplot as plt #import the module matplotlib.pyplot to do visulization\n",
    "from sklearn.model_selection import train_test_split, KFold\n",
    "from sklearn.preprocessing import PolynomialFeatures    # function to generate polynomial and interaction features\n",
    "from sklearn.linear_model import LinearRegression\n",
    "from sklearn.metrics import mean_squared_error"
   ]
  },
  {
   "cell_type": "markdown",
   "metadata": {
    "deletable": false,
    "editable": false,
    "nbgrader": {
     "cell_type": "markdown",
     "checksum": "05e73aa696013667a6afc72a09da9493",
     "grade": false,
     "grade_id": "cell-20d8a1c5fcefe4c6",
     "locked": true,
     "schema_version": 3,
     "solution": false,
     "task": false
    }
   },
   "source": [
    "<div class=\" alert alert-warning\">\n",
    "    \n",
    "# Task A5.1:\n",
    "<ul>\n",
    "The data in the correctly organized ML workflow should be divided into three main parts: <strong>training set</strong>, <strong>validation set</strong>, and <strong>test set</strong>. Why do we need to have validation and test parts separately? The validation set is a separate section of dataset that is used to evaluate the model trained on the training set to get a sense of how well the model works. Validation set is heavily used in model developing and selecting. Model can be diagnosed as overfitted or underfitted when we compare training error with  the validation error. We use the diagnosis result to instruct model developing, such as enlarge the hypothesis space, weaken/strengthen regularization strength, etc. Anyhow the validation set has affected the model, in other words, the model has also seen the data in validation set, this is why it is important to hold back a completely separate data - the test set to check the final model performance. \n",
    "</ul> \n",
    "<ul>\n",
    "In this assignment, you will work with the same data source as in Assignment 4. Here the same steps as in Assignment 4.1 are done to prepare data for model training in Assignment 5.1. But now instead of using just train/validation split, train/validation/test split will be used and examined.\n",
    "</ul>  \n",
    "<ul>\n",
    "In this task you have to:\n",
    "    <li>Download and prepare data for future model training. </li>  \n",
    "    <li>Use the function train_test_split() provided by Scikit-learn's model_selection module two times to split the dataset into train, validation and test set. At first data is split into train and remaining groups, then the remaining group is split into validation and test. </li> \n",
    "    <li>Create Polynomial regression models with different degrees and report train, validation and test errors. </li> \n",
    "</ul>\n",
    "</div>"
   ]
  },
  {
   "cell_type": "markdown",
   "metadata": {
    "deletable": false,
    "editable": false,
    "nbgrader": {
     "cell_type": "markdown",
     "checksum": "af050170293488fd9545b39e553cf377",
     "grade": false,
     "grade_id": "cell-24c49bc84599d879",
     "locked": true,
     "schema_version": 3,
     "solution": false,
     "task": false
    }
   },
   "source": [
    "#### Downloading and processing the dataset"
   ]
  },
  {
   "cell_type": "code",
   "execution_count": 2,
   "metadata": {
    "ExecuteTime": {
     "end_time": "2022-02-07T17:14:45.960696Z",
     "start_time": "2022-02-07T17:14:45.915858Z"
    },
    "deletable": false,
    "editable": false,
    "nbgrader": {
     "cell_type": "code",
     "checksum": "8123a80bb317f918caba2ed7803f677d",
     "grade": false,
     "grade_id": "cell-02ef3f290846d4e7",
     "locked": true,
     "schema_version": 3,
     "solution": false,
     "task": false
    }
   },
   "outputs": [
    {
     "data": {
      "text/html": [
       "<div>\n",
       "<style scoped>\n",
       "    .dataframe tbody tr th:only-of-type {\n",
       "        vertical-align: middle;\n",
       "    }\n",
       "\n",
       "    .dataframe tbody tr th {\n",
       "        vertical-align: top;\n",
       "    }\n",
       "\n",
       "    .dataframe thead th {\n",
       "        text-align: right;\n",
       "    }\n",
       "</style>\n",
       "<table border=\"1\" class=\"dataframe\">\n",
       "  <thead>\n",
       "    <tr style=\"text-align: right;\">\n",
       "      <th></th>\n",
       "      <th>year</th>\n",
       "      <th>m</th>\n",
       "      <th>d</th>\n",
       "      <th>time</th>\n",
       "      <th>max temperature</th>\n",
       "      <th>min temperature</th>\n",
       "    </tr>\n",
       "  </thead>\n",
       "  <tbody>\n",
       "    <tr>\n",
       "      <th>0</th>\n",
       "      <td>2020</td>\n",
       "      <td>1</td>\n",
       "      <td>1</td>\n",
       "      <td>00:00</td>\n",
       "      <td>3.4</td>\n",
       "      <td>-2.6</td>\n",
       "    </tr>\n",
       "    <tr>\n",
       "      <th>1</th>\n",
       "      <td>2020</td>\n",
       "      <td>1</td>\n",
       "      <td>1</td>\n",
       "      <td>06:00</td>\n",
       "      <td>NaN</td>\n",
       "      <td>NaN</td>\n",
       "    </tr>\n",
       "    <tr>\n",
       "      <th>2</th>\n",
       "      <td>2020</td>\n",
       "      <td>1</td>\n",
       "      <td>2</td>\n",
       "      <td>00:00</td>\n",
       "      <td>5.1</td>\n",
       "      <td>1.8</td>\n",
       "    </tr>\n",
       "    <tr>\n",
       "      <th>3</th>\n",
       "      <td>2020</td>\n",
       "      <td>1</td>\n",
       "      <td>2</td>\n",
       "      <td>06:00</td>\n",
       "      <td>NaN</td>\n",
       "      <td>NaN</td>\n",
       "    </tr>\n",
       "    <tr>\n",
       "      <th>4</th>\n",
       "      <td>2020</td>\n",
       "      <td>1</td>\n",
       "      <td>3</td>\n",
       "      <td>00:00</td>\n",
       "      <td>5.7</td>\n",
       "      <td>4.3</td>\n",
       "    </tr>\n",
       "  </tbody>\n",
       "</table>\n",
       "</div>"
      ],
      "text/plain": [
       "   year  m  d   time  max temperature  min temperature\n",
       "0  2020  1  1  00:00              3.4             -2.6\n",
       "1  2020  1  1  06:00              NaN              NaN\n",
       "2  2020  1  2  00:00              5.1              1.8\n",
       "3  2020  1  2  06:00              NaN              NaN\n",
       "4  2020  1  3  00:00              5.7              4.3"
      ]
     },
     "execution_count": 2,
     "metadata": {},
     "output_type": "execute_result"
    }
   ],
   "source": [
    "# Read in the data stored in the file 'FMIData_Assignment5.csv'\n",
    "df = pd.read_csv('FMIData_Assignment5.csv')\n",
    "df.drop(columns=['Time zone','Precipitation amount (mm)','Snow depth (cm)','Air temperature (degC)',\\\n",
    "                 'Ground minimum temperature (degC)'],inplace=True)  # drop unrelevant columns\n",
    "df.columns =['year','m','d','time','max temperature','min temperature'] # rename columns \n",
    "\n",
    "# Print the first 5 rows of the DataFrame 'df'\n",
    "df.head(5) "
   ]
  },
  {
   "cell_type": "code",
   "execution_count": 5,
   "metadata": {
    "ExecuteTime": {
     "end_time": "2022-02-07T17:14:45.979772Z",
     "start_time": "2022-02-07T17:14:45.967022Z"
    },
    "deletable": false,
    "editable": false,
    "nbgrader": {
     "cell_type": "code",
     "checksum": "d4d8ee3add10a8a006e6efab404b6d1d",
     "grade": false,
     "grade_id": "cell-f01adb709ed4d6c3",
     "locked": true,
     "schema_version": 3,
     "solution": false,
     "task": false
    }
   },
   "outputs": [],
   "source": [
    "# Select only weather recordings whose property 'time' is equal to `00:00`\n",
    "FMIRawData = df[df['time'] == '00:00']\n",
    "\n",
    "# Create the feature and label vectors\n",
    "X = FMIRawData['min temperature'].to_numpy().reshape(-1, 1)\n",
    "y = FMIRawData['max temperature'].to_numpy()"
   ]
  },
  {
   "cell_type": "markdown",
   "metadata": {
    "deletable": false,
    "editable": false,
    "nbgrader": {
     "cell_type": "markdown",
     "checksum": "9d19c3dde3f72d6d78b60dfd5e27f075",
     "grade": false,
     "grade_id": "cell-f11de8ed8772c195",
     "locked": true,
     "schema_version": 3,
     "solution": false,
     "task": false
    }
   },
   "source": [
    "#### Splitting dataset into train/validation/test"
   ]
  },
  {
   "cell_type": "code",
   "execution_count": 10,
   "metadata": {
    "ExecuteTime": {
     "end_time": "2022-02-07T17:14:45.996997Z",
     "start_time": "2022-02-07T17:14:45.987455Z"
    },
    "deletable": false,
    "nbgrader": {
     "cell_type": "code",
     "checksum": "34f9bfb6f546b3db78b37e6a1b48ae3b",
     "grade": false,
     "grade_id": "cell-cec2543294636894",
     "locked": false,
     "schema_version": 3,
     "solution": true,
     "task": false
    }
   },
   "outputs": [],
   "source": [
    "## Split the dataset into a training set and a remaining set with train_test_split. \n",
    "## The test_size=0.5 and random_state=42:\n",
    "X_train, X_rem, y_train, y_rem = train_test_split(X, y, test_size=0.5, random_state=42)\n"
   ]
  },
  {
   "cell_type": "code",
   "execution_count": 11,
   "metadata": {
    "ExecuteTime": {
     "end_time": "2022-02-07T17:14:46.024255Z",
     "start_time": "2022-02-07T17:14:46.015798Z"
    },
    "deletable": false,
    "editable": false,
    "nbgrader": {
     "cell_type": "code",
     "checksum": "dffca0b2891f9acff7135615d35999bf",
     "grade": false,
     "grade_id": "cell-8993ee61fe0975c5",
     "locked": true,
     "schema_version": 3,
     "solution": false,
     "task": false
    }
   },
   "outputs": [],
   "source": [
    "# Sanity check the percentage of the remainig data up to 1%\n",
    "assert np.isclose(0.5, X_rem.shape[0] / X.shape[0], atol=0.01)"
   ]
  },
  {
   "cell_type": "code",
   "execution_count": 12,
   "metadata": {
    "ExecuteTime": {
     "end_time": "2022-02-07T17:14:46.035969Z",
     "start_time": "2022-02-07T17:14:46.026697Z"
    },
    "deletable": false,
    "editable": false,
    "nbgrader": {
     "cell_type": "code",
     "checksum": "1484da7b294621661a3401a4218fb8f2",
     "grade": true,
     "grade_id": "cell-c67d49a911ccbec6",
     "locked": true,
     "points": 1,
     "schema_version": 3,
     "solution": false,
     "task": false
    }
   },
   "outputs": [],
   "source": [
    "# this is the 1st test cell for A5.1, please leave it as it is.\n"
   ]
  },
  {
   "cell_type": "code",
   "execution_count": 16,
   "metadata": {
    "ExecuteTime": {
     "end_time": "2022-02-07T17:14:46.043885Z",
     "start_time": "2022-02-07T17:14:46.038390Z"
    },
    "deletable": false,
    "nbgrader": {
     "cell_type": "code",
     "checksum": "bc56a23766b5bde38bcc34962fee6571",
     "grade": false,
     "grade_id": "cell-fae4ccc44ebab19c",
     "locked": false,
     "schema_version": 3,
     "solution": true,
     "task": false
    }
   },
   "outputs": [],
   "source": [
    "## Split the remaining dataset into a validation set and test set with train_test_split. \n",
    "## The test_size=0.2 and random_state=42:\n",
    "X_val, X_test, y_val, y_test = train_test_split(X_rem, y_rem, test_size=0.2, random_state=42)"
   ]
  },
  {
   "cell_type": "code",
   "execution_count": 17,
   "metadata": {
    "ExecuteTime": {
     "end_time": "2022-02-07T17:14:46.053940Z",
     "start_time": "2022-02-07T17:14:46.050664Z"
    },
    "deletable": false,
    "editable": false,
    "nbgrader": {
     "cell_type": "code",
     "checksum": "7315c3230d5b31cda147ebbe90b7be96",
     "grade": false,
     "grade_id": "cell-7ced81ffc53b2fa8",
     "locked": true,
     "schema_version": 3,
     "solution": false,
     "task": false
    }
   },
   "outputs": [],
   "source": [
    "# Sanity check the percentage of the remainig data up to 1%\n",
    "assert np.isclose(0.2, X_test.shape[0] / X_rem.shape[0], atol=0.01)"
   ]
  },
  {
   "cell_type": "code",
   "execution_count": 18,
   "metadata": {
    "ExecuteTime": {
     "end_time": "2022-02-07T17:14:46.069274Z",
     "start_time": "2022-02-07T17:14:46.060710Z"
    },
    "deletable": false,
    "editable": false,
    "nbgrader": {
     "cell_type": "code",
     "checksum": "0fd8412f6cd513562d5ae3ce456738eb",
     "grade": true,
     "grade_id": "cell-26a3b84afa94967a",
     "locked": true,
     "points": 1,
     "schema_version": 3,
     "solution": false,
     "task": false
    }
   },
   "outputs": [],
   "source": [
    "# this is the 2nd test cell for A5.1\n"
   ]
  },
  {
   "cell_type": "markdown",
   "metadata": {
    "deletable": false,
    "editable": false,
    "nbgrader": {
     "cell_type": "markdown",
     "checksum": "fa913f93c95de5913454c21e10f6a25f",
     "grade": false,
     "grade_id": "cell-184bb18850f83efb",
     "locked": true,
     "schema_version": 3,
     "solution": false,
     "task": false
    }
   },
   "source": [
    "After completing A5.1 task three datasets are created:<br>\n",
    "**X_train and y_train**<br>\n",
    "**X_val and y_val**<br>\n",
    "**X_test and y_test**<br>\n",
    "\n",
    "They will be used in the model training/validation/testing of Assignment A5.2."
   ]
  },
  {
   "cell_type": "markdown",
   "metadata": {
    "deletable": false,
    "editable": false,
    "nbgrader": {
     "cell_type": "markdown",
     "checksum": "b27ed4c07348e6e616092ad154c63356",
     "grade": false,
     "grade_id": "cell-f79aced8252c3c1e",
     "locked": true,
     "schema_version": 3,
     "solution": false,
     "task": false
    }
   },
   "source": [
    "<div class=\" alert alert-warning\">\n",
    "    \n",
    "# Task A5.2:\n",
    "<ul>  \n",
    "The goal of this task is to train polynomial regression models with different polynomial degrees. The models are trained on training dataset, after that optimal poly degree is chosen with the help of validation errors. Final error is computed on test set using the learnt polynomial regression model with optimal degree. This task is an extension of task A5.1.\n",
    "</ul>"
   ]
  },
  {
   "cell_type": "markdown",
   "metadata": {
    "deletable": false,
    "editable": false,
    "nbgrader": {
     "cell_type": "markdown",
     "checksum": "70c8ebd93df24e6ab78c33f43355a2bd",
     "grade": false,
     "grade_id": "cell-cfec49874c6eeffa",
     "locked": true,
     "schema_version": 3,
     "solution": false,
     "task": false
    }
   },
   "source": [
    "#### Polynomial models' validation errors calculation\n",
    "At first, several polynomial regression models are learnt with the help of training data, errors on validation datasets are obtained. By comparison of training errors and validation errors, the best model is chosen."
   ]
  },
  {
   "cell_type": "code",
   "execution_count": 19,
   "metadata": {
    "ExecuteTime": {
     "end_time": "2022-02-07T17:14:49.237725Z",
     "start_time": "2022-02-07T17:14:46.073185Z"
    },
    "deletable": false,
    "nbgrader": {
     "cell_type": "code",
     "checksum": "ee960a0c35f91bce9d9584104222e716",
     "grade": false,
     "grade_id": "cell-786e64391bc46b59",
     "locked": false,
     "schema_version": 3,
     "solution": true,
     "task": false
    }
   },
   "outputs": [
    {
     "data": {
      "image/png": "[encoded data removed]",
      "text/plain": [
       "<Figure size 576x1440 with 3 Axes>"
      ]
     },
     "metadata": {
      "needs_background": "light"
     },
     "output_type": "display_data"
    }
   ],
   "source": [
    "## define a list of values for the maximum polynomial degree \n",
    "degrees = [3, 5, 10]    \n",
    "\n",
    "# we will use this variable to store the resulting training and validation errors for each polynomial degree\n",
    "tr_errors, val_errors = [], []\n",
    "\n",
    "plt.figure(figsize=(8, 20))    # create a new figure with size 8*20\n",
    "for i, degree in enumerate(degrees):    # use for-loop to fit polynomial regression models with different degrees\n",
    "    plt.subplot(len(degrees), 1, i + 1)    # choose the subplot\n",
    "    \n",
    "    lin_regr = LinearRegression(fit_intercept=False) # NOTE: \"fit_intercept=False\" as we already have a constant iterm in the new feature X_poly\n",
    " \n",
    "    poly = PolynomialFeatures(degree=degree)    # generate polynomial features\n",
    "    X_train_poly = poly.fit_transform(X_train)    # fit and transform the raw features\n",
    "    lin_regr.fit(X_train_poly, y_train)    # apply linear regression to these new features and labels\n",
    "    \n",
    "    # y_pred_train = ...    # predict values for the training data using the linear model\n",
    "    # tr_error = ...    # calculate the training error\n",
    "    # X_val_poly = ... # transform the raw features for the validation data \n",
    "    # y_pred_val = ... # predict values for the validation data using the linear model \n",
    "    # val_error = ... # calculate the validation error\n",
    "    \n",
    "    # YOUR CODE HERE\n",
    "    y_pred_train = lin_regr.predict(X_train_poly)    # predict values for the training data using the linear model\n",
    "    tr_error = mean_squared_error(y_pred_train, y_train)       # calculate the training error\n",
    "    X_val_poly = poly.transform(X_val) # transform the raw features for the validation data \n",
    "    y_pred_val = lin_regr.predict(X_val_poly)  # predict values for the validation data using the linear model \n",
    "    val_error = mean_squared_error(y_pred_val, y_val)\n",
    "    \n",
    "    # sanity check the feature matrix is transformed correctly\n",
    "    assert X_val_poly.shape == (X_val.shape[0], degree + 1), \"The dimension of new feature vector is incorrect\" \n",
    "    # sanity check the error values\n",
    "    assert 8 < tr_error < 10 and 8 < val_error < 12\n",
    "    \n",
    "    tr_errors.append(tr_error)\n",
    "    val_errors.append(val_error)\n",
    "    \n",
    "    X_fit = np.linspace(-25, 25, 100)    # generate samples\n",
    "    plt.tight_layout()\n",
    "    plt.plot(X_fit, lin_regr.predict(poly.transform(X_fit.reshape(-1, 1))), label=\"Model\")    # plot the polynomial regression model\n",
    "    plt.scatter(X_train, y_train, color=\"b\", s=10, label=\"Train Datapoints\")    # plot a scatter plot of y(maxtmp) vs. X(mintmp) with color 'blue' and size '10'\n",
    "    plt.scatter(X_val, y_val, color=\"r\", s=10, label=\"Validation Datapoints\")    # do the same for validation data with color 'red'\n",
    "    plt.xlabel('mintmp')    # set the label for the x/y-axis\n",
    "    plt.ylabel('maxtmp')\n",
    "    plt.legend(loc=\"best\")    # set the location of the legend\n",
    "    plt.title(f'Polynomial degree = {degree}\\nTraining error = {tr_error:.5}\\nValidation error = {val_error:.5}')    # set the title\n",
    "    \n",
    "plt.show()    # show the plot\n",
    "\n",
    "# sanity check the length of array tr_errors\n",
    "assert len(tr_errors) == len(val_errors) == len(degrees)"
   ]
  },
  {
   "cell_type": "code",
   "execution_count": 20,
   "metadata": {
    "ExecuteTime": {
     "end_time": "2022-02-07T17:14:49.264748Z",
     "start_time": "2022-02-07T17:14:49.240576Z"
    },
    "deletable": false,
    "editable": false,
    "nbgrader": {
     "cell_type": "code",
     "checksum": "a0d4e9828e369e86ea0b60524a2160ad",
     "grade": true,
     "grade_id": "cell-c31ad1c1f02599a4",
     "locked": true,
     "points": 1,
     "schema_version": 3,
     "solution": false,
     "task": false
    }
   },
   "outputs": [],
   "source": [
    "# this is the 1st test cell for A5.2\n"
   ]
  },
  {
   "cell_type": "code",
   "execution_count": 21,
   "metadata": {
    "ExecuteTime": {
     "end_time": "2022-02-07T17:14:49.277262Z",
     "start_time": "2022-02-07T17:14:49.268854Z"
    },
    "deletable": false,
    "editable": false,
    "nbgrader": {
     "cell_type": "code",
     "checksum": "f625a9166b84e98fcd6870906dd03dac",
     "grade": false,
     "grade_id": "cell-30b96964db235207",
     "locked": true,
     "schema_version": 3,
     "solution": false,
     "task": false
    }
   },
   "outputs": [
    {
     "name": "stdout",
     "output_type": "stream",
     "text": [
      "For polynomial degree 3: the training error is 9.128680532620562, the validation error is 9.35393616032128\n",
      "For polynomial degree 5: the training error is 9.104076276390922, the validation error is 9.253001720352678\n",
      "For polynomial degree 10: the training error is 8.927689630261082, the validation error is 9.409375966372131\n"
     ]
    }
   ],
   "source": [
    "for i, degree in enumerate(degrees):\n",
    "    print(f\"For polynomial degree {degree}: the training error is {tr_errors[i]}, the validation error is {val_errors[i]}\")"
   ]
  },
  {
   "cell_type": "markdown",
   "metadata": {
    "deletable": false,
    "editable": false,
    "nbgrader": {
     "cell_type": "markdown",
     "checksum": "865185ba40fef791704cabdead28c9ff",
     "grade": false,
     "grade_id": "cell-8707fb356be8a471",
     "locked": true,
     "schema_version": 3,
     "solution": false,
     "task": false
    }
   },
   "source": [
    "#### Obtaining final test error\n",
    "As we can see, due to the validation error the best Polynomial model is with degree of 5. After that, the final error on test set is calculated for the best model."
   ]
  },
  {
   "cell_type": "code",
   "execution_count": 26,
   "metadata": {
    "ExecuteTime": {
     "end_time": "2022-02-07T17:14:49.303823Z",
     "start_time": "2022-02-07T17:14:49.282305Z"
    },
    "deletable": false,
    "nbgrader": {
     "cell_type": "code",
     "checksum": "8226e2e7956df8d908d8312857f16c98",
     "grade": false,
     "grade_id": "cell-3e9340315a3d1035",
     "locked": false,
     "schema_version": 3,
     "solution": true,
     "task": false
    }
   },
   "outputs": [
    {
     "name": "stdout",
     "output_type": "stream",
     "text": [
      "The test error is:  11.723735778940444\n"
     ]
    }
   ],
   "source": [
    "lin_regr = LinearRegression(fit_intercept=False) # NOTE: \"fit_intercept=False\" as we already have a constant iterm in the new feature X_poly\n",
    " \n",
    "poly = PolynomialFeatures(degree=5)    # generate polynomial features with degree of 5\n",
    "X_train_poly = poly.fit_transform(X_train)    # fit the raw features\n",
    "lin_regr.fit(X_train_poly, y_train)    # apply linear regression to these new features and labels\n",
    "    \n",
    "## Polinomial transforming raw features of test set and evaluate model performance on test data:    \n",
    "X_test_poly = poly.transform(X_test)   # transform the raw features for the test data \n",
    "y_pred_test = lin_regr.predict(X_test_poly) # predict values for the test data using the linear model \n",
    "test_error = mean_squared_error(y_pred_test, y_test)   # calculate the test error\n",
    "\n",
    "\n",
    "print(\"The test error is: \",test_error)"
   ]
  },
  {
   "cell_type": "code",
   "execution_count": 27,
   "metadata": {
    "ExecuteTime": {
     "end_time": "2022-02-07T17:14:49.358022Z",
     "start_time": "2022-02-07T17:14:49.315316Z"
    },
    "deletable": false,
    "editable": false,
    "nbgrader": {
     "cell_type": "code",
     "checksum": "51bec4fb01e22740c2611a351ab0262d",
     "grade": true,
     "grade_id": "cell-d0730ce5aecede8d",
     "locked": true,
     "points": 1,
     "schema_version": 3,
     "solution": false,
     "task": false
    }
   },
   "outputs": [],
   "source": [
    "# this is the 2nd test cell for A5.2\n"
   ]
  },
  {
   "cell_type": "markdown",
   "metadata": {
    "deletable": false,
    "editable": false,
    "nbgrader": {
     "cell_type": "markdown",
     "checksum": "f1980418447ffa626f9a26479c11b8a2",
     "grade": false,
     "grade_id": "cell-82a4d312802c0f5b",
     "locked": true,
     "schema_version": 3,
     "solution": false,
     "task": false
    }
   },
   "source": [
    "<div class=\" alert alert-warning\">\n",
    "    \n",
    "# Task A5.3:\n",
    "This task shows that different division into training and validation data can result in different validation errors for the model with same parameters.<br>\n",
    "    \n",
    "In this task the polynomial regression with the degree of 5 is learnt several times on slightly different subsets of original dataset and validation errors are calculated. Let's see how these validation errors are distributed.<br>\n",
    "\n",
    "The [KFold](https://scikit-learn.org/stable/modules/generated/sklearn.model_selection.KFold.html) function from sklearn.model_selection is used. It provides train/validation indices to split data in train/validation sets. In our case dataset is shuffled and split into k=20 consecutive folds, each fold is then used once as a validation while the k - 1 remaining folds form the training set.\n",
    "</div>"
   ]
  },
  {
   "cell_type": "code",
   "execution_count": 29,
   "metadata": {
    "ExecuteTime": {
     "end_time": "2022-02-07T17:14:49.470824Z",
     "start_time": "2022-02-07T17:14:49.362632Z"
    },
    "deletable": false,
    "nbgrader": {
     "cell_type": "code",
     "checksum": "99d3f02ea01f9f2c98a1efbe0923032a",
     "grade": false,
     "grade_id": "cell-29c6b3420ef2f3b5",
     "locked": false,
     "schema_version": 3,
     "solution": true,
     "task": false
    }
   },
   "outputs": [],
   "source": [
    "# Initialize KFold with 20 splits and random_state=42. Set shuffle=True\n",
    "cv = KFold(n_splits=20, random_state=42, shuffle=True)\n",
    "\n",
    "validation_errors = [] # store the validation errors\n",
    "\n",
    "# Iterate through the indices of train and validation (iteration through each split of 20)\n",
    "for train_index, val_index in cv.split(y):\n",
    "\n",
    "    X_train, X_val = X[train_index], X[val_index]\n",
    "    y_train, y_val = y[train_index], y[val_index]\n",
    "     \n",
    "    \n",
    "    poly = PolynomialFeatures(degree=5)    # generate polynomial features\n",
    "    X_train_poly = poly.fit_transform(X_train)    # fit the raw features\n",
    "\n",
    "    lin_regr = LinearRegression(fit_intercept=False) # NOTE: \"fit_intercept=False\" as we already have a constant iterm in the new feature X_poly\n",
    " \n",
    "    lin_regr.fit(X_train_poly, y_train)    # apply linear regression to these new features and labels\n",
    "    \n",
    "    X_val_poly = poly.transform(X_val)  # transform the raw features for the validation data \n",
    "    y_pred_val = lin_regr.predict(X_val_poly) # predict values for the validation data using the linear model \n",
    "    val_error = mean_squared_error(y_pred_val, y_val)   # calculate the validation error\n",
    "    \n",
    "    validation_errors.append(val_error)\n",
    "\n",
    "    \n",
    "# sanity check the length of array val_errors\n",
    "assert cv.random_state == 42, \"wrong random_state of KFold splitting\"\n",
    "assert 3 < val_error < 4, \"wrong validation error\""
   ]
  },
  {
   "cell_type": "code",
   "execution_count": 30,
   "metadata": {
    "deletable": false,
    "editable": false,
    "nbgrader": {
     "cell_type": "code",
     "checksum": "75f8212bcea1050673f7429a237ffb86",
     "grade": true,
     "grade_id": "cell-359faf39d74634b4",
     "locked": true,
     "points": 1,
     "schema_version": 3,
     "solution": false,
     "task": false
    }
   },
   "outputs": [],
   "source": [
    "# this is the 1st test cell for A5.3"
   ]
  },
  {
   "cell_type": "code",
   "execution_count": 31,
   "metadata": {
    "ExecuteTime": {
     "end_time": "2022-02-07T17:14:49.543809Z",
     "start_time": "2022-02-07T17:14:49.476425Z"
    },
    "deletable": false,
    "editable": false,
    "nbgrader": {
     "cell_type": "code",
     "checksum": "1f8afe518196a35f6266245cccdddd1c",
     "grade": true,
     "grade_id": "cell-a5dbd0c5c5438732",
     "locked": true,
     "points": 1,
     "schema_version": 3,
     "solution": false,
     "task": false
    }
   },
   "outputs": [],
   "source": [
    "# this is the 2nd test cell for A5.3\n"
   ]
  },
  {
   "cell_type": "code",
   "execution_count": 32,
   "metadata": {
    "ExecuteTime": {
     "end_time": "2022-02-07T17:14:49.793837Z",
     "start_time": "2022-02-07T17:14:49.546559Z"
    },
    "deletable": false,
    "editable": false,
    "nbgrader": {
     "cell_type": "code",
     "checksum": "8c761c16e8adf185036b61211b1f7898",
     "grade": false,
     "grade_id": "cell-e909021d933dd8e7",
     "locked": true,
     "schema_version": 3,
     "solution": false,
     "task": false
    }
   },
   "outputs": [
    {
     "data": {
      "image/png": "[encoded data removed]",
      "text/plain": [
       "<Figure size 432x288 with 1 Axes>"
      ]
     },
     "metadata": {
      "needs_background": "light"
     },
     "output_type": "display_data"
    }
   ],
   "source": [
    "# Plot the distribution of the validation errors\n",
    "plt.hist(validation_errors)\n",
    "plt.title(\"Validation errors distribution\")\n",
    "plt.show()"
   ]
  },
  {
   "cell_type": "markdown",
   "metadata": {
    "deletable": false,
    "editable": false,
    "nbgrader": {
     "cell_type": "markdown",
     "checksum": "1e6f9272c60745d160c66aad8874884d",
     "grade": false,
     "grade_id": "cell-b71a652714564fd9",
     "locked": true,
     "schema_version": 3,
     "solution": false,
     "task": false
    }
   },
   "source": [
    "<div class=\" alert alert-warning\">\n",
    "    \n",
    "# A5.4:\n",
    "Answer the following quiz question by setting the corresponding variable to the index of the answer that you consider correct.\n",
    "\n",
    "On what data part does the validation error depend?\n",
    "    \n",
    " * Answer 1: Only training data\n",
    "    \n",
    " * Answer 2: Only validation data\n",
    "    \n",
    " * Answer 3: Both: train and validation data\n",
    "</div>"
   ]
  },
  {
   "cell_type": "code",
   "execution_count": 33,
   "metadata": {
    "ExecuteTime": {
     "end_time": "2022-02-07T17:19:04.724597Z",
     "start_time": "2022-02-07T17:19:04.718072Z"
    },
    "deletable": false,
    "nbgrader": {
     "cell_type": "code",
     "checksum": "37f56682869d0a974c8bfed7090566a5",
     "grade": false,
     "grade_id": "cell-f859fb48f71073d8",
     "locked": false,
     "schema_version": 3,
     "solution": true,
     "task": false
    }
   },
   "outputs": [],
   "source": [
    "## set your_answer to the index of the correct answer (e.g., your_answer=1 if you think Answer 1 is correct)\n",
    "\n",
    "your_answer = 3"
   ]
  },
  {
   "cell_type": "code",
   "execution_count": 34,
   "metadata": {
    "deletable": false,
    "editable": false,
    "nbgrader": {
     "cell_type": "code",
     "checksum": "7f9a0f9242b9c3714ed393bcb963d3c2",
     "grade": false,
     "grade_id": "cell-6f1f7f0890093537",
     "locked": true,
     "schema_version": 3,
     "solution": false,
     "task": false
    }
   },
   "outputs": [],
   "source": [
    "# sanity check the length of array tr_errors\n",
    "assert len(str(your_answer)) == 1\n",
    "assert isinstance(your_answer,int)"
   ]
  },
  {
   "cell_type": "code",
   "execution_count": 35,
   "metadata": {
    "ExecuteTime": {
     "end_time": "2022-02-07T17:19:07.229675Z",
     "start_time": "2022-02-07T17:19:07.223099Z"
    },
    "deletable": false,
    "editable": false,
    "nbgrader": {
     "cell_type": "code",
     "checksum": "8aa0d768375b6c92ca59fd32e41d2769",
     "grade": true,
     "grade_id": "cell-5b10573c98e8a0ea",
     "locked": true,
     "points": 1,
     "schema_version": 3,
     "solution": false,
     "task": false
    }
   },
   "outputs": [],
   "source": [
    "#This is the grade cell for A5.4\n"
   ]
  },
  {
   "cell_type": "markdown",
   "metadata": {
    "deletable": false,
    "editable": false,
    "nbgrader": {
     "cell_type": "markdown",
     "checksum": "de962ff741db14969d35454c3441a673",
     "grade": false,
     "grade_id": "cell-47cd7eb5c2ecfd99",
     "locked": true,
     "schema_version": 3,
     "solution": false,
     "task": false
    }
   },
   "source": [
    "## Reference error"
   ]
  },
  {
   "cell_type": "markdown",
   "metadata": {
    "deletable": false,
    "editable": false,
    "nbgrader": {
     "cell_type": "markdown",
     "checksum": "936671f99fcb3f44a137297e1cc2a5fd",
     "grade": false,
     "grade_id": "cell-221d8c37d7049d63",
     "locked": true,
     "schema_version": 3,
     "solution": false,
     "task": false
    }
   },
   "source": [
    "As was stated before the learning goals, it is very good if it's possible to find the reference error $E_{ref}$ to compare against the average loss on validation/test set. That error can be found in several ways.<br>\n",
    "    \n",
    "It can be loss incurred by predictions obtained from humans. For example, with the help of some crowdsourcing platform, like https://www.mturk.com/.<br>\n",
    "    \n",
    "Also one common example is widespread when working with public datasets. For many of them people have already built solutions and shared their results in such competitions, as in Kaggle. So you can just go there, find similar dataset of interest, check the leaderboard scores and assume that the best one is reference mark.\n",
    "For instance, find the competition in Kaggle for Zillow Prize: Zillow’s Home Value Prediction (Zestimate). Go the leaderboard and find the smallest MAE score achieved by competitors. That can also be the reference score.<br>\n",
    "    \n",
    "Another variant is connected with probabilistic modelling (Bayes risk), to which A5.5 is devoted.\n",
    "\n"
   ]
  },
  {
   "cell_type": "markdown",
   "metadata": {
    "deletable": false,
    "editable": false,
    "nbgrader": {
     "cell_type": "markdown",
     "checksum": "f27b6637ab521885ba2e072d5ff56d1f",
     "grade": false,
     "grade_id": "cell-c7a05c8f9d03ccdf",
     "locked": true,
     "schema_version": 3,
     "solution": false,
     "task": false
    }
   },
   "source": [
    "<div class=\" alert alert-warning\">\n",
    "    \n",
    "# Task A5.5:\n",
    "<ul>  \n",
    "In this task you will work with probabilistic modelling for Bayes error. The assumption here is our datapoints are from a bivariate Gaussian distribution.  It's worth mentioning that we are not fitting a Gaussian to make predictions (which we could do, of course), instead we are modelling Bayes error to explore the intrinsic uncertainty in y given x. This way we can get some idea what to expect from our model, in particular, the least average squared error of the (in a certain sense) optimal hypothesis, i.e. some benchmark for the error. \n",
    "\n",
    "The formula for conditional variance of $y$, given $x$ is:\n",
    " $$\\sigma_{y|x}^{2}=(1-\\rho^2)\\sigma_{y}^{2}\\space,\\space \\text{where}\\space \\space \\rho = \\frac{cov(x,y)}{\\sigma_{x}\\sigma_{y}}$$\n",
    "From this formula, we can easily see that the variance of y given x is decreasing the more correlated the two variables are (the larger correlation coeficient $\\rho$ is).\n",
    "\n",
    "To make the calculation simpler, we will use an equivalent formula  for this task:\n",
    "    $$var(y|x)=var(y)-cov(y,x)var(x)^{-1}cov(x,y)$$\n",
    "    \n",
    "\n",
    "**The steps are**:\n",
    "    <ul>\n",
    "    <li>Fit a (bivariate) Gaussian distribution p(x,y) to the dataset and obtain a covariance matrix. Numpy provides the function [np.cov()](https://numpy.org/doc/stable/reference/generated/numpy.cov.html) to calculate a covariance matrix. Please set the parameter `ddof=1` (degree of freedom) in order to get unbiased estimators of variances and covariance. the resulted covariance matirx is a symmetric matrix, its main diaganol contains variance of $x$ and $y$, off-diaganol entries are covariance between $x$ and $y$.</li>\n",
    "    <li>Calculate the conditional variance $var(y|x)$ by using unbiased estimates of the variances and covariance you can access from the covariance matrix obtained in last step.\n",
    "    </li>\n",
    "    </ul>\n",
    "    \n",
    "    \n",
    "More detailed information about conditional variance of Gaussian distribution could be found in Wikipedia page: https://en.wikipedia.org/wiki/Multivariate_normal_distribution.\n",
    "\n",
    "</div>\n"
   ]
  },
  {
   "cell_type": "code",
   "execution_count": 36,
   "metadata": {
    "ExecuteTime": {
     "end_time": "2022-02-07T17:14:49.820830Z",
     "start_time": "2022-02-07T17:14:49.815792Z"
    },
    "deletable": false,
    "editable": false,
    "nbgrader": {
     "cell_type": "code",
     "checksum": "afa13e37b56c9762c30a8e0b47cd27ce",
     "grade": false,
     "grade_id": "cell-2b88e9f547951725",
     "locked": true,
     "schema_version": 3,
     "solution": false,
     "task": false
    }
   },
   "outputs": [
    {
     "name": "stdout",
     "output_type": "stream",
     "text": [
      "(713,)\n",
      "(713,)\n",
      "(2, 713)\n"
     ]
    }
   ],
   "source": [
    "# Sample preparation. We will use X and y from FMI data, but name them as x1 and y1. \n",
    "# First reshape X back to a vecotor and then construct a data matrix with 2 rows, corresponding to x1,y1 respectively.\n",
    "\n",
    "x1 = X.reshape(-1)  \n",
    "y1 = y\n",
    "data_matrix = np.stack([x1,y1], axis=0) # data matrix with 2 rows, corresponding to x1,y1 respectively.\n",
    "print(x1.shape)\n",
    "print(y1.shape)\n",
    "print(data_matrix.shape)"
   ]
  },
  {
   "cell_type": "code",
   "execution_count": 37,
   "metadata": {
    "ExecuteTime": {
     "end_time": "2022-02-07T17:33:28.275124Z",
     "start_time": "2022-02-07T17:33:28.224053Z"
    },
    "deletable": false,
    "nbgrader": {
     "cell_type": "code",
     "checksum": "b99c9ca06eacb539f879a075f774ad77",
     "grade": false,
     "grade_id": "cell-ec62fd235aadc7a3",
     "locked": false,
     "schema_version": 3,
     "solution": true,
     "task": false
    }
   },
   "outputs": [
    {
     "name": "stdout",
     "output_type": "stream",
     "text": [
      "Covariance Matrix: \n",
      "\n",
      " [[65.08407634 69.63357941]\n",
      " [69.63357941 84.48492235]]\n"
     ]
    }
   ],
   "source": [
    "## Use Numpy functions to calculate covariance matrix of x1 and y1.\n",
    "## check out https://numpy.org/doc/stable/reference/generated/numpy.cov.html\n",
    "\n",
    "covariance = np.cov(data_matrix) # Covariance matrix of two rows of the data matrix. \n",
    "\n",
    "assert covariance.shape==(2,2),'wrong shape of covariance'   #sanity check\n",
    "\n",
    "# A symmetric matrix, its main diaganol contains variance of x1 and y1\n",
    "# off-diaganol entries are covariance between x1 and y1 \n",
    "print(\"Covariance Matrix: \\n\\n\",covariance) "
   ]
  },
  {
   "cell_type": "code",
   "execution_count": 38,
   "metadata": {
    "ExecuteTime": {
     "end_time": "2022-02-07T17:33:33.733067Z",
     "start_time": "2022-02-07T17:33:33.725848Z"
    },
    "deletable": false,
    "editable": false,
    "nbgrader": {
     "cell_type": "code",
     "checksum": "e9bfd37ecba473415d0e48ce2c4b14c5",
     "grade": true,
     "grade_id": "cell-56d7a960c093687c",
     "locked": true,
     "points": 1,
     "schema_version": 3,
     "solution": false,
     "task": false
    }
   },
   "outputs": [],
   "source": [
    "#This is the grade cell for A5.5, please leave it as it is.\n"
   ]
  },
  {
   "cell_type": "markdown",
   "metadata": {
    "ExecuteTime": {
     "end_time": "2021-12-30T07:56:36.890932Z",
     "start_time": "2021-12-30T07:56:36.877580Z"
    },
    "deletable": false,
    "editable": false,
    "nbgrader": {
     "cell_type": "markdown",
     "checksum": "c239a0be90e10207e6eeb5c9f214a685",
     "grade": false,
     "grade_id": "cell-194185b5293621b3",
     "locked": true,
     "schema_version": 3,
     "solution": false,
     "task": false
    }
   },
   "source": [
    "Compute conditional variance of y1, given x1 by using the formula:\n",
    "    $$var(y|x)=var(y)-cov(y,x)var(x)^{-1}cov(x,y)$$\n",
    "\n",
    "\n",
    "NOTE: For variance of x1, variance of y1 and covariance between x1 and y1, please use the corresponding entry from the covariance matrix you've just got, and $ cov(y,x)=cov(x,y)$."
   ]
  },
  {
   "cell_type": "code",
   "execution_count": 43,
   "metadata": {
    "ExecuteTime": {
     "end_time": "2022-02-07T17:37:30.633710Z",
     "start_time": "2022-02-07T17:37:30.617952Z"
    },
    "deletable": false,
    "nbgrader": {
     "cell_type": "code",
     "checksum": "44ec446934dfd50451a72453ecc2e9ce",
     "grade": false,
     "grade_id": "cell-2d1301457d712736",
     "locked": false,
     "schema_version": 3,
     "solution": true,
     "task": false
    }
   },
   "outputs": [
    {
     "name": "stdout",
     "output_type": "stream",
     "text": [
      "The baseline for any other hypothesis is:  [[84.48492235 69.63357941]\n",
      " [69.63357941 65.08407634]]\n"
     ]
    }
   ],
   "source": [
    "## Compute the conditional variance of y1 given x1:\n",
    "\n",
    "var_x1 = np.cov(x1) # variance of x1\n",
    "var_y1 = np.cov(y1)             # variance of y1\n",
    "cov = np.cov(x1,y1)                # covariance between x1 and y1 \n",
    "condit_var = np.cov(y1,x1)         # conditional variance of y1, given x1 \n",
    "\n",
    "\n",
    "print(\"The baseline for any other hypothesis is: \", condit_var)"
   ]
  },
  {
   "cell_type": "code",
   "execution_count": 44,
   "metadata": {
    "ExecuteTime": {
     "end_time": "2022-02-07T17:37:33.313737Z",
     "start_time": "2022-02-07T17:37:33.305965Z"
    },
    "deletable": false,
    "editable": false,
    "nbgrader": {
     "cell_type": "code",
     "checksum": "e9e3eac4d75d9c66b8daec2b1f3a22e0",
     "grade": true,
     "grade_id": "cell-8a19de6a809ea34d",
     "locked": true,
     "points": 1,
     "schema_version": 3,
     "solution": false,
     "task": false
    }
   },
   "outputs": [],
   "source": [
    "#This is the grade cell for A5.5\n"
   ]
  },
  {
   "cell_type": "code",
   "execution_count": 45,
   "metadata": {
    "deletable": false,
    "editable": false,
    "nbgrader": {
     "cell_type": "code",
     "checksum": "3925a56a7bd969cfcf7ddb0291980da2",
     "grade": false,
     "grade_id": "cell-28f001a25d3209a5",
     "locked": true,
     "schema_version": 3,
     "solution": false,
     "task": false
    }
   },
   "outputs": [
    {
     "name": "stdout",
     "output_type": "stream",
     "text": [
      "Bayes error is:  [[84.48492235 69.63357941]\n",
      " [69.63357941 65.08407634]]\n",
      "Test error for the best model (degree=5) is:  11.723735778940444\n",
      "\n",
      "    degrees  train_errors  val_errors\n",
      "0        3      9.128681    9.353936\n",
      "1        5      9.104076    9.253002\n",
      "2       10      8.927690    9.409376\n"
     ]
    }
   ],
   "source": [
    "print(\"Bayes error is: \", condit_var)\n",
    "print(\"Test error for the best model (degree=5) is: \",test_error)\n",
    "errors = {\"degrees\":degrees,\n",
    "          \"train_errors\":tr_errors,\n",
    "          \"val_errors\":val_errors,\n",
    "         }\n",
    "print(\"\\n\",pd.DataFrame(errors))"
   ]
  },
  {
   "cell_type": "markdown",
   "metadata": {
    "deletable": false,
    "editable": false,
    "nbgrader": {
     "cell_type": "markdown",
     "checksum": "db01c5bab27e08a8249ab8f4d8f024ee",
     "grade": false,
     "grade_id": "cell-ef07d5dc88da5b7d",
     "locked": true,
     "schema_version": 3,
     "solution": false,
     "task": false
    }
   },
   "source": [
    "The baseline error can be compared with the test error for the best model in Task A5.2. We can see that the difference is not that large, our model performs rather good and some mistakes are because of the noise in data."
   ]
  },
  {
   "cell_type": "markdown",
   "metadata": {
    "deletable": false,
    "editable": false,
    "nbgrader": {
     "cell_type": "markdown",
     "checksum": "724b83adbcb3cd89d852ce2fed30c8e1",
     "grade": false,
     "grade_id": "cell-82dfb02990bf9647",
     "locked": true,
     "schema_version": 3,
     "solution": false,
     "task": false
    }
   },
   "source": [
    "<div class=\" alert alert-warning\">\n",
    "    \n",
    "# A5.6:\n",
    "Assume you have trained a model resulting in a small train error and a large val. error. Which of the following change will likely reduce the validation error?\n",
    "    \n",
    "* Answer 1: Use either more training data points or use a smaller model (e.g. polyreg with smaller degree)\n",
    "* Answer 2: Use more validation data points\n",
    "* Answer 3: Use a larger model (e.g. polyreg with higher degree)\n",
    "</div>"
   ]
  },
  {
   "cell_type": "code",
   "execution_count": 51,
   "metadata": {
    "ExecuteTime": {
     "end_time": "2022-02-07T17:44:18.373761Z",
     "start_time": "2022-02-07T17:44:18.369560Z"
    },
    "deletable": false,
    "nbgrader": {
     "cell_type": "code",
     "checksum": "cebf235bbcc4dbd2a294fd9486b36e50",
     "grade": false,
     "grade_id": "cell-182b339d80ef29d7",
     "locked": false,
     "schema_version": 3,
     "solution": true,
     "task": false
    }
   },
   "outputs": [],
   "source": [
    "# Type an answer number. \n",
    "your_answer2 = 1"
   ]
  },
  {
   "cell_type": "code",
   "execution_count": 50,
   "metadata": {
    "deletable": false,
    "editable": false,
    "nbgrader": {
     "cell_type": "code",
     "checksum": "f5930672d5a7206b6234ab8fd649b0df",
     "grade": false,
     "grade_id": "cell-ed9e1d31d8407e61",
     "locked": true,
     "schema_version": 3,
     "solution": false,
     "task": false
    }
   },
   "outputs": [],
   "source": [
    "# sanity check the length of array tr_errors\n",
    "assert len(str(your_answer2)) == 1\n",
    "assert isinstance(your_answer2,int)"
   ]
  },
  {
   "cell_type": "code",
   "execution_count": 49,
   "metadata": {
    "ExecuteTime": {
     "end_time": "2022-02-07T17:44:20.991320Z",
     "start_time": "2022-02-07T17:44:20.980061Z"
    },
    "deletable": false,
    "editable": false,
    "nbgrader": {
     "cell_type": "code",
     "checksum": "dbf741b7f09560a6c33064e60dd9af33",
     "grade": true,
     "grade_id": "cell-d1d16ec55303cad2",
     "locked": true,
     "points": 1,
     "schema_version": 3,
     "solution": false,
     "task": false
    }
   },
   "outputs": [],
   "source": [
    "#This is the grade cell for A5.6"
   ]
  }
 ],
 "metadata": {
  "kernelspec": {
   "display_name": "Python 3",
   "language": "python",
   "name": "python3"
  },
  "language_info": {
   "codemirror_mode": {
    "name": "ipython",
    "version": 3
   },
   "file_extension": ".py",
   "mimetype": "text/x-python",
   "name": "python",
   "nbconvert_exporter": "python",
   "pygments_lexer": "ipython3",
   "version": "3.8.6"
  },
  "latex_envs": {
   "LaTeX_envs_menu_present": true,
   "autoclose": false,
   "autocomplete": true,
   "bibliofile": "biblio.bib",
   "cite_by": "apalike",
   "current_citInitial": 1,
   "eqLabelWithNumbers": true,
   "eqNumInitial": 1,
   "hotkeys": {
    "equation": "Ctrl-E",
    "itemize": "Ctrl-I"
   },
   "labels_anchors": false,
   "latex_user_defs": false,
   "report_style_numbering": false,
   "user_envs_cfg": false
  },
  "nbdime-conflicts": {
   "local_diff": [
    {
     "diff": [
      {
       "diff": [
        {
         "diff": [
          {
           "key": 2,
           "op": "addrange",
           "valuelist": "7"
          },
          {
           "key": 2,
           "length": 1,
           "op": "removerange"
          }
         ],
         "key": 0,
         "op": "patch"
        }
       ],
       "key": "version",
       "op": "patch"
      }
     ],
     "key": "language_info",
     "op": "patch"
    }
   ],
   "remote_diff": [
    {
     "diff": [
      {
       "diff": [
        {
         "diff": [
          {
           "key": 4,
           "op": "addrange",
           "valuelist": "8"
          },
          {
           "key": 4,
           "length": 1,
           "op": "removerange"
          }
         ],
         "key": 0,
         "op": "patch"
        }
       ],
       "key": "version",
       "op": "patch"
      }
     ],
     "key": "language_info",
     "op": "patch"
    }
   ]
  },
  "toc": {
   "base_numbering": 1,
   "nav_menu": {},
   "number_sections": true,
   "sideBar": true,
   "skip_h1_title": false,
   "title_cell": "Table of Contents",
   "title_sidebar": "Contents",
   "toc_cell": false,
   "toc_position": {},
   "toc_section_display": true,
   "toc_window_display": false
  },
  "varInspector": {
   "cols": {
    "lenName": 16,
    "lenType": 16,
    "lenVar": 40
   },
   "kernels_config": {
    "python": {
     "delete_cmd_postfix": "",
     "delete_cmd_prefix": "del ",
     "library": "var_list.py",
     "varRefreshCmd": "print(var_dic_list())"
    },
    "r": {
     "delete_cmd_postfix": ") ",
     "delete_cmd_prefix": "rm(",
     "library": "var_list.r",
     "varRefreshCmd": "cat(var_dic_list()) "
    }
   },
   "types_to_exclude": [
    "module",
    "function",
    "builtin_function_or_method",
    "instance",
    "_Feature"
   ],
   "window_display": false
  }
 },
 "nbformat": 4,
 "nbformat_minor": 4
}
