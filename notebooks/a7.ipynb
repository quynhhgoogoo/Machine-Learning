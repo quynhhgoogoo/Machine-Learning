{
 "cells": [
  {
   "cell_type": "markdown",
   "metadata": {
    "deletable": false,
    "editable": false,
    "nbgrader": {
     "cell_type": "markdown",
     "checksum": "55e5e7c4bf4f211321d25b5cc25f5f90",
     "grade": false,
     "grade_id": "cell-492a99b0a8559f43",
     "locked": true,
     "schema_version": 3,
     "solution": false,
     "task": false
    }
   },
   "source": [
    "# Assignment 7 - Artifical neural network (ANN)\n",
    "The deadline for this assginment is 18.03 (Fri) 20:00"
   ]
  },
  {
   "cell_type": "markdown",
   "metadata": {
    "deletable": false,
    "editable": false,
    "nbgrader": {
     "cell_type": "markdown",
     "checksum": "f5536f13171613027fbce4b745160645",
     "grade": false,
     "grade_id": "cell-3e54a6992c224640",
     "locked": true,
     "schema_version": 3,
     "solution": false,
     "task": false
    }
   },
   "source": [
    "Being a subset of machine learning (ML) methods, **deep learning** follows the basic ML principle: find a hypothesis map out of a hypothesis space (represented by neural networks) that minimizes a chosen loss on datapoints. \n",
    "\n",
    "Neural networks are called networks because they are typically represened by composing together many different functions, and the computed values create a network-like structure. For example, we might have three functions $f^{(1)},f^{(2)}$and $f^{(3)}$ connected in a chain, to form $f(x)=f^{(3)}(f^{(2)}(f^{(1)}))$. In this case, $f{(1)}$is called the first layer of the network, $f^{(2)}$ is called the second layer, and so on. The overall length of the chain gives the depth of the network. Networks with multiple layers are called deep networks, hence the name deep learning.\n",
    "\n",
    "Typically the final layer is called the **output layer**, and represents the label that we want to predict. The training datapoints \"tell\" what the output layer must do at each datapoint - it should produce a value that is close to the desired label. The behaviour of other layers however, is not directly specified by the training data. Instead the learning algorithm decides how to use these layers to find the best approximation of the ideal map by minimizing (locally) the loss on the training dataset. Thus, these layers are called **hidden layers**. \n",
    "<img src=\"neural_network.png\" alt=\"neural network\" style=\"width:600px;height:350px;\">\n",
    "\n",
    "In this assignment a fully connected multi-layer neural network, also called feed-forward neural network or **Multilayer Perceptron (MLP)**, is used to represent a hypothesis space that includes highly non-linear functions. MLP is the simplest type of a neural network, where each cell (neuron) is 'connected' to all the cells from the next layer, and only the next layer uses its value.\n",
    "\n",
    "If you wish to gain understanding of how a neural network actually works and learns, [this video series](https://www.youtube.com/playlist?list=PLZHQObOWTQDNU6R1_67000Dx_ZCJB-3pi) by 3blue1brown provides a briliant visual explanation.\n",
    "\n",
    "## Learning goals\n",
    "After successfully completing this assignment, you should be able to:\n",
    "* understand the difference of hypothesis maps between MLP and linear models\n",
    "* understand that activation functions are a key part of neural network design\n",
    "* train MLPs to complete a regression task\n",
    "* train MLPs to complete a classification task\n",
    "* have some basic understanding of gradient based learning of ANN weights\n",
    "* use grid-search for adjusting multiple MLP hyper-parameters such as number of layers and learning rate parameters"
   ]
  },
  {
   "cell_type": "code",
   "execution_count": 85,
   "metadata": {
    "ExecuteTime": {
     "end_time": "2022-03-03T07:22:17.053943Z",
     "start_time": "2022-03-03T07:22:16.978400Z"
    },
    "deletable": false,
    "editable": false,
    "nbgrader": {
     "cell_type": "code",
     "checksum": "2f203e9abcbe57f1de28c2a98c21ef2d",
     "grade": false,
     "grade_id": "cell-b1646d6583a8c55a",
     "locked": true,
     "schema_version": 3,
     "solution": false,
     "task": false
    }
   },
   "outputs": [],
   "source": [
    "%config Completer.use_jedi = False  # enable code auto-completion\n",
    "import numpy as np #import numpy to work with arrays\n",
    "import pandas as pd #import pandas to manipulate the dataset\n",
    "from matplotlib import pyplot as plt #import the module matplotlib.pyplot to do visulization\n",
    "from sklearn.preprocessing import PolynomialFeatures    # function to generate polynomial and interaction features\n",
    "from sklearn.linear_model import LinearRegression\n",
    "from sklearn.metrics import mean_squared_error, accuracy_score    # function to calculate mean squared error "
   ]
  },
  {
   "cell_type": "markdown",
   "metadata": {
    "deletable": false,
    "editable": false,
    "nbgrader": {
     "cell_type": "markdown",
     "checksum": "b44f92fb8bd5705372902197fbeb33b5",
     "grade": false,
     "grade_id": "cell-210e5717beb441eb",
     "locked": true,
     "schema_version": 3,
     "solution": false,
     "task": false
    }
   },
   "source": [
    "# Basic neural network structure\n",
    "Take a look at the image below, showing a very basic neural network, with one-element input layer `x` and output layer `y`, and a single hidden layer with 3 hidden units:\n",
    "\n",
    "![A simple neural network schema](network-schema.png)\n",
    "\n"
   ]
  },
  {
   "cell_type": "markdown",
   "metadata": {
    "deletable": false,
    "editable": false,
    "nbgrader": {
     "cell_type": "markdown",
     "checksum": "d83dbd941f401ae0dfd9c88575266f12",
     "grade": false,
     "grade_id": "cell-d79251e1d5456153",
     "locked": true,
     "schema_version": 3,
     "solution": false,
     "task": false
    }
   },
   "source": [
    "The process of calculating the output of the network is as follows. We have the network defined as above, and a bias vector `[bias1, bias2, bias3]` corresponding to the `hidden1, hidden2, hidden3` hidden units. Then:\n",
    "1. We multiply x with the first layer's weights, and add a constant bias term. We have obtained initial values of the hidden 'neuron' activations. A single value is calculated as:\n",
    "$$\n",
    "hidden_i = x * weight_{1i} + bias_i\n",
    "$$\n",
    "1. Simply multiplying and adding to the initial value of x would not let us represent any complex non-linear functions, so we need to introduce a non-linearity to our network. It is done via activation functions in the hidden layer, and the most common one is the rectified linear unit (ReLU):\n",
    "$$\n",
    "ReLU(x) = max(x, 0)\n",
    "$$\n",
    "It could be thought of as a function replacing negative values with 0s. We apply it to our hidden layer activations:\n",
    "$$\n",
    "hidden_i = ReLU(hidden_i)\n",
    "$$\n",
    "1. Now that we have the activation values, we multiply them with the final weights and sum the result together to obtain the final output:\n",
    "$$\n",
    "y = hidden_1 * weight_{21} + hidden_2 * weight_{22} + hidden_3 * weight_{23}\n",
    "$$\n",
    "\n",
    "Note that there is no bias in the last step. We also do not use ReLU anymore, as it is a simple regression network. However, for classification, you would use a different activation function for your output to turn it into a probability distribution - see [sigmoid](https://en.wikipedia.org/wiki/Sigmoid_function) (binary) or [softmax](https://en.wikipedia.org/wiki/Softmax_function) (multiclass)"
   ]
  },
  {
   "cell_type": "markdown",
   "metadata": {
    "deletable": false,
    "editable": false,
    "nbgrader": {
     "cell_type": "markdown",
     "checksum": "a10c5c910fa9eb40752330e292911732",
     "grade": false,
     "grade_id": "cell-280f7d9b6d99df2e",
     "locked": true,
     "schema_version": 3,
     "solution": false,
     "task": false
    }
   },
   "source": [
    "<div class=\" alert alert-warning\">\n",
    "    \n",
    "# Student Task A7.1\n",
    "    \n",
    "Use your understanding of how a neural network works, to set the correct weights and biases for our toy neural network example from above, so that the resulting function `f(x) = y` is a non-linear function looking like this:\n",
    "![Neural Network hypothesis plot](network-triangle.png)\n",
    "    \n",
    "Note that this would not be possible with linear models we studied previously, such as linear regression or SVMs.\n",
    "\n",
    "The vertices of the triangle must be the points `(0, 0), (1, 1), (2, 0)`. Fill in the missing (`None`) values in the `weights_1`, `weights_2`, and `bias` vectors. There is no need to change the values that have already been set!\n",
    "    \n",
    "Hint:  Try it out as a math problem with pen and paper if you have trouble! Try to think what are the already given functions $hidden_1(x)$ and $hidden_3(x)$, what unknowns there are in $hidden_2$, and what is the result of adding them together to obtain $y = f(x) = hidden_1(x) + hidden_2(x) + hidden_3(X)$ - e.g. with the given values:\n",
    "    \n",
    "$\n",
    "hidden_3(x) = 1 * x - 2 \n",
    "$; for `x > 2`(i.e.`(1*x-2) > 0`)\n",
    "    \n",
    "$\n",
    "hidden_3(x) = 0\n",
    "$; otherwise\n",
    "    \n",
    "There are also visualizations of the intermediate plots below.\n",
    "<div>"
   ]
  },
  {
   "cell_type": "code",
   "execution_count": 86,
   "metadata": {
    "ExecuteTime": {
     "end_time": "2022-03-02T07:28:38.406456Z",
     "start_time": "2022-03-02T07:28:38.383893Z"
    },
    "deletable": false,
    "nbgrader": {
     "cell_type": "code",
     "checksum": "ab6318f8076f457a9631cfe642e8a4c1",
     "grade": false,
     "grade_id": "cell-dbf4dbecf5b02c26",
     "locked": false,
     "schema_version": 3,
     "solution": true,
     "task": false
    }
   },
   "outputs": [
    {
     "name": "stdout",
     "output_type": "stream",
     "text": [
      "[1. 2. 1.]\n",
      "[ 0. -2. -2.]\n"
     ]
    }
   ],
   "source": [
    "## In the following two lines of code, please fill in the None values in a way allowing you to obtain \n",
    "## the given hyphothesis shape.  No need to change the given values in weights_1, bias.\n",
    "\n",
    "weights_1 = np.array([1., 2., 1.])     # a vector represents [w11, w12, w13]\n",
    "bias = np.array([0., -2, -2.])         # a vector represents [bias1, bias2, bias3]\n",
    "print(weights_1)\n",
    "print(bias)\n",
    "# YOUR CODE HERE\n",
    "weights_2 = np.array([1, -1, 1])         # a vector represents [w21, w22, w23]\n",
    "\n"
   ]
  },
  {
   "cell_type": "code",
   "execution_count": 87,
   "metadata": {
    "ExecuteTime": {
     "end_time": "2022-03-03T07:41:21.127165Z",
     "start_time": "2022-03-03T07:41:21.120027Z"
    },
    "deletable": false,
    "editable": false,
    "nbgrader": {
     "cell_type": "code",
     "checksum": "921b74b452078df6e565240d68daef61",
     "grade": false,
     "grade_id": "cell-de33b87b47ab62a6",
     "locked": true,
     "schema_version": 3,
     "solution": false,
     "task": false
    }
   },
   "outputs": [],
   "source": [
    "def hidden(x, weights_1, bias):\n",
    "    \"\"\"\n",
    "    Inputs: x,feature,scalar\n",
    "            weights_1, vector, [w11,w12,w13]\n",
    "            bias, vector, [bias1,bias2,bias3]\n",
    "    Output: activations, vector\n",
    "    \"\"\"\n",
    "    hidden_x = x * weights_1 + bias \n",
    "    return np.maximum(hidden_x, 0) # Apply the ReLU activation\n",
    "\n",
    "def network(x, weights_1, bias, weights_2):\n",
    "    \"\"\"\n",
    "    Inputs: x, feature,scalar\n",
    "            weights_1, vector, [w11,w12,w13]\n",
    "            bias, vector, [bias1,bias2,bias3]\n",
    "            weights_2, vector, [w21,w22,w23]\n",
    "    Output: predicted label, scalar\n",
    "    \"\"\"\n",
    "    hidden_x = hidden(x, weights_1, bias) # Calculate the hidden activations\n",
    "    final_x = hidden_x * weights_2 # Multiply them with the final weights [w21, w22, w23]\n",
    "    return sum(final_x) # Sum the result to obtain the final prediction"
   ]
  },
  {
   "cell_type": "markdown",
   "metadata": {
    "deletable": false,
    "editable": false,
    "nbgrader": {
     "cell_type": "markdown",
     "checksum": "659e786038af3d1e4fa1e58088eff679",
     "grade": false,
     "grade_id": "cell-87a928b374d7483c",
     "locked": true,
     "schema_version": 3,
     "solution": false,
     "task": false
    }
   },
   "source": [
    "Let's check how the results look visually, starting with the hidden layer activations:"
   ]
  },
  {
   "cell_type": "code",
   "execution_count": 88,
   "metadata": {
    "ExecuteTime": {
     "end_time": "2022-03-03T07:41:22.511111Z",
     "start_time": "2022-03-03T07:41:22.506230Z"
    },
    "deletable": false,
    "editable": false,
    "nbgrader": {
     "cell_type": "code",
     "checksum": "bd4e3faa1f332d64751940ac87b39231",
     "grade": false,
     "grade_id": "cell-b70d154dd62a78ef",
     "locked": true,
     "schema_version": 3,
     "solution": false,
     "task": false
    }
   },
   "outputs": [],
   "source": [
    "x_to_plot = np.linspace(-0.5, 2.5, 99) # X values to serve as inputs for our network for plotting"
   ]
  },
  {
   "cell_type": "code",
   "execution_count": 89,
   "metadata": {
    "ExecuteTime": {
     "end_time": "2022-03-03T07:41:23.836565Z",
     "start_time": "2022-03-03T07:41:23.425214Z"
    },
    "deletable": false,
    "editable": false,
    "nbgrader": {
     "cell_type": "code",
     "checksum": "9183e9336f88ccd2a1e8543f38f7ea39",
     "grade": false,
     "grade_id": "cell-45d54a00e4969cf8",
     "locked": true,
     "schema_version": 3,
     "solution": false,
     "task": false
    }
   },
   "outputs": [
    {
     "data": {
      "image/png": "[encoded data removed]",
      "text/plain": [
       "<Figure size 720x864 with 3 Axes>"
      ]
     },
     "metadata": {
      "needs_background": "light"
     },
     "output_type": "display_data"
    }
   ],
   "source": [
    "plt.figure(figsize=(10, 12))\n",
    "for i in range(3):\n",
    "    plt.tight_layout()\n",
    "    plt.subplot(3, 1, i + 1)\n",
    "    \n",
    "    # Compute the hidden layer activations\n",
    "    hidden_to_plot = [hidden(x, weights_1, bias)[i] for x in x_to_plot]\n",
    "    \n",
    "    # Make sure all plots use the same scale\n",
    "    plt.xlim(-0.5, 2.5) \n",
    "    plt.ylim(-0.5, 1.5)\n",
    "    plt.gca().set_aspect('equal', adjustable='box')\n",
    "    \n",
    "    # Plot the hidden layer activations\n",
    "    plt.title(f'Hidden {i + 1} plot')\n",
    "    plt.xlabel('x')\n",
    "    plt.ylabel(f'h{i + 1}')\n",
    "    plt.plot(x_to_plot, hidden_to_plot)"
   ]
  },
  {
   "cell_type": "markdown",
   "metadata": {
    "deletable": false,
    "editable": false,
    "nbgrader": {
     "cell_type": "markdown",
     "checksum": "9e248ef65148663970bce3584692ea2f",
     "grade": false,
     "grade_id": "cell-6ec772ac29d74f37",
     "locked": true,
     "schema_version": 3,
     "solution": false,
     "task": false
    }
   },
   "source": [
    "Now let's add the hidden activations multiplied by `weights_2` together, and plot the final hyphothesis:"
   ]
  },
  {
   "cell_type": "code",
   "execution_count": 90,
   "metadata": {
    "ExecuteTime": {
     "end_time": "2022-03-03T07:41:26.126625Z",
     "start_time": "2022-03-03T07:41:25.895692Z"
    },
    "deletable": false,
    "editable": false,
    "nbgrader": {
     "cell_type": "code",
     "checksum": "a5f53f8ee4036086ca0cc8754810b6b2",
     "grade": false,
     "grade_id": "cell-39e8c42bf0426bf9",
     "locked": true,
     "schema_version": 3,
     "solution": false,
     "task": false
    }
   },
   "outputs": [
    {
     "data": {
      "text/plain": [
       "[<matplotlib.lines.Line2D at 0x7fdde1f4dbe0>]"
      ]
     },
     "execution_count": 90,
     "metadata": {},
     "output_type": "execute_result"
    },
    {
     "data": {
      "image/png": "[encoded data removed]",
      "text/plain": [
       "<Figure size 432x288 with 1 Axes>"
      ]
     },
     "metadata": {
      "needs_background": "light"
     },
     "output_type": "display_data"
    }
   ],
   "source": [
    "y_to_plot = [network(x, weights_1, bias, weights_2) for x in x_to_plot] # Use our network to obtain y values\n",
    "plt.title('Neural Network toy example hyphothesis function')\n",
    "plt.xlabel('x')\n",
    "plt.ylabel('y')\n",
    "plt.plot(x_to_plot, y_to_plot)"
   ]
  },
  {
   "cell_type": "code",
   "execution_count": 91,
   "metadata": {
    "ExecuteTime": {
     "end_time": "2022-03-03T07:41:28.438223Z",
     "start_time": "2022-03-03T07:41:28.431162Z"
    },
    "deletable": false,
    "editable": false,
    "nbgrader": {
     "cell_type": "code",
     "checksum": "384338ae32bf46a5967d801d328bad1e",
     "grade": false,
     "grade_id": "cell-87790d570306eb38",
     "locked": true,
     "schema_version": 3,
     "solution": false,
     "task": false
    }
   },
   "outputs": [],
   "source": [
    "# Sanity check the resulting values:\n",
    "assert np.isclose(network(0, weights_1, bias, weights_2), 0.)\n",
    "assert np.isclose(network(1, weights_1, bias, weights_2), 1.)\n",
    "assert np.isclose(network(2, weights_1, bias, weights_2), 0.)\n",
    "assert np.isclose(y_to_plot[0], 0.)\n",
    "assert np.isclose(y_to_plot[-1], 0.)\n",
    "assert np.isclose(y_to_plot[len(y_to_plot) // 2], 1.)"
   ]
  },
  {
   "cell_type": "code",
   "execution_count": 92,
   "metadata": {
    "ExecuteTime": {
     "end_time": "2022-03-03T07:41:29.468825Z",
     "start_time": "2022-03-03T07:41:29.462227Z"
    },
    "deletable": false,
    "editable": false,
    "nbgrader": {
     "cell_type": "code",
     "checksum": "55b3bcc5bd35a4b19a1ee51fda7d52fd",
     "grade": true,
     "grade_id": "cell-0fe9301658bb5487",
     "locked": true,
     "points": 1,
     "schema_version": 3,
     "solution": false,
     "task": false
    }
   },
   "outputs": [],
   "source": [
    "# This is a test cell for A7.1\n"
   ]
  },
  {
   "cell_type": "markdown",
   "metadata": {
    "deletable": false,
    "editable": false,
    "nbgrader": {
     "cell_type": "markdown",
     "checksum": "ff4db8e81d8898fe6be154ed889803a7",
     "grade": false,
     "grade_id": "cell-23c466359525c199",
     "locked": true,
     "schema_version": 3,
     "solution": false,
     "task": false
    }
   },
   "source": [
    "## Dataset for this assignment\n",
    "We are going to reuse the dataset we have been working with in the previous assignments, but this time we will formulate a different ML problem: predicting air temperature by using history records, in particular, the label is air temperature at 00:00 of a given day, the features are air temperatures of previous 5 days at the same time, 00:00."
   ]
  },
  {
   "cell_type": "code",
   "execution_count": 93,
   "metadata": {
    "ExecuteTime": {
     "end_time": "2022-03-03T07:44:30.029108Z",
     "start_time": "2022-03-03T07:44:29.994720Z"
    },
    "deletable": false,
    "editable": false,
    "nbgrader": {
     "cell_type": "code",
     "checksum": "b77b72b3ffcd9af37949255c4027016f",
     "grade": false,
     "grade_id": "cell-c690a103a271c67a",
     "locked": true,
     "schema_version": 3,
     "solution": false,
     "task": false
    }
   },
   "outputs": [
    {
     "data": {
      "text/html": [
       "<div>\n",
       "<style scoped>\n",
       "    .dataframe tbody tr th:only-of-type {\n",
       "        vertical-align: middle;\n",
       "    }\n",
       "\n",
       "    .dataframe tbody tr th {\n",
       "        vertical-align: top;\n",
       "    }\n",
       "\n",
       "    .dataframe thead th {\n",
       "        text-align: right;\n",
       "    }\n",
       "</style>\n",
       "<table border=\"1\" class=\"dataframe\">\n",
       "  <thead>\n",
       "    <tr style=\"text-align: right;\">\n",
       "      <th></th>\n",
       "      <th>year</th>\n",
       "      <th>m</th>\n",
       "      <th>d</th>\n",
       "      <th>time</th>\n",
       "      <th>air temperature</th>\n",
       "      <th>pre_1</th>\n",
       "      <th>pre_2</th>\n",
       "      <th>pre_3</th>\n",
       "      <th>pre_4</th>\n",
       "      <th>pre_5</th>\n",
       "    </tr>\n",
       "  </thead>\n",
       "  <tbody>\n",
       "    <tr>\n",
       "      <th>10</th>\n",
       "      <td>2020</td>\n",
       "      <td>1</td>\n",
       "      <td>6</td>\n",
       "      <td>00:00</td>\n",
       "      <td>1.5</td>\n",
       "      <td>-1.6</td>\n",
       "      <td>1.7</td>\n",
       "      <td>4.6</td>\n",
       "      <td>3.6</td>\n",
       "      <td>1.5</td>\n",
       "    </tr>\n",
       "    <tr>\n",
       "      <th>12</th>\n",
       "      <td>2020</td>\n",
       "      <td>1</td>\n",
       "      <td>7</td>\n",
       "      <td>00:00</td>\n",
       "      <td>4.5</td>\n",
       "      <td>1.5</td>\n",
       "      <td>-1.6</td>\n",
       "      <td>1.7</td>\n",
       "      <td>4.6</td>\n",
       "      <td>3.6</td>\n",
       "    </tr>\n",
       "    <tr>\n",
       "      <th>14</th>\n",
       "      <td>2020</td>\n",
       "      <td>1</td>\n",
       "      <td>8</td>\n",
       "      <td>00:00</td>\n",
       "      <td>5.3</td>\n",
       "      <td>4.5</td>\n",
       "      <td>1.5</td>\n",
       "      <td>-1.6</td>\n",
       "      <td>1.7</td>\n",
       "      <td>4.6</td>\n",
       "    </tr>\n",
       "    <tr>\n",
       "      <th>16</th>\n",
       "      <td>2020</td>\n",
       "      <td>1</td>\n",
       "      <td>9</td>\n",
       "      <td>00:00</td>\n",
       "      <td>2.1</td>\n",
       "      <td>5.3</td>\n",
       "      <td>4.5</td>\n",
       "      <td>1.5</td>\n",
       "      <td>-1.6</td>\n",
       "      <td>1.7</td>\n",
       "    </tr>\n",
       "    <tr>\n",
       "      <th>18</th>\n",
       "      <td>2020</td>\n",
       "      <td>1</td>\n",
       "      <td>10</td>\n",
       "      <td>00:00</td>\n",
       "      <td>-2.0</td>\n",
       "      <td>2.1</td>\n",
       "      <td>5.3</td>\n",
       "      <td>4.5</td>\n",
       "      <td>1.5</td>\n",
       "      <td>-1.6</td>\n",
       "    </tr>\n",
       "  </tbody>\n",
       "</table>\n",
       "</div>"
      ],
      "text/plain": [
       "    year  m   d   time  air temperature  pre_1  pre_2  pre_3  pre_4  pre_5\n",
       "10  2020  1   6  00:00              1.5   -1.6    1.7    4.6    3.6    1.5\n",
       "12  2020  1   7  00:00              4.5    1.5   -1.6    1.7    4.6    3.6\n",
       "14  2020  1   8  00:00              5.3    4.5    1.5   -1.6    1.7    4.6\n",
       "16  2020  1   9  00:00              2.1    5.3    4.5    1.5   -1.6    1.7\n",
       "18  2020  1  10  00:00             -2.0    2.1    5.3    4.5    1.5   -1.6"
      ]
     },
     "execution_count": 93,
     "metadata": {},
     "output_type": "execute_result"
    }
   ],
   "source": [
    "# Read in the data stored in the file 'FMIData_Assignment7.csv' and clean the dataset\n",
    "data = pd.read_csv('FMIData_Assignment7.csv')\n",
    "# drop unrelevant columns\n",
    "data.drop(columns=['Time zone','Precipitation amount (mm)','Snow depth (cm)',\\\n",
    "                 'Ground minimum temperature (degC)','Maximum temperature (degC)', 'Minimum temperature (degC)'],inplace=True)  \n",
    "data.columns =['year','m','d','time','air temperature'] # rename columns \n",
    "\n",
    "# Select only weather recordings whose property 'time' is equal to `00:00`\n",
    "data = data[data['time'] == '00:00']\n",
    "\n",
    "# Shift the column 'air temperatrue' by different periods to obtain history records\n",
    "data['pre_1'] = data['air temperature'].shift(1)\n",
    "data['pre_2'] = data['air temperature'].shift(2)\n",
    "data['pre_3'] = data['air temperature'].shift(3)\n",
    "data['pre_4'] = data['air temperature'].shift(4)\n",
    "data['pre_5'] = data['air temperature'].shift(5)\n",
    "\n",
    "data = data.iloc[5:] # drop the first 5 rows which involves NAN\n",
    "data.head()"
   ]
  },
  {
   "cell_type": "markdown",
   "metadata": {
    "deletable": false,
    "editable": false,
    "nbgrader": {
     "cell_type": "markdown",
     "checksum": "c7de41a6b4e8d06009c3125bd2a53787",
     "grade": false,
     "grade_id": "cell-09b4e74d2340fe62",
     "locked": true,
     "schema_version": 3,
     "solution": false,
     "task": false
    }
   },
   "source": [
    "<div class=\" alert alert-warning\">\n",
    "    \n",
    "# Student Task A7.2\n",
    "\n",
    "In this problem formulation, a datapoint represents a day corresponding to a row in the dataframe. The column \"air temperature\" stores the labels and columns 'pre_1', 'pre_2', 'pre_3', 'pre_4', 'pre_5' are used as features.\n",
    "    \n",
    "Before training an MLP, let's firstly try out the old method we used before: PolynomialRegression. \n",
    "    \n",
    "As usual, we create the feature matrix and label vector and then train several models with different polynomial degrees to see which one is ideal.\n",
    "\n",
    "**Your task** is: create a feature matrix and a label vector\n",
    "    \n",
    "</div>"
   ]
  },
  {
   "cell_type": "code",
   "execution_count": 94,
   "metadata": {
    "ExecuteTime": {
     "end_time": "2022-03-03T07:48:33.069186Z",
     "start_time": "2022-03-03T07:48:33.061851Z"
    },
    "deletable": false,
    "nbgrader": {
     "cell_type": "code",
     "checksum": "b17e46979aeb4a8259a9ac63c505f468",
     "grade": false,
     "grade_id": "cell-e71ea28f50254a6e",
     "locked": false,
     "schema_version": 3,
     "solution": true,
     "task": false
    }
   },
   "outputs": [
    {
     "name": "stdout",
     "output_type": "stream",
     "text": [
      "[[-1.6 1.7 4.6 3.6 1.5]\n",
      " [1.5 -1.6 1.7 4.6 3.6]\n",
      " [4.5 1.5 -1.6 1.7 4.6]\n",
      " ...\n",
      " [-2.2 -7.2 -15.4 -14.2 -13.0]\n",
      " [0.1 -2.2 -7.2 -15.4 -14.2]\n",
      " [1.2 0.1 -2.2 -7.2 -15.4]]\n",
      "[1.5 4.5 5.3 2.1 -2.0 0.0 5.2 1.6 3.3 5.8 5.0 4.0 3.5 3.6 3.3 5.2 1.2 0.0\n",
      " 1.7 0.3 2.9 0.6 3.0 1.8 1.7 1.9 2.5 3.8 -0.5 -4.6 -1.3 -3.3 -3.5 0.9 3.3\n",
      " 3.8 3.1 2.6 1.8 -1.0 1.9 3.7 5.1 5.1 3.8 1.2 3.0 3.9 3.4 1.6 -1.7 -1.2\n",
      " -3.4 -3.8 -2.8 1.6 3.3 2.4 2.0 2.9 2.1 1.1 1.2 3.9 3.6 3.3 3.9 1.1 -2.4\n",
      " 1.1 3.2 1.7 4.6 4.2 0.6 -1.9 -1.1 1.6 3.6 5.1 4.9 3.9 5.6 -0.2 -1.2 -0.7\n",
      " 3.6 4.5 2.2 2.5 3.0 6.0 7.6 6.4 6.0 3.2 3.7 4.2 4.2 2.0 3.0 2.7 4.2 5.9\n",
      " 6.4 9.3 10.6 8.0 8.6 6.6 4.4 5.0 4.9 4.4 2.4 3.4 6.2 8.5 8.7 6.4 10.1\n",
      " 11.2 8.8 8.2 10.0 10.2 4.8 5.1 4.2 6.1 5.5 5.4 5.4 7.1 7.1 8.2 10.9 11.4\n",
      " 12.4 11.1 14.8 16.9 15.3 13.7 13.7 16.0 15.5 12.7 12.7 13.7 14.2 13.5\n",
      " 13.7 14.6 15.4 15.2 18.5 17.4 18.4 17.9 18.4 19.6 21.3 21.1 20.2 21.8\n",
      " 19.3 17.4 17.5 20.1 22.5 24.0 22.6 23.6 21.4 18.5 15.7 16.2 16.0 16.9\n",
      " 15.2 15.5 16.1 14.5 14.5 14.1 15.8 13.9 15.6 14.8 15.0 17.6 19.2 21.0\n",
      " 20.6 20.6 20.9 19.3 15.3 14.2 14.4 15.3 17.7 19.3 17.5 16.9 15.9 17.8\n",
      " 16.7 16.6 16.5 16.1 16.9 17.2 19.0 21.6 21.7 18.9 15.6 14.8 14.8 16.9\n",
      " 19.2 21.0 17.2 17.5 19.0 19.4 20.3 18.1 19.8 16.1 15.1 13.8 13.6 13.4\n",
      " 14.2 13.0 13.3 13.4 14.1 16.4 16.1 15.3 14.5 13.6 12.2 13.0 12.8 11.9\n",
      " 13.7 12.9 13.2 13.3 13.8 9.2 10.3 10.5 10.7 12.6 12.4 14.0 16.2 15.5 15.3\n",
      " 15.7 14.1 13.2 13.1 11.7 12.7 12.9 12.9 14.5 14.2 12.9 12.9 11.7 11.5\n",
      " 10.6 9.6 8.4 6.6 5.2 3.4 6.1 4.5 2.0 0.9 5.9 9.9 7.9 3.5 5.9 10.0 10.9\n",
      " 9.7 10.0 8.7 7.2 8.5 7.9 10.6 7.5 7.3 8.1 8.4 4.2 4.0 1.0 5.1 6.9 5.5 4.4\n",
      " 3.9 4.4 5.9 9.6 8.3 0.1 2.2 6.2 4.5 2.5 3.8 5.6 0.9 1.3 0.5 0.6 4.0 2.7\n",
      " 0.0 1.4 3.7 3.7 1.8 -0.5 -2.0 -1.5 -1.0 1.2 -1.3 -0.9 1.8 2.9 1.4 3.2 4.1\n",
      " 4.9 3.4 4.0 2.2 2.1 0.4 -1.6 0.6 0.3 0.8 2.6 1.8 1.7 -0.4 -2.8 -1.5 -3.0\n",
      " -3.2 -1.4 -2.9 -7.2 -4.9 -0.3 -1.1 -4.8 -14.4 -18.8 -16.2 -12.3 -6.9 -0.4\n",
      " -4.2 -4.4 1.5 2.7 1.7 0.8 0.8 0.3 -3.5 -3.8 -6.1 -6.9 -7.7 -4.4 -7.4\n",
      " -13.3 -14.9 -13.4 -8.5 -7.8 -11.6 -13.3 -16.0 -13.5 -4.8 -6.1 -7.8 -5.7\n",
      " -14.7 -14.2 -6.0 -3.0 -0.3 -7.4 -4.9 -1.0 2.8 3.2 2.1 4.3 3.3 3.4 2.0\n",
      " -1.7 -4.4 -1.6 -4.3 -6.1 -7.4 -10.8 -3.9 -1.6 1.3 0.5 0.9 0.2 -0.1 -2.8\n",
      " -5.4 -1.9 1.4 -1.1 1.3 2.0 3.3 2.6 4.5 4.3 3.2 4.7 5.6 4.6 3.1 3.7 4.0\n",
      " 2.4 2.2 3.2 3.8 2.6 2.9 5.3 8.8 5.8 4.3 5.5 8.4 10.0 10.2 8.8 7.4 7.1 6.6\n",
      " 2.9 2.1 3.4 3.3 3.8 3.3 4.0 5.0 5.5 4.8 6.5 6.9 3.8 5.7 4.5 5.9 6.9 11.3\n",
      " 17.1 16.9 17.3 13.7 14.5 13.3 12.8 12.3 12.1 12.3 10.5 10.8 11.3 12.0\n",
      " 11.5 9.4 10.0 11.5 11.1 11.6 11.8 13.7 16.9 17.5 17.8 19.5 18.6 19.6 18.4\n",
      " 18.5 19.2 19.9 18.2 15.6 15.9 16.2 16.8 16.9 20.8 22.6 24.4 26.5 25.7\n",
      " 22.4 20.6 20.8 21.4 21.3 21.6 22.7 20.7 22.1 20.6 22.1 22.7 23.6 23.8\n",
      " 24.0 22.9 22.0 25.8 23.4 22.9 24.8 26.3 26.7 25.1 21.8 22.0 18.2 17.1\n",
      " 16.6 18.7 17.9 17.4 20.2 23.4 24.0 20.1 20.6 16.5 17.6 18.0 18.0 15.0\n",
      " 14.6 15.7 17.9 15.9 18.5 17.7 17.7 17.6 18.0 18.8 18.0 15.8 16.9 17.5\n",
      " 15.0 14.6 15.6 14.4 14.2 12.4 11.9 12.1 13.5 13.2 16.6 16.3 15.6 14.8\n",
      " 12.1 11.0 10.0 8.9 9.2 12.6 11.7 14.4 15.0 13.0 14.3 14.2 12.9 9.6 7.7\n",
      " 8.0 8.5 8.6 8.1 7.6 6.2 5.9 8.6 8.4 9.9 10.2 8.3 8.7 9.9 9.8 9.7 10.8\n",
      " 11.1 11.8 10.7 12.1 10.9 11.4 11.5 11.1 10.2 8.4 6.6 6.4 8.3 5.9 5.2 4.4\n",
      " 2.5 8.1 10.4 5.6 1.9 2.1 8.9 8.2 7.8 8.2 9.8 8.7 8.7 8.7 7.2 7.2 7.9 6.6\n",
      " 4.4 2.9 0.9 0.4 7.7 5.9 5.4 2.0 0.5 0.9 5.7 5.5 4.1 2.5 3.3 -0.3 -2.2 0.4\n",
      " 2.7 4.4 -1.8 -7.1 -6.4 -5.3 -8.9 -7.2 -8.4 -9.6 -8.3 -15.0 -13.0 -14.2\n",
      " -15.4 -7.2 -2.2 0.1 1.2 1.2]\n",
      "(708, 5)\n",
      "(708,)\n"
     ]
    }
   ],
   "source": [
    "## Create feature matrix and label vector:\n",
    "X = data.to_numpy()[:, 5: 10]      # features are air temperatures of previous 5 days \n",
    "print(X)\n",
    "y = data.to_numpy()[:, 4]      # label is air temperature of the present day\n",
    "print(y)\n",
    "# YOUR CODE HERE\n",
    "\n",
    "\n",
    "\n",
    "print(X.shape)\n",
    "print(y.shape)\n",
    "assert X.ndim == 2,  \"Wrong dimension of X\"  #sanity check the dimension of X\n",
    "assert X.shape[1] == 5, \"wrong shape of X\"  #sanity check the shape of X\n",
    "assert y.ndim == 1,  \"Wrong dimension of y\"  #sanity check the dimension of y\n",
    "assert y.shape[0] == 708, \"Wrong shape of y\" #sanity check the shape of y\n"
   ]
  },
  {
   "cell_type": "code",
   "execution_count": 95,
   "metadata": {
    "ExecuteTime": {
     "end_time": "2022-03-03T07:50:25.179659Z",
     "start_time": "2022-03-03T07:50:25.169567Z"
    },
    "deletable": false,
    "editable": false,
    "nbgrader": {
     "cell_type": "code",
     "checksum": "b51e3f1abf250e54e42fa03fa85ce07f",
     "grade": true,
     "grade_id": "cell-9ea0a54f6e715495",
     "locked": true,
     "points": 1,
     "schema_version": 3,
     "solution": false,
     "task": false
    }
   },
   "outputs": [],
   "source": [
    "# this is the test cell for A7.2"
   ]
  },
  {
   "cell_type": "code",
   "execution_count": 96,
   "metadata": {
    "ExecuteTime": {
     "end_time": "2022-03-03T07:50:25.714185Z",
     "start_time": "2022-03-03T07:50:25.700716Z"
    },
    "deletable": false,
    "editable": false,
    "nbgrader": {
     "cell_type": "code",
     "checksum": "982308409d088d653296a4288a86aee5",
     "grade": false,
     "grade_id": "cell-8b28343eba12486a",
     "locked": true,
     "schema_version": 3,
     "solution": false,
     "task": false
    }
   },
   "outputs": [],
   "source": [
    "from sklearn.model_selection import train_test_split \n",
    "# Split the dataset into a training set and a validation set\n",
    "X_train, X_val, y_train, y_val = train_test_split(X, y, test_size=0.3, random_state=42)"
   ]
  },
  {
   "cell_type": "code",
   "execution_count": 97,
   "metadata": {
    "ExecuteTime": {
     "end_time": "2022-03-03T07:51:19.766242Z",
     "start_time": "2022-03-03T07:51:19.697244Z"
    },
    "deletable": false,
    "editable": false,
    "nbgrader": {
     "cell_type": "code",
     "checksum": "c70f847fe3e6b745f45b6497f94a0907",
     "grade": false,
     "grade_id": "cell-2e5f6017b78f30fa",
     "locked": true,
     "schema_version": 3,
     "solution": false,
     "task": false
    }
   },
   "outputs": [],
   "source": [
    "## define a list of values for the maximum polynomial degree \n",
    "degrees = [1,2,3,4]    \n",
    "\n",
    "# we will use this variables to store the resulting training and validation errors for each polynomial degree\n",
    "linear_tr_errors = []          \n",
    "linear_val_errors = []\n",
    "for degree in degrees:    # use for-loop to fit polynomial regression models with different degrees\n",
    "    lin_regr = LinearRegression(fit_intercept=False) # NOTE: \"fit_intercept=False\" as we already have a constant iterm in the new feature X_poly\n",
    "    poly = PolynomialFeatures(degree=degree)    # generate polynomial features\n",
    "    X_train_poly = poly.fit_transform(X_train)    # fit the raw features\n",
    "    lin_regr.fit(X_train_poly, y_train)    # apply linear regression to these new features and labels\n",
    "  \n",
    "    y_pred_train = lin_regr.predict(X_train_poly)    # predict using the linear model\n",
    "    tr_error = mean_squared_error(y_train, y_pred_train)    # calculate the training error\n",
    "    X_val_poly = poly.transform(X_val) # transform the raw features for the validation data \n",
    "    y_pred_val = lin_regr.predict(X_val_poly) # predict values for the validation data using the linear model \n",
    "    val_error = mean_squared_error(y_val, y_pred_val) # calculate the validation error\n",
    " \n",
    "    linear_tr_errors.append(tr_error)\n",
    "    linear_val_errors.append(val_error)"
   ]
  },
  {
   "cell_type": "code",
   "execution_count": 98,
   "metadata": {
    "ExecuteTime": {
     "end_time": "2022-03-03T07:51:36.110771Z",
     "start_time": "2022-03-03T07:51:36.096809Z"
    },
    "deletable": false,
    "editable": false,
    "nbgrader": {
     "cell_type": "code",
     "checksum": "861f84d2734da2ee7158c64dfe6db9bc",
     "grade": false,
     "grade_id": "cell-df9d6c102c8b28ca",
     "locked": true,
     "schema_version": 3,
     "solution": false,
     "task": false
    }
   },
   "outputs": [
    {
     "data": {
      "text/html": [
       "<div>\n",
       "<style scoped>\n",
       "    .dataframe tbody tr th:only-of-type {\n",
       "        vertical-align: middle;\n",
       "    }\n",
       "\n",
       "    .dataframe tbody tr th {\n",
       "        vertical-align: top;\n",
       "    }\n",
       "\n",
       "    .dataframe thead th {\n",
       "        text-align: right;\n",
       "    }\n",
       "</style>\n",
       "<table border=\"1\" class=\"dataframe\">\n",
       "  <thead>\n",
       "    <tr style=\"text-align: right;\">\n",
       "      <th></th>\n",
       "      <th>poly degree</th>\n",
       "      <th>linear_train_errors</th>\n",
       "      <th>linear_val_errors</th>\n",
       "    </tr>\n",
       "  </thead>\n",
       "  <tbody>\n",
       "    <tr>\n",
       "      <th>0</th>\n",
       "      <td>1</td>\n",
       "      <td>3.947190</td>\n",
       "      <td>5.547871</td>\n",
       "    </tr>\n",
       "    <tr>\n",
       "      <th>1</th>\n",
       "      <td>2</td>\n",
       "      <td>3.789401</td>\n",
       "      <td>5.444261</td>\n",
       "    </tr>\n",
       "    <tr>\n",
       "      <th>2</th>\n",
       "      <td>3</td>\n",
       "      <td>3.344839</td>\n",
       "      <td>5.818018</td>\n",
       "    </tr>\n",
       "    <tr>\n",
       "      <th>3</th>\n",
       "      <td>4</td>\n",
       "      <td>2.679989</td>\n",
       "      <td>18.741724</td>\n",
       "    </tr>\n",
       "  </tbody>\n",
       "</table>\n",
       "</div>"
      ],
      "text/plain": [
       "   poly degree  linear_train_errors  linear_val_errors\n",
       "0            1             3.947190           5.547871\n",
       "1            2             3.789401           5.444261\n",
       "2            3             3.344839           5.818018\n",
       "3            4             2.679989          18.741724"
      ]
     },
     "execution_count": 98,
     "metadata": {},
     "output_type": "execute_result"
    }
   ],
   "source": [
    "# create a table to compare training and validation errors\n",
    "errors = {\"poly degree\":degrees,\n",
    "          \"linear_train_errors\":linear_tr_errors,\n",
    "          \"linear_val_errors\":linear_val_errors,\n",
    "         }\n",
    "pd.DataFrame({ key:pd.Series(value) for key, value in errors.items()})"
   ]
  },
  {
   "cell_type": "markdown",
   "metadata": {
    "deletable": false,
    "editable": false,
    "nbgrader": {
     "cell_type": "markdown",
     "checksum": "b50917d2afe5b6d2d1d8c6d7bd76cbc2",
     "grade": false,
     "grade_id": "cell-febf413f5a1ba202",
     "locked": true,
     "schema_version": 3,
     "solution": false,
     "task": false
    }
   },
   "source": [
    "<div class=\" alert alert-warning\">\n",
    "\n",
    "# Student Task A7.3\n",
    "\n",
    "Answer the following quiz questions by setting the corresponding variable to the index of the answer that you consider correct. \n",
    "    \n",
    "Question 1: Which of the models from A7.2 would you recommend based on the above table?\n",
    "- Answer 1: Degree 1\n",
    "- Answer 2: Degree 2\n",
    "- Answer 3: Degree 3\n",
    "- Answer 4: Degree 4\n",
    "    \n",
    "\n",
    "</div>"
   ]
  },
  {
   "cell_type": "code",
   "execution_count": 99,
   "metadata": {
    "ExecuteTime": {
     "end_time": "2022-03-03T07:53:51.831106Z",
     "start_time": "2022-03-03T07:53:51.823644Z"
    },
    "deletable": false,
    "nbgrader": {
     "cell_type": "code",
     "checksum": "838a0f5076dbf11d42ba991bb319b6bc",
     "grade": false,
     "grade_id": "cell-e19276eec668530b",
     "locked": false,
     "schema_version": 3,
     "solution": true,
     "task": false
    }
   },
   "outputs": [
    {
     "name": "stdout",
     "output_type": "stream",
     "text": [
      "my answer is:  2\n"
     ]
    }
   ],
   "source": [
    "## set Answer_Q1 to the index (starting from 1 !!!) of the correct answer (e.g., Answer_Q1=1 if you think Answer 1 is correct)\n",
    "Answer_Q1 = 2  \n",
    "\n",
    "# YOUR CODE HERE\n",
    "\n",
    "print(\"my answer is: \", Answer_Q1)"
   ]
  },
  {
   "cell_type": "code",
   "execution_count": 100,
   "metadata": {
    "ExecuteTime": {
     "end_time": "2022-03-03T07:53:54.596350Z",
     "start_time": "2022-03-03T07:53:54.591213Z"
    },
    "deletable": false,
    "editable": false,
    "nbgrader": {
     "cell_type": "code",
     "checksum": "914c116bf5e85dced8b4e0db790ecff3",
     "grade": false,
     "grade_id": "cell-c8fa82c10c39dc67",
     "locked": true,
     "schema_version": 3,
     "solution": false,
     "task": false
    }
   },
   "outputs": [],
   "source": [
    "# sanity check datatype of Answer_Q1\n",
    "assert Answer_Q1 in (1, 2, 3, 4), \"Please answer with a number from 1 to 4\""
   ]
  },
  {
   "cell_type": "code",
   "execution_count": 101,
   "metadata": {
    "ExecuteTime": {
     "end_time": "2022-03-03T07:53:59.206805Z",
     "start_time": "2022-03-03T07:53:59.202384Z"
    },
    "deletable": false,
    "editable": false,
    "nbgrader": {
     "cell_type": "code",
     "checksum": "5c16557f1e4b3ba1a2954268f55bbfeb",
     "grade": true,
     "grade_id": "cell-1df99e14ee864d56",
     "locked": true,
     "points": 1,
     "schema_version": 3,
     "solution": false,
     "task": false
    }
   },
   "outputs": [],
   "source": [
    "# this is the test cell for A7.3"
   ]
  },
  {
   "cell_type": "markdown",
   "metadata": {
    "deletable": false,
    "editable": false,
    "nbgrader": {
     "cell_type": "markdown",
     "checksum": "ddb45f39eb6590d37d34d4b2da0d9d37",
     "grade": false,
     "grade_id": "cell-565f109e0c3ba1ec",
     "locked": true,
     "schema_version": 3,
     "solution": false,
     "task": false
    }
   },
   "source": [
    "<div class=\" alert alert-warning\">\n",
    "\n",
    "# Student Task A7.4\n",
    "\n",
    "Now, we know the performance of polynomial regression on this prediction task. It is time to try out MLP and see whether MLP can defeat polynomial regression or not.\n",
    "\n",
    "We will still focus on Sklearn library and use Sklearn class [MLPRegressor](https://scikit-learn.org/stable/modules/generated/sklearn.neural_network.MLPRegressor.html) to implement our model, but for complicated modern deep learning tasks, Python provides other easy-to-use libraries for the design and training of ANN, such as [Keras](https://keras.io/).\n",
    "\n",
    "\n",
    "**Hypothesis Space used in this task - MLP Structure:**\n",
    "- one input layer consists of the individual features (5 features) and is the entry point to the MLP.\n",
    "- several hidden layers with 15 neuron units in each layer and [ReLU activation function](https://en.wikipedia.org/wiki/Rectifier_(neural_networks)), we will explore the number of hidden layers in this task, find out the ideal number of hidden layers for this given ML problem.\n",
    "\n",
    "- one final output layer with 1 neuron unit.\n",
    "\n",
    "For regularization strength and learning rate, default values are used.\n",
    "\n",
    "**Loss used in this task**: MSE\n",
    "\n",
    "In the following solution cell, you will:\n",
    "- Initialise an MLPRegressor, please use the `hidden_layer_sizes` defined for you and set `max_iter` to 1000, `random_state` to 42.\n",
    "- Train the regressor on the training set.\n",
    "- Evaluate the regressor on the training set and validation set.\n",
    "</div>"
   ]
  },
  {
   "cell_type": "code",
   "execution_count": 102,
   "metadata": {
    "ExecuteTime": {
     "end_time": "2022-03-03T08:15:46.430389Z",
     "start_time": "2022-03-03T08:15:40.026597Z"
    },
    "deletable": false,
    "nbgrader": {
     "cell_type": "code",
     "checksum": "5b004407f114a0b87cf44242d7989b80",
     "grade": false,
     "grade_id": "cell-deeeab95715eb643",
     "locked": false,
     "schema_version": 3,
     "solution": true,
     "task": false
    }
   },
   "outputs": [],
   "source": [
    "from sklearn.neural_network import MLPRegressor\n",
    "\n",
    "## define a list of values for the number of hidden layers\n",
    "num_layers = [1,2,4,6,8,10]    # number of hidden layers\n",
    "num_neurons = 15  # number of neurons in each layer\n",
    "\n",
    "\n",
    "# we will use this variable to store the resulting training errors corresponding to different hidden-layer numbers\n",
    "mlp_tr_errors = []          \n",
    "mlp_val_errors = []\n",
    "\n",
    "for i, num in enumerate(num_layers):\n",
    "    hidden_layer_sizes = tuple([num_neurons]*num) # size (num of neurons) of each layer stacked in a tuple\n",
    "    \n",
    "    mlp_regr = MLPRegressor(hidden_layer_sizes = hidden_layer_sizes, max_iter = 1000, random_state = 42) # Initialise an MLPRegressor\n",
    " \n",
    "    mlp_regr.fit(X_train, y_train)    # Train MLP on the training set\n",
    "    \n",
    "    '''\n",
    ">>> X_train, X_test, y_train, y_test = train_test_split(X, y,\n",
    "...                                                     random_state=1)\n",
    ">>> regr = MLPRegressor(hidden_layer_sizes = hidden_layer_sizes, max_iter = 1000, random_state=42).fit(X_train, y_train)\n",
    ">>> regr.predict(X_test[:2])\n",
    "array([-0.9..., -7.1...])\n",
    ">>> regr.score(X_test, y_test)\n",
    "    '''\n",
    "    # YOUR CODE HERE\n",
    "    \n",
    "    ## evaluate the trained MLP on both training set and validation set\n",
    "    y_pred_train = mlp_regr.predict(X_train)    # predict on the training set\n",
    "    tr_error = mean_squared_error(y_train, y_pred_train)    # calculate the training error\n",
    "    y_pred_val = mlp_regr.predict(X_val) # predict values for the validation data \n",
    "    val_error = mean_squared_error(y_val, y_pred_val) # calculate the validation error\n",
    "    \n",
    "    # sanity check num of layers\n",
    "    assert mlp_regr.n_layers_ == num_layers[i]+2 # total layers = num of hidden layers + input layer + output layer\n",
    "    # sanity check the error values\n",
    "    assert 3 < tr_error < 4 and 5 < val_error < 6\n",
    "    \n",
    "    mlp_tr_errors.append(tr_error)\n",
    "    mlp_val_errors.append(val_error)\n",
    "\n",
    "# sanity check the length of array mlp_tr_errors\n",
    "assert len(mlp_tr_errors) == len(mlp_val_errors) == len(num_layers)"
   ]
  },
  {
   "cell_type": "code",
   "execution_count": 103,
   "metadata": {
    "ExecuteTime": {
     "end_time": "2022-03-03T08:15:51.869761Z",
     "start_time": "2022-03-03T08:15:46.516472Z"
    },
    "deletable": false,
    "editable": false,
    "nbgrader": {
     "cell_type": "code",
     "checksum": "ae45da73f5d125d48a28e806091c8bd1",
     "grade": true,
     "grade_id": "cell-a48ae1045910901d",
     "locked": true,
     "points": 1,
     "schema_version": 3,
     "solution": false,
     "task": false
    }
   },
   "outputs": [],
   "source": [
    "# this cell is for tests for A7.4\n"
   ]
  },
  {
   "cell_type": "code",
   "execution_count": 104,
   "metadata": {
    "ExecuteTime": {
     "end_time": "2022-03-03T08:15:52.144366Z",
     "start_time": "2022-03-03T08:15:51.956426Z"
    },
    "deletable": false,
    "editable": false,
    "nbgrader": {
     "cell_type": "code",
     "checksum": "3628132249856a1e3299789ed8a30700",
     "grade": false,
     "grade_id": "cell-9a6da038de6b50d8",
     "locked": true,
     "schema_version": 3,
     "solution": false,
     "task": false
    }
   },
   "outputs": [
    {
     "data": {
      "image/png": "[encoded data removed]",
      "text/plain": [
       "<Figure size 576x432 with 1 Axes>"
      ]
     },
     "metadata": {
      "needs_background": "light"
     },
     "output_type": "display_data"
    }
   ],
   "source": [
    "plt.figure(figsize=(8, 6))\n",
    "\n",
    "plt.plot(num_layers, mlp_tr_errors, label = 'Train')\n",
    "plt.plot(num_layers, mlp_val_errors,label = 'Valid')\n",
    "plt.xticks(num_layers)\n",
    "plt.legend(loc = 'upper left')\n",
    "\n",
    "plt.xlabel('Layers')\n",
    "plt.ylabel('Loss')\n",
    "plt.title('Train vs validation loss')\n",
    "plt.show()"
   ]
  },
  {
   "cell_type": "code",
   "execution_count": 105,
   "metadata": {
    "ExecuteTime": {
     "end_time": "2022-03-03T08:15:52.244826Z",
     "start_time": "2022-03-03T08:15:52.235079Z"
    },
    "deletable": false,
    "editable": false,
    "nbgrader": {
     "cell_type": "code",
     "checksum": "9ecc68ee97e346ada446d2dc744f40ab",
     "grade": false,
     "grade_id": "cell-b341252a8e92dffa",
     "locked": true,
     "schema_version": 3,
     "solution": false,
     "task": false
    }
   },
   "outputs": [
    {
     "data": {
      "text/html": [
       "<div>\n",
       "<style scoped>\n",
       "    .dataframe tbody tr th:only-of-type {\n",
       "        vertical-align: middle;\n",
       "    }\n",
       "\n",
       "    .dataframe tbody tr th {\n",
       "        vertical-align: top;\n",
       "    }\n",
       "\n",
       "    .dataframe thead th {\n",
       "        text-align: right;\n",
       "    }\n",
       "</style>\n",
       "<table border=\"1\" class=\"dataframe\">\n",
       "  <thead>\n",
       "    <tr style=\"text-align: right;\">\n",
       "      <th></th>\n",
       "      <th>num_hidden_layers</th>\n",
       "      <th>mlp_train_errors</th>\n",
       "      <th>mlp_val_errors</th>\n",
       "    </tr>\n",
       "  </thead>\n",
       "  <tbody>\n",
       "    <tr>\n",
       "      <th>0</th>\n",
       "      <td>1</td>\n",
       "      <td>3.748909</td>\n",
       "      <td>5.189208</td>\n",
       "    </tr>\n",
       "    <tr>\n",
       "      <th>1</th>\n",
       "      <td>2</td>\n",
       "      <td>3.619271</td>\n",
       "      <td>5.025214</td>\n",
       "    </tr>\n",
       "    <tr>\n",
       "      <th>2</th>\n",
       "      <td>4</td>\n",
       "      <td>3.523818</td>\n",
       "      <td>5.405671</td>\n",
       "    </tr>\n",
       "    <tr>\n",
       "      <th>3</th>\n",
       "      <td>6</td>\n",
       "      <td>3.684636</td>\n",
       "      <td>5.255682</td>\n",
       "    </tr>\n",
       "    <tr>\n",
       "      <th>4</th>\n",
       "      <td>8</td>\n",
       "      <td>3.880760</td>\n",
       "      <td>5.668580</td>\n",
       "    </tr>\n",
       "    <tr>\n",
       "      <th>5</th>\n",
       "      <td>10</td>\n",
       "      <td>3.014633</td>\n",
       "      <td>5.906500</td>\n",
       "    </tr>\n",
       "  </tbody>\n",
       "</table>\n",
       "</div>"
      ],
      "text/plain": [
       "   num_hidden_layers  mlp_train_errors  mlp_val_errors\n",
       "0                  1          3.748909        5.189208\n",
       "1                  2          3.619271        5.025214\n",
       "2                  4          3.523818        5.405671\n",
       "3                  6          3.684636        5.255682\n",
       "4                  8          3.880760        5.668580\n",
       "5                 10          3.014633        5.906500"
      ]
     },
     "execution_count": 105,
     "metadata": {},
     "output_type": "execute_result"
    }
   ],
   "source": [
    "# create a table to compare the training and validation errors for MLPs with different number of hidden layers\n",
    "errors = {\"num_hidden_layers\":num_layers,\n",
    "          \"mlp_train_errors\":mlp_tr_errors,\n",
    "          \"mlp_val_errors\":mlp_val_errors,\n",
    "         }\n",
    "pd.DataFrame(errors)"
   ]
  },
  {
   "cell_type": "markdown",
   "metadata": {
    "deletable": false,
    "editable": false,
    "nbgrader": {
     "cell_type": "markdown",
     "checksum": "f2b8bff95a3579940348778aec1ea4e2",
     "grade": false,
     "grade_id": "cell-f474967778ffc7ae",
     "locked": true,
     "schema_version": 3,
     "solution": false,
     "task": false
    }
   },
   "source": [
    "<div class=\" alert alert-warning\">\n",
    "\n",
    "# Student Task A7.5\n",
    "\n",
    "Answer the following quiz questions by setting the corresponding variable to the index of the answer that you consider correct. \n",
    "    \n",
    "Question 1: Which of the models from A7.4 would you recommend based on the table above?\n",
    "- Answer 1: 1 hidden layer MLP\n",
    "- Answer 2: 2 hidden layers MLP\n",
    "- Answer 3: 4 hidden layers MLP\n",
    "- Answer 4: 6 hidden layers MLP\n",
    "- Answer 5: 8 hidden layers MLP\n",
    "- Answer 6: 10 hidden layers MLP \n",
    "    \n",
    "\n",
    "</div>"
   ]
  },
  {
   "cell_type": "code",
   "execution_count": 106,
   "metadata": {
    "ExecuteTime": {
     "end_time": "2022-03-03T08:16:06.584115Z",
     "start_time": "2022-03-03T08:16:06.573925Z"
    },
    "deletable": false,
    "nbgrader": {
     "cell_type": "code",
     "checksum": "0fe9580fd61267046dbde238f08aeaa7",
     "grade": false,
     "grade_id": "cell-f8ce50fe6bec05a2",
     "locked": false,
     "schema_version": 3,
     "solution": true,
     "task": false
    }
   },
   "outputs": [
    {
     "name": "stdout",
     "output_type": "stream",
     "text": [
      "my answer is: Answer 2\n"
     ]
    }
   ],
   "source": [
    "## set Answer_Q1 to the index (starting from 1 !!!) of the correct answer (e.g., Answer_Q1=1 if you think Answer 1 is correct)\n",
    "Answer_Q1  = 2\n",
    "\n",
    "# YOUR CODE HERE\n",
    "\n",
    "print(f\"my answer is: Answer {Answer_Q1}\")"
   ]
  },
  {
   "cell_type": "code",
   "execution_count": 107,
   "metadata": {
    "ExecuteTime": {
     "end_time": "2022-03-03T08:16:07.340032Z",
     "start_time": "2022-03-03T08:16:07.331673Z"
    },
    "deletable": false,
    "editable": false,
    "nbgrader": {
     "cell_type": "code",
     "checksum": "ad6d93d6f66c9847c7ece07b9d494b8a",
     "grade": false,
     "grade_id": "cell-775fb9fd3780bd27",
     "locked": true,
     "schema_version": 3,
     "solution": false,
     "task": false
    }
   },
   "outputs": [],
   "source": [
    "# sanity check datatype of Answer_Q1\n",
    "assert Answer_Q1 in (1, 2, 3, 4, 5, 6), \"Please answer with a number 1-6\""
   ]
  },
  {
   "cell_type": "code",
   "execution_count": 108,
   "metadata": {
    "ExecuteTime": {
     "end_time": "2022-03-03T08:16:08.023613Z",
     "start_time": "2022-03-03T08:16:08.016747Z"
    },
    "deletable": false,
    "editable": false,
    "nbgrader": {
     "cell_type": "code",
     "checksum": "5398374f986bdc35d8f723fddf1a3a54",
     "grade": true,
     "grade_id": "cell-49b3a7a0bce155f0",
     "locked": true,
     "points": 1,
     "schema_version": 3,
     "solution": false,
     "task": false
    }
   },
   "outputs": [],
   "source": [
    "# this cell is for tests for A7.5"
   ]
  },
  {
   "cell_type": "code",
   "execution_count": 109,
   "metadata": {
    "ExecuteTime": {
     "end_time": "2022-03-03T08:16:08.836515Z",
     "start_time": "2022-03-03T08:16:08.816092Z"
    },
    "deletable": false,
    "editable": false,
    "nbgrader": {
     "cell_type": "code",
     "checksum": "8c3f5d8c27f4469185c4ef8d6dfb9781",
     "grade": false,
     "grade_id": "cell-987c056f0add5ac1",
     "locked": true,
     "schema_version": 3,
     "solution": false,
     "task": false
    }
   },
   "outputs": [
    {
     "name": "stdout",
     "output_type": "stream",
     "text": [
      "training errors and validation errors of PolynomialRegression\n"
     ]
    },
    {
     "data": {
      "text/html": [
       "<style  type=\"text/css\" >\n",
       "#T_9e8d0b6c_9d5d_11ec_91a5_9633fd5d2c0brow0_col0,#T_9e8d0b6c_9d5d_11ec_91a5_9633fd5d2c0brow0_col1,#T_9e8d0b6c_9d5d_11ec_91a5_9633fd5d2c0brow0_col2,#T_9e8d0b6c_9d5d_11ec_91a5_9633fd5d2c0brow1_col0,#T_9e8d0b6c_9d5d_11ec_91a5_9633fd5d2c0brow1_col1,#T_9e8d0b6c_9d5d_11ec_91a5_9633fd5d2c0brow1_col2,#T_9e8d0b6c_9d5d_11ec_91a5_9633fd5d2c0brow2_col0,#T_9e8d0b6c_9d5d_11ec_91a5_9633fd5d2c0brow2_col1,#T_9e8d0b6c_9d5d_11ec_91a5_9633fd5d2c0brow2_col2,#T_9e8d0b6c_9d5d_11ec_91a5_9633fd5d2c0brow3_col0,#T_9e8d0b6c_9d5d_11ec_91a5_9633fd5d2c0brow3_col1{\n",
       "            background-color:  white;\n",
       "        }#T_9e8d0b6c_9d5d_11ec_91a5_9633fd5d2c0brow3_col2{\n",
       "            background-color:  yellow;\n",
       "        }</style><table id=\"T_9e8d0b6c_9d5d_11ec_91a5_9633fd5d2c0b\" ><thead>    <tr>        <th class=\"blank level0\" ></th>        <th class=\"col_heading level0 col0\" >poly degree</th>        <th class=\"col_heading level0 col1\" >linear_train_errors</th>        <th class=\"col_heading level0 col2\" >linear_val_errors</th>    </tr></thead><tbody>\n",
       "                <tr>\n",
       "                        <th id=\"T_9e8d0b6c_9d5d_11ec_91a5_9633fd5d2c0blevel0_row0\" class=\"row_heading level0 row0\" >0</th>\n",
       "                        <td id=\"T_9e8d0b6c_9d5d_11ec_91a5_9633fd5d2c0brow0_col0\" class=\"data row0 col0\" >1</td>\n",
       "                        <td id=\"T_9e8d0b6c_9d5d_11ec_91a5_9633fd5d2c0brow0_col1\" class=\"data row0 col1\" >3.947190</td>\n",
       "                        <td id=\"T_9e8d0b6c_9d5d_11ec_91a5_9633fd5d2c0brow0_col2\" class=\"data row0 col2\" >5.547871</td>\n",
       "            </tr>\n",
       "            <tr>\n",
       "                        <th id=\"T_9e8d0b6c_9d5d_11ec_91a5_9633fd5d2c0blevel0_row1\" class=\"row_heading level0 row1\" >1</th>\n",
       "                        <td id=\"T_9e8d0b6c_9d5d_11ec_91a5_9633fd5d2c0brow1_col0\" class=\"data row1 col0\" >2</td>\n",
       "                        <td id=\"T_9e8d0b6c_9d5d_11ec_91a5_9633fd5d2c0brow1_col1\" class=\"data row1 col1\" >3.789401</td>\n",
       "                        <td id=\"T_9e8d0b6c_9d5d_11ec_91a5_9633fd5d2c0brow1_col2\" class=\"data row1 col2\" >5.444261</td>\n",
       "            </tr>\n",
       "            <tr>\n",
       "                        <th id=\"T_9e8d0b6c_9d5d_11ec_91a5_9633fd5d2c0blevel0_row2\" class=\"row_heading level0 row2\" >2</th>\n",
       "                        <td id=\"T_9e8d0b6c_9d5d_11ec_91a5_9633fd5d2c0brow2_col0\" class=\"data row2 col0\" >3</td>\n",
       "                        <td id=\"T_9e8d0b6c_9d5d_11ec_91a5_9633fd5d2c0brow2_col1\" class=\"data row2 col1\" >3.344839</td>\n",
       "                        <td id=\"T_9e8d0b6c_9d5d_11ec_91a5_9633fd5d2c0brow2_col2\" class=\"data row2 col2\" >5.818018</td>\n",
       "            </tr>\n",
       "            <tr>\n",
       "                        <th id=\"T_9e8d0b6c_9d5d_11ec_91a5_9633fd5d2c0blevel0_row3\" class=\"row_heading level0 row3\" >3</th>\n",
       "                        <td id=\"T_9e8d0b6c_9d5d_11ec_91a5_9633fd5d2c0brow3_col0\" class=\"data row3 col0\" >4</td>\n",
       "                        <td id=\"T_9e8d0b6c_9d5d_11ec_91a5_9633fd5d2c0brow3_col1\" class=\"data row3 col1\" >2.679989</td>\n",
       "                        <td id=\"T_9e8d0b6c_9d5d_11ec_91a5_9633fd5d2c0brow3_col2\" class=\"data row3 col2\" >18.741724</td>\n",
       "            </tr>\n",
       "    </tbody></table>"
      ],
      "text/plain": [
       "<pandas.io.formats.style.Styler at 0x7fdde19d8af0>"
      ]
     },
     "execution_count": 109,
     "metadata": {},
     "output_type": "execute_result"
    }
   ],
   "source": [
    "l_errors = {\"poly degree\":degrees,\"linear_train_errors\":linear_tr_errors, \"linear_val_errors\":linear_val_errors,}\n",
    "print(\"training errors and validation errors of PolynomialRegression\")\n",
    "pd.DataFrame(l_errors).style.applymap(lambda x: \"background-color: yellow\" if x==np.max(linear_val_errors) else \"background-color: white\")"
   ]
  },
  {
   "cell_type": "code",
   "execution_count": 110,
   "metadata": {
    "ExecuteTime": {
     "end_time": "2022-03-03T08:16:10.662373Z",
     "start_time": "2022-03-03T08:16:10.626885Z"
    },
    "deletable": false,
    "editable": false,
    "nbgrader": {
     "cell_type": "code",
     "checksum": "635a52938a68ea6852908e5af5c3c2d8",
     "grade": false,
     "grade_id": "cell-d4579bbbb37c63bd",
     "locked": true,
     "schema_version": 3,
     "solution": false,
     "task": false
    }
   },
   "outputs": [
    {
     "name": "stdout",
     "output_type": "stream",
     "text": [
      "training errors and validation errors of MLP\n"
     ]
    },
    {
     "data": {
      "text/html": [
       "<style  type=\"text/css\" >\n",
       "#T_9e8fce2e_9d5d_11ec_91a5_9633fd5d2c0brow0_col0,#T_9e8fce2e_9d5d_11ec_91a5_9633fd5d2c0brow0_col1,#T_9e8fce2e_9d5d_11ec_91a5_9633fd5d2c0brow0_col2,#T_9e8fce2e_9d5d_11ec_91a5_9633fd5d2c0brow1_col0,#T_9e8fce2e_9d5d_11ec_91a5_9633fd5d2c0brow1_col1,#T_9e8fce2e_9d5d_11ec_91a5_9633fd5d2c0brow1_col2,#T_9e8fce2e_9d5d_11ec_91a5_9633fd5d2c0brow2_col0,#T_9e8fce2e_9d5d_11ec_91a5_9633fd5d2c0brow2_col1,#T_9e8fce2e_9d5d_11ec_91a5_9633fd5d2c0brow2_col2,#T_9e8fce2e_9d5d_11ec_91a5_9633fd5d2c0brow3_col0,#T_9e8fce2e_9d5d_11ec_91a5_9633fd5d2c0brow3_col1,#T_9e8fce2e_9d5d_11ec_91a5_9633fd5d2c0brow3_col2,#T_9e8fce2e_9d5d_11ec_91a5_9633fd5d2c0brow4_col0,#T_9e8fce2e_9d5d_11ec_91a5_9633fd5d2c0brow4_col1,#T_9e8fce2e_9d5d_11ec_91a5_9633fd5d2c0brow4_col2,#T_9e8fce2e_9d5d_11ec_91a5_9633fd5d2c0brow5_col0,#T_9e8fce2e_9d5d_11ec_91a5_9633fd5d2c0brow5_col1{\n",
       "            background-color:  white;\n",
       "        }#T_9e8fce2e_9d5d_11ec_91a5_9633fd5d2c0brow5_col2{\n",
       "            background-color:  yellow;\n",
       "        }</style><table id=\"T_9e8fce2e_9d5d_11ec_91a5_9633fd5d2c0b\" ><thead>    <tr>        <th class=\"blank level0\" ></th>        <th class=\"col_heading level0 col0\" >num_hidden_layers</th>        <th class=\"col_heading level0 col1\" >mlp_train_errors</th>        <th class=\"col_heading level0 col2\" >mlp_val_errors</th>    </tr></thead><tbody>\n",
       "                <tr>\n",
       "                        <th id=\"T_9e8fce2e_9d5d_11ec_91a5_9633fd5d2c0blevel0_row0\" class=\"row_heading level0 row0\" >0</th>\n",
       "                        <td id=\"T_9e8fce2e_9d5d_11ec_91a5_9633fd5d2c0brow0_col0\" class=\"data row0 col0\" >1</td>\n",
       "                        <td id=\"T_9e8fce2e_9d5d_11ec_91a5_9633fd5d2c0brow0_col1\" class=\"data row0 col1\" >3.748909</td>\n",
       "                        <td id=\"T_9e8fce2e_9d5d_11ec_91a5_9633fd5d2c0brow0_col2\" class=\"data row0 col2\" >5.189208</td>\n",
       "            </tr>\n",
       "            <tr>\n",
       "                        <th id=\"T_9e8fce2e_9d5d_11ec_91a5_9633fd5d2c0blevel0_row1\" class=\"row_heading level0 row1\" >1</th>\n",
       "                        <td id=\"T_9e8fce2e_9d5d_11ec_91a5_9633fd5d2c0brow1_col0\" class=\"data row1 col0\" >2</td>\n",
       "                        <td id=\"T_9e8fce2e_9d5d_11ec_91a5_9633fd5d2c0brow1_col1\" class=\"data row1 col1\" >3.619271</td>\n",
       "                        <td id=\"T_9e8fce2e_9d5d_11ec_91a5_9633fd5d2c0brow1_col2\" class=\"data row1 col2\" >5.025214</td>\n",
       "            </tr>\n",
       "            <tr>\n",
       "                        <th id=\"T_9e8fce2e_9d5d_11ec_91a5_9633fd5d2c0blevel0_row2\" class=\"row_heading level0 row2\" >2</th>\n",
       "                        <td id=\"T_9e8fce2e_9d5d_11ec_91a5_9633fd5d2c0brow2_col0\" class=\"data row2 col0\" >4</td>\n",
       "                        <td id=\"T_9e8fce2e_9d5d_11ec_91a5_9633fd5d2c0brow2_col1\" class=\"data row2 col1\" >3.523818</td>\n",
       "                        <td id=\"T_9e8fce2e_9d5d_11ec_91a5_9633fd5d2c0brow2_col2\" class=\"data row2 col2\" >5.405671</td>\n",
       "            </tr>\n",
       "            <tr>\n",
       "                        <th id=\"T_9e8fce2e_9d5d_11ec_91a5_9633fd5d2c0blevel0_row3\" class=\"row_heading level0 row3\" >3</th>\n",
       "                        <td id=\"T_9e8fce2e_9d5d_11ec_91a5_9633fd5d2c0brow3_col0\" class=\"data row3 col0\" >6</td>\n",
       "                        <td id=\"T_9e8fce2e_9d5d_11ec_91a5_9633fd5d2c0brow3_col1\" class=\"data row3 col1\" >3.684636</td>\n",
       "                        <td id=\"T_9e8fce2e_9d5d_11ec_91a5_9633fd5d2c0brow3_col2\" class=\"data row3 col2\" >5.255682</td>\n",
       "            </tr>\n",
       "            <tr>\n",
       "                        <th id=\"T_9e8fce2e_9d5d_11ec_91a5_9633fd5d2c0blevel0_row4\" class=\"row_heading level0 row4\" >4</th>\n",
       "                        <td id=\"T_9e8fce2e_9d5d_11ec_91a5_9633fd5d2c0brow4_col0\" class=\"data row4 col0\" >8</td>\n",
       "                        <td id=\"T_9e8fce2e_9d5d_11ec_91a5_9633fd5d2c0brow4_col1\" class=\"data row4 col1\" >3.880760</td>\n",
       "                        <td id=\"T_9e8fce2e_9d5d_11ec_91a5_9633fd5d2c0brow4_col2\" class=\"data row4 col2\" >5.668580</td>\n",
       "            </tr>\n",
       "            <tr>\n",
       "                        <th id=\"T_9e8fce2e_9d5d_11ec_91a5_9633fd5d2c0blevel0_row5\" class=\"row_heading level0 row5\" >5</th>\n",
       "                        <td id=\"T_9e8fce2e_9d5d_11ec_91a5_9633fd5d2c0brow5_col0\" class=\"data row5 col0\" >10</td>\n",
       "                        <td id=\"T_9e8fce2e_9d5d_11ec_91a5_9633fd5d2c0brow5_col1\" class=\"data row5 col1\" >3.014633</td>\n",
       "                        <td id=\"T_9e8fce2e_9d5d_11ec_91a5_9633fd5d2c0brow5_col2\" class=\"data row5 col2\" >5.906500</td>\n",
       "            </tr>\n",
       "    </tbody></table>"
      ],
      "text/plain": [
       "<pandas.io.formats.style.Styler at 0x7fdde19d89d0>"
      ]
     },
     "execution_count": 110,
     "metadata": {},
     "output_type": "execute_result"
    }
   ],
   "source": [
    "m_errors = {\"mlp_train_errors\":mlp_tr_errors, \"mlp_val_errors\":mlp_val_errors}\n",
    "print(\"training errors and validation errors of MLP\")\n",
    "pd.DataFrame(errors).style.applymap(lambda x: \"background-color: yellow\" if x==np.max(mlp_val_errors) else \"background-color: white\")"
   ]
  },
  {
   "cell_type": "markdown",
   "metadata": {
    "deletable": false,
    "editable": false,
    "nbgrader": {
     "cell_type": "markdown",
     "checksum": "47708e699ab763914cc21ac1e4e9cf69",
     "grade": false,
     "grade_id": "cell-67ccb92c632604a4",
     "locked": true,
     "schema_version": 3,
     "solution": false,
     "task": false
    }
   },
   "source": [
    "**PolynomialRegression vs MLP**\n",
    "\n",
    "The tables above compare the performance of PolynomialRegression and MLP on this specific ML problem. We can see that their performances are similar, but MLP is a bit better than PolynomialRegression. Considering sampling randomness, this suggests that deep learning methods are not always undisputed winners, particularly for simpler tasks where a simple model would train faster, predict quicker, and achieve comparable results.\n",
    "\n",
    "However, one significant advantage of MLP, even for simple problems, is that it is much less sensitive to model complexity than regression, so even without careful hyperparameter tuning the network always somehow 'does the job for us' with decent validation errors ~5, while regression explodes with an error of 18+ when we use a too complex model (max poly degree=4)."
   ]
  },
  {
   "cell_type": "markdown",
   "metadata": {
    "ExecuteTime": {
     "end_time": "2022-02-09T18:26:10.154646Z",
     "start_time": "2022-02-09T18:26:10.127219Z"
    },
    "deletable": false,
    "editable": false,
    "nbgrader": {
     "cell_type": "markdown",
     "checksum": "2121c2e2435f3762ac554f2367b19090",
     "grade": false,
     "grade_id": "cell-d0945c2202eeafb8",
     "locked": true,
     "schema_version": 3,
     "solution": false,
     "task": false
    }
   },
   "source": [
    "<div class=\" alert alert-warning\">\n",
    "\n",
    "# Student Task A7.6\n",
    "    \n",
    "    \n",
    "**Train MLP classifiers and evaluate them on both training set and validation set.**\n",
    "    \n",
    "**Problem Formulation**: just like in Assingment3, we first categorize air temperature into 4 categories, for each datapoint (a day), the label is categorized air temperature of a given day at 00:00 and the features are air temperatures of previous 5 days at 00:00. \n",
    "   \n",
    "\n",
    "\n",
    "\n",
    "**Hypothesis Space - MLP Structure:**\n",
    "\n",
    "\n",
    "- one input layer consists of the individual features (5 features) and is the entry point to the MLP\n",
    "- several hidden layers with 10 neuron units and [ReLU activation function](https://en.wikipedia.org/wiki/Rectifier_(neural_networks)), we will explore the number of hidden layers in this task, find out the ideal number of hidden layers for this given ML problem.\n",
    "\n",
    "- one final output layer with 4 neuron units and [softmax activation function](https://en.wikipedia.org/wiki/Softmax_function)\n",
    "\n",
    "For regularization strength and learning rate, default values are used.\n",
    "\n",
    "**Loss**: log-loss\n",
    "\n",
    "</div>"
   ]
  },
  {
   "cell_type": "code",
   "execution_count": 111,
   "metadata": {
    "ExecuteTime": {
     "end_time": "2022-03-03T08:23:09.803161Z",
     "start_time": "2022-03-03T08:23:09.784153Z"
    },
    "deletable": false,
    "editable": false,
    "nbgrader": {
     "cell_type": "code",
     "checksum": "62c1c88609403662479c34c3a2b8e21b",
     "grade": false,
     "grade_id": "cell-9a883950af87c395",
     "locked": true,
     "schema_version": 3,
     "solution": false,
     "task": false
    }
   },
   "outputs": [],
   "source": [
    "## dataset preparing\n",
    "minvalue = y.min() # minimum of the column 'air temperature'\n",
    "maxvalue = y.max() # maximum of the column 'air temperature'\n",
    "    \n",
    "labels = [0,1,2,3] # new labels to be assigned\n",
    "cut_bins = [minvalue,0,5,10,maxvalue] #cutting intervals/criteria\n",
    "\n",
    "# encode air temperatures (label) to categorical labels\n",
    "y_clf = pd.cut(y, bins=cut_bins,labels=labels,include_lowest=True).to_numpy()\n",
    "\n",
    "# features remain same, but assign different variable name to make the names more consistent\n",
    "X_clf = np.copy(X)\n",
    "\n",
    "# split data into training set and validation set\n",
    "X_clf_train, X_clf_val, y_clf_train, y_clf_val = train_test_split(X_clf, y_clf, test_size=0.33, random_state=0)"
   ]
  },
  {
   "cell_type": "markdown",
   "metadata": {
    "deletable": false,
    "editable": false,
    "nbgrader": {
     "cell_type": "markdown",
     "checksum": "f7d1abd43ef6c4fde6e8b07a27ebef00",
     "grade": false,
     "grade_id": "cell-f07d0e1332bd6a4e",
     "locked": true,
     "schema_version": 3,
     "solution": false,
     "task": false
    }
   },
   "source": [
    "<div class=\" alert alert-warning\">    \n",
    "\n",
    "In the following solution cell, you will:\n",
    "- Initialise an MLPClassifier, please use the `hidden_layer_sizes` defined for you and set `max_iter` to 5000, `learning_rate_init` to 0.0001 and `random_state` to 0.\n",
    "- Train the classifier on the training set.\n",
    "- Evaluate the classifier on the training set and validation set.\n",
    "\n",
    "    \n",
    "**Sklearn class**: [MLPClassifier](https://scikit-learn.org/stable/modules/generated/sklearn.neural_network.MLPClassifier.html#sklearn.neural_network.MLPClassifier)  provides the methods you need to complete model training.\n",
    "\n",
    "**Model performance evaluation**: calculate the train and validation accuracy (average **0/1 loss**). The function [accuracy_score()](https://scikit-learn.org/stable/modules/generated/sklearn.metrics.accuracy_score.html) has been imported for you in the beginning of this notebook.\n",
    "</div>"
   ]
  },
  {
   "cell_type": "code",
   "execution_count": 112,
   "metadata": {
    "ExecuteTime": {
     "end_time": "2022-03-02T07:29:13.744190Z",
     "start_time": "2022-03-02T07:29:13.737582Z"
    },
    "deletable": false,
    "editable": false,
    "nbgrader": {
     "cell_type": "code",
     "checksum": "866933bdaf79cf9432acc53f4fd139dc",
     "grade": false,
     "grade_id": "cell-681e1f2914dc11e8",
     "locked": true,
     "schema_version": 3,
     "solution": false,
     "task": false
    }
   },
   "outputs": [],
   "source": [
    "from sklearn.neural_network import MLPClassifier"
   ]
  },
  {
   "cell_type": "code",
   "execution_count": 113,
   "metadata": {
    "ExecuteTime": {
     "end_time": "2022-03-03T08:24:24.146779Z",
     "start_time": "2022-03-03T08:23:36.860475Z"
    },
    "deletable": false,
    "nbgrader": {
     "cell_type": "code",
     "checksum": "70794bd0c0513201b977c269ec32a72d",
     "grade": false,
     "grade_id": "cell-26ae8fe760a9e1c4",
     "locked": false,
     "schema_version": 3,
     "solution": true,
     "task": false
    }
   },
   "outputs": [],
   "source": [
    "## Note: the execution time of this cell might be > 2 mins\n",
    "## define a list of values for the number of hidden layers\n",
    "num_layers_clf = [1,2,4,6,8,10]    # number of hidden layers,\n",
    "num_neurons = 10       # number of neurons of each layer, we fix this to 10 in this task\n",
    "\n",
    "\n",
    "# we will use this variables to store the resulting training accs for each number of hidden layers\n",
    "mlp_tr_accs = []          \n",
    "mlp_val_accs = []\n",
    "\n",
    "for i,num in enumerate(num_layers_clf):  \n",
    "    hidden_layer_sizes = tuple([num_neurons]*num) \n",
    "    \n",
    "    mlp_clf = MLPClassifier(hidden_layer_sizes = hidden_layer_sizes, max_iter = 5000, learning_rate_init = 0.0001, random_state = 0)           # initialise a MLPClassifier\n",
    "    mlp_clf.fit(X_clf_train, y_clf_train)    # train the calssifier\n",
    "   \n",
    "    # YOUR CODE HERE\n",
    "    \n",
    "    y_pred_train = mlp_clf.predict(X_clf_train)    # predict using the trained model\n",
    "    tr_acc = accuracy_score(y_clf_train, y_pred_train)    # calculate the training acc\n",
    "    \n",
    "    y_pred_val = mlp_clf.predict(X_clf_val) # predict for the validation data \n",
    "    val_acc =  accuracy_score(y_clf_val, y_pred_val) # calculate the validation acc\n",
    "    \n",
    "    # sanity check num of layers\n",
    "    assert mlp_clf.n_layers_ == num_layers_clf[i]+2 # num of total layers \n",
    "    # sanity check the acc values\n",
    "    assert 0.8 < tr_acc < 0.9 and 0.7 < val_acc < 0.85\n",
    "    \n",
    "    mlp_tr_accs.append(tr_acc)\n",
    "    mlp_val_accs.append(val_acc)\n",
    "\n",
    "# sanity check the length of array tr_accs\n",
    "assert len(mlp_tr_accs) == len(mlp_val_accs) == len(num_layers_clf)"
   ]
  },
  {
   "cell_type": "code",
   "execution_count": 114,
   "metadata": {
    "ExecuteTime": {
     "end_time": "2022-03-02T07:30:06.222093Z",
     "start_time": "2022-03-02T07:30:06.072489Z"
    },
    "deletable": false,
    "editable": false,
    "nbgrader": {
     "cell_type": "code",
     "checksum": "4ad743ea5adc2114351125d2b5630bee",
     "grade": false,
     "grade_id": "cell-9a6da138de6b50d8",
     "locked": true,
     "schema_version": 3,
     "solution": false,
     "task": false
    }
   },
   "outputs": [
    {
     "data": {
      "image/png": "[encoded data removed]",
      "text/plain": [
       "<Figure size 432x288 with 1 Axes>"
      ]
     },
     "metadata": {
      "needs_background": "light"
     },
     "output_type": "display_data"
    }
   ],
   "source": [
    "plt.plot(num_layers_clf, mlp_tr_accs, label = 'Train')\n",
    "plt.plot(num_layers_clf, mlp_val_accs,label = 'Valid')\n",
    "plt.xticks(num_layers_clf)\n",
    "plt.legend(loc = 'upper left')\n",
    "\n",
    "plt.xlabel('Layers')\n",
    "plt.ylabel('Accuracy')\n",
    "plt.title('Train vs validation accuracy')\n",
    "plt.show()"
   ]
  },
  {
   "cell_type": "code",
   "execution_count": 115,
   "metadata": {
    "ExecuteTime": {
     "end_time": "2022-03-02T07:30:06.241750Z",
     "start_time": "2022-03-02T07:30:06.224609Z"
    },
    "deletable": false,
    "editable": false,
    "nbgrader": {
     "cell_type": "code",
     "checksum": "86d46f2e5c4b2e30fa6f322143c77556",
     "grade": false,
     "grade_id": "cell-45b5df8a9fff2f6a",
     "locked": true,
     "schema_version": 3,
     "solution": false,
     "task": false
    }
   },
   "outputs": [
    {
     "data": {
      "text/html": [
       "<div>\n",
       "<style scoped>\n",
       "    .dataframe tbody tr th:only-of-type {\n",
       "        vertical-align: middle;\n",
       "    }\n",
       "\n",
       "    .dataframe tbody tr th {\n",
       "        vertical-align: top;\n",
       "    }\n",
       "\n",
       "    .dataframe thead th {\n",
       "        text-align: right;\n",
       "    }\n",
       "</style>\n",
       "<table border=\"1\" class=\"dataframe\">\n",
       "  <thead>\n",
       "    <tr style=\"text-align: right;\">\n",
       "      <th></th>\n",
       "      <th>num_hidden_layers</th>\n",
       "      <th>MLP_train_accs</th>\n",
       "      <th>MLP_val_accs</th>\n",
       "    </tr>\n",
       "  </thead>\n",
       "  <tbody>\n",
       "    <tr>\n",
       "      <th>0</th>\n",
       "      <td>1</td>\n",
       "      <td>0.803797</td>\n",
       "      <td>0.717949</td>\n",
       "    </tr>\n",
       "    <tr>\n",
       "      <th>1</th>\n",
       "      <td>2</td>\n",
       "      <td>0.843882</td>\n",
       "      <td>0.777778</td>\n",
       "    </tr>\n",
       "    <tr>\n",
       "      <th>2</th>\n",
       "      <td>4</td>\n",
       "      <td>0.864979</td>\n",
       "      <td>0.794872</td>\n",
       "    </tr>\n",
       "    <tr>\n",
       "      <th>3</th>\n",
       "      <td>6</td>\n",
       "      <td>0.843882</td>\n",
       "      <td>0.794872</td>\n",
       "    </tr>\n",
       "    <tr>\n",
       "      <th>4</th>\n",
       "      <td>8</td>\n",
       "      <td>0.852321</td>\n",
       "      <td>0.803419</td>\n",
       "    </tr>\n",
       "    <tr>\n",
       "      <th>5</th>\n",
       "      <td>10</td>\n",
       "      <td>0.835443</td>\n",
       "      <td>0.794872</td>\n",
       "    </tr>\n",
       "  </tbody>\n",
       "</table>\n",
       "</div>"
      ],
      "text/plain": [
       "   num_hidden_layers  MLP_train_accs  MLP_val_accs\n",
       "0                  1        0.803797      0.717949\n",
       "1                  2        0.843882      0.777778\n",
       "2                  4        0.864979      0.794872\n",
       "3                  6        0.843882      0.794872\n",
       "4                  8        0.852321      0.803419\n",
       "5                 10        0.835443      0.794872"
      ]
     },
     "execution_count": 115,
     "metadata": {},
     "output_type": "execute_result"
    }
   ],
   "source": [
    "accus = {\"num_hidden_layers\":num_layers_clf,\n",
    "          \"MLP_train_accs\":mlp_tr_accs,\n",
    "          \"MLP_val_accs\":mlp_val_accs,\n",
    "         }\n",
    "pd.DataFrame(accus)"
   ]
  },
  {
   "cell_type": "markdown",
   "metadata": {
    "deletable": false,
    "editable": false,
    "nbgrader": {
     "cell_type": "markdown",
     "checksum": "1c91a5bf84c6b73140d24ea4a8b22405",
     "grade": false,
     "grade_id": "cell-8d704d02520b497a",
     "locked": true,
     "schema_version": 3,
     "solution": false,
     "task": false
    }
   },
   "source": [
    "<div class=\" alert alert-warning\">\n",
    "\n",
    "# Student Task A7.7\n",
    "\n",
    "Answer the following quiz questions by setting the corresponding variable to the index of the answer that you consider correct. \n",
    "    \n",
    "Question 1: Which of the models from A7.6 would you recommend based on the table above?\n",
    "- Answer 1: 1 hidden layer MLP\n",
    "- Answer 2: 2 hidden layers MLP\n",
    "- Answer 3: 4 hidden layers MLP\n",
    "- Answer 4: 6 hidden layers MLP\n",
    "- Answer 5: 8 hidden layers MLP\n",
    "- Answer 6: 10 hidden layers MLP \n",
    "- Answer 7: 12 hidden layers MLP\n",
    "    \n",
    "\n",
    "</div>"
   ]
  },
  {
   "cell_type": "code",
   "execution_count": 116,
   "metadata": {
    "ExecuteTime": {
     "end_time": "2022-03-02T07:30:06.256109Z",
     "start_time": "2022-03-02T07:30:06.246680Z"
    },
    "deletable": false,
    "nbgrader": {
     "cell_type": "code",
     "checksum": "2f3a090152b7fb578284aef1bbf1ea41",
     "grade": false,
     "grade_id": "cell-e2bdd89150d1112d",
     "locked": false,
     "schema_version": 3,
     "solution": true,
     "task": false
    }
   },
   "outputs": [
    {
     "name": "stdout",
     "output_type": "stream",
     "text": [
      "my answer is: Answer 5\n"
     ]
    }
   ],
   "source": [
    "## set Answer_Q1 to the index (starting from 1 !!!) of the correct answer (e.g., Answer_Q1=1 if you think Answer 1 is correct)\n",
    "Answer_Q1  = 5  \n",
    "\n",
    "# YOUR CODE HERE\n",
    "\n",
    "print(f\"my answer is: Answer {Answer_Q1}\")\n",
    "assert Answer_Q1 in range(1,8), \"Please use an int in the range [1,7] for your answer\""
   ]
  },
  {
   "cell_type": "code",
   "execution_count": 117,
   "metadata": {
    "ExecuteTime": {
     "end_time": "2022-03-02T07:30:06.266133Z",
     "start_time": "2022-03-02T07:30:06.259909Z"
    },
    "deletable": false,
    "editable": false,
    "nbgrader": {
     "cell_type": "code",
     "checksum": "d8091428e868207ae168f53131fce674",
     "grade": true,
     "grade_id": "cell-d0cf2c2a51430269",
     "locked": true,
     "points": 1,
     "schema_version": 3,
     "solution": false,
     "task": false
    }
   },
   "outputs": [],
   "source": [
    "# this cell is for tests for A7.7"
   ]
  },
  {
   "cell_type": "markdown",
   "metadata": {
    "deletable": false,
    "editable": false,
    "nbgrader": {
     "cell_type": "markdown",
     "checksum": "9a22c122156ffdf09dab0938af3f58fb",
     "grade": false,
     "grade_id": "cell-7f2ee7806f4ff138",
     "locked": true,
     "schema_version": 3,
     "solution": false,
     "task": false
    }
   },
   "source": [
    "<div class=\" alert alert-info\">\n",
    "\n",
    "# Demo: Learning rate\n",
    "The main learning algorithm for deep learning is gradient descent. From calculus courses, you should be familiar with what a gradient (or a derivative for a single variable function) represents. By using it, we can learn how our function is behaving in a given datapoint (is it rising or falling?), and based on that, we know 'which direction to go' in order to minimize it. Neural networks learn by computing the gradient of the loss function, which gives them the information on how to change their weights to move towards the local minimum.\n",
    "\n",
    "Typically we would take an average direction based on a batch of datapoints, usually 16/32/64 of them at a time. However, the gradient just gives us the direction, we do not know how far in that direction we should go. We control that using a number called the **learning rate**, which lets us scale the steps we take. \n",
    "```\n",
    "weight_update = update_from_the_gradient * learning_rate\n",
    "```\n",
    "\n",
    "If we are too careful and set a very small learning rate, taking baby steps towards the minimum, our training would take too long. On the other hand, if the learning rate is too big, we might 'overshoot', and keep missing the optimal point. This means that learning rate is usually the most important training parameter and should be chosen carefully, and even adjusted during the training - luckily most libraries provide us with good default values and training algorithms.\n",
    "\n",
    "Gradient descent is a complex topic, and the above explanation is very simplified. We highly recommend [this video](https://www.youtube.com/watch?v=IHZwWFHWa-w) by 3blue1brown, showing the process in greater detail, with easy to understand animations. \n",
    "    \n",
    "Take a look at the code below, showing what happens to the training process when we change the learning rate:\n",
    "</div>"
   ]
  },
  {
   "cell_type": "code",
   "execution_count": 118,
   "metadata": {
    "ExecuteTime": {
     "end_time": "2022-03-03T08:33:20.788719Z",
     "start_time": "2022-03-03T08:33:01.451112Z"
    },
    "deletable": false,
    "editable": false,
    "nbgrader": {
     "cell_type": "code",
     "checksum": "5656f34fd0b4b1242ce372bc439a9dde",
     "grade": false,
     "grade_id": "cell-668b13f6abe8b2e0",
     "locked": true,
     "schema_version": 3,
     "solution": false,
     "task": false
    }
   },
   "outputs": [
    {
     "name": "stderr",
     "output_type": "stream",
     "text": [
      "/opt/conda/lib/python3.8/site-packages/sklearn/neural_network/_multilayer_perceptron.py:582: ConvergenceWarning: Stochastic Optimizer: Maximum iterations (3000) reached and the optimization hasn't converged yet.\n",
      "  warnings.warn(\n"
     ]
    },
    {
     "data": {
      "image/png": "[encoded data removed]",
      "text/plain": [
       "<Figure size 1080x288 with 3 Axes>"
      ]
     },
     "metadata": {
      "needs_background": "light"
     },
     "output_type": "display_data"
    }
   ],
   "source": [
    "lrs = [1e-07,0.0001,0.002]  # 3 different learning rate\n",
    "fig, axes = plt.subplots(1,3, sharey=True, figsize=(15,4))\n",
    "for i, lr in enumerate(lrs):\n",
    "    mlp_regr = MLPRegressor((10,15,15,10),max_iter=3000,batch_size=64,\\\n",
    "                            solver='sgd',learning_rate_init=lr,random_state=42) \n",
    "    mlp_regr.fit(X_train, y_train)    # Train MLP on the training set\n",
    "    axes[i].plot(mlp_regr.loss_curve_[:1000]) \n",
    "    axes[i].set_title(f'lr={lr}\\n minimum loss={mlp_regr.loss_}')\n",
    "    axes[i].set_ylabel('Loss')\n",
    "    axes[i].set_yticks(np.arange(0,80,5))\n",
    "    axes[i].set_xlabel('optimization iterations')\n",
    "plt.show()\n",
    "\n",
    "#NOTE: The warning you see is for the first learning rate 1e-07"
   ]
  },
  {
   "cell_type": "markdown",
   "metadata": {
    "deletable": false,
    "editable": false,
    "nbgrader": {
     "cell_type": "markdown",
     "checksum": "ef71cba78e806ad0dd6274ecb3fbac83",
     "grade": false,
     "grade_id": "cell-b22fba375c2d2948",
     "locked": true,
     "schema_version": 3,
     "solution": false,
     "task": false
    }
   },
   "source": [
    "<div class=\" alert alert-warning\">\n",
    "\n",
    "# Student task A7.8\n",
    "Answer the following quiz questions by setting the corresponding variable to the index of the answer that you consider correct:\n",
    "    \n",
    "Question1: 'Larger learning rate is always better, since it lets our model converge faster, reducing the length of the trainig.' - is this sentence true or false?\n",
    "- Answer 1: True\n",
    "- Answer 2: False\n",
    "</div>\n",
    "\n"
   ]
  },
  {
   "cell_type": "code",
   "execution_count": 119,
   "metadata": {
    "deletable": false,
    "nbgrader": {
     "cell_type": "code",
     "checksum": "b8847cbd07a95a66e06ff65970f3167f",
     "grade": false,
     "grade_id": "cell-c741f3c908e8bd33",
     "locked": false,
     "schema_version": 3,
     "solution": true,
     "task": false
    }
   },
   "outputs": [
    {
     "name": "stdout",
     "output_type": "stream",
     "text": [
      "my answer is: Answer 2\n"
     ]
    }
   ],
   "source": [
    "## set Answer_Q1 to the index (starting from 1 !!!) of the correct answer (e.g., Answer_Q1=1 if you think Answer 1 is correct)\n",
    "Answer_Q1 = 2   \n",
    "\n",
    "# YOUR CODE HERE\n",
    "\n",
    "print(f\"my answer is: Answer {Answer_Q1}\")\n",
    "assert Answer_Q1 in (1,2), \"Please use 1 or 2 for your answer\""
   ]
  },
  {
   "cell_type": "code",
   "execution_count": 120,
   "metadata": {
    "deletable": false,
    "editable": false,
    "nbgrader": {
     "cell_type": "code",
     "checksum": "b315387ee4e13306c4a473ac99b8a7bf",
     "grade": true,
     "grade_id": "cell-bf07472d7d7c9124",
     "locked": true,
     "points": 1,
     "schema_version": 3,
     "solution": false,
     "task": false
    }
   },
   "outputs": [],
   "source": [
    "# this cell is for tests for A7.8"
   ]
  },
  {
   "cell_type": "markdown",
   "metadata": {
    "deletable": false,
    "editable": false,
    "nbgrader": {
     "cell_type": "markdown",
     "checksum": "3acd59badd423c67d435950031e17f92",
     "grade": false,
     "grade_id": "cell-ee20b38943a09f44",
     "locked": true,
     "schema_version": 3,
     "solution": false,
     "task": false
    }
   },
   "source": [
    "<div class=\" alert alert-info\">\n",
    "\n",
    "# Demo: Grid search\n",
    "By now, you have experienced model selections based on different parameters, such as max poly degree for Polynomial Regression, alpha for Ridge Regression, number of hidden layers for MLP, etc.\n",
    "These parameters are called hyperparameters, because they are not directly learnt within regressors/classifiers, but rather a property of the training process selected by humans. In sklearn they are passed as arguments to the constructor of the regressor/classifier instances or feature transforming classes. \n",
    "\n",
    "In previous assignments and tasks, We used for loops to iterate a list of candidate hyperparameters to train corresponding models and compare the train/validation errors to do final model selection/adjusting. But most models, especially complicated models such as ANNs, have multiple hyper-parameters. Using (deeply) nested for-loops to search for a best combination from a large hyper-parameter space will make the code quite tedious, so sklearn provides a grid search method [GridSearchCV](https://scikit-learn.org/stable/modules/generated/sklearn.model_selection.GridSearchCV.html#sklearn.model_selection.GridSearchCV)\n",
    "to exhaustively search candidates from a grid of parameter values specified with the `param_grid` parameter. For instance, the following param_grid will be used in this demo of hyperparameters for tuning/adjusting the MLPClassifier:\n",
    "    \n",
    "<code> param_grid = {\n",
    "    'hidden_layer_sizes': [(15,15),(10)],\n",
    "    'learning_rate_init':[0.001,0.01]\n",
    "}\n",
    "</code>\n",
    "\n",
    "We first define the model (mlp_grids). GridSearchCV method is used to `fit()` the model for different combinations of the hyper-parameters specified in `param_grid` and give the best combination based on the validation accuracies. `cv` is the parameter to specify how many folds will be used for cross validation. For more details, please read the documentation.   \n",
    "\n",
    "Note: Do not worry about ConvergenceWarnings - since we try various hyperparameters, it is normal that not all of the models converge properly.\n",
    "</div>"
   ]
  },
  {
   "cell_type": "code",
   "execution_count": 121,
   "metadata": {
    "ExecuteTime": {
     "end_time": "2022-03-03T08:55:24.476622Z",
     "start_time": "2022-03-03T08:52:37.325860Z"
    },
    "deletable": false,
    "editable": false,
    "nbgrader": {
     "cell_type": "code",
     "checksum": "d6a0ad56740818b052faa63b31517e65",
     "grade": false,
     "grade_id": "cell-12958ed011d24502",
     "locked": true,
     "schema_version": 3,
     "solution": false,
     "task": false
    }
   },
   "outputs": [],
   "source": [
    "## Note: the execution time of this cell might be > 2 mins\n",
    "from sklearn.model_selection import GridSearchCV\n",
    "\n",
    "mlp_grids = MLPClassifier(max_iter=3000,random_state=1)\n",
    "\n",
    "## to limit the executive time, a small hyper-parameter space is used, you can feel free to expand the space,\n",
    "## such as adding more candidate network sizes, learning rates or the other hyper-parameters.\n",
    "param_grid = {\n",
    "    'hidden_layer_sizes': [(15,15),(10)],     # different depth and width of the network\n",
    "    'learning_rate_init':[0.001,0.01]          # different learning rate\n",
    "}\n",
    "\n",
    "classifier = GridSearchCV(estimator=mlp_grids,param_grid=param_grid,cv=5,return_train_score=True)\n",
    "classifier = classifier.fit(X_clf,y_clf)"
   ]
  },
  {
   "cell_type": "code",
   "execution_count": 122,
   "metadata": {
    "ExecuteTime": {
     "end_time": "2022-03-03T08:55:28.584978Z",
     "start_time": "2022-03-03T08:55:28.579020Z"
    },
    "deletable": false,
    "editable": false,
    "nbgrader": {
     "cell_type": "code",
     "checksum": "8aa76fdf7efadca2b76a85471cc985aa",
     "grade": false,
     "grade_id": "cell-7eaeea9b58b95437",
     "locked": true,
     "schema_version": 3,
     "solution": false,
     "task": false
    }
   },
   "outputs": [
    {
     "name": "stdout",
     "output_type": "stream",
     "text": [
      "Best hyper-parameters found:\n",
      "\n",
      " {'hidden_layer_sizes': (15, 15), 'learning_rate_init': 0.001}\n"
     ]
    }
   ],
   "source": [
    "# to see the best hyperparameter combination\n",
    "print('Best hyper-parameters found:\\n\\n', classifier.best_params_) "
   ]
  },
  {
   "cell_type": "markdown",
   "metadata": {
    "ExecuteTime": {
     "end_time": "2022-03-01T06:28:54.922650Z",
     "start_time": "2022-03-01T06:28:54.869332Z"
    },
    "deletable": false,
    "editable": false,
    "nbgrader": {
     "cell_type": "markdown",
     "checksum": "89053246dbab78b7c81000776bb11a60",
     "grade": false,
     "grade_id": "cell-dc60df3d58db6a1b",
     "locked": true,
     "schema_version": 3,
     "solution": false,
     "task": false
    }
   },
   "source": [
    "<div class=\" alert alert-warning\">\n",
    "\n",
    "# Student Task A7.9\n",
    "Please carefully read the documentation of [GridSearchCV](https://scikit-learn.org/stable/modules/generated/sklearn.model_selection.GridSearchCV.html#sklearn.model_selection.GridSearchCV), figure out how to obtain the attribute: best score (it is the best validation accuracy) for the classifiers trained in the demo and assign it to the variable `best_accuracy`.\n",
    "\n",
    "</div>"
   ]
  },
  {
   "cell_type": "code",
   "execution_count": 123,
   "metadata": {
    "ExecuteTime": {
     "end_time": "2022-03-03T08:55:30.175332Z",
     "start_time": "2022-03-03T08:55:30.165701Z"
    },
    "deletable": false,
    "nbgrader": {
     "cell_type": "code",
     "checksum": "4432d4292d3426ec705b1dbe2abaa330",
     "grade": false,
     "grade_id": "cell-00319d39c3087915",
     "locked": false,
     "schema_version": 3,
     "solution": true,
     "task": false
    }
   },
   "outputs": [
    {
     "name": "stdout",
     "output_type": "stream",
     "text": [
      "Best validation accuracy:\n",
      "\n",
      " 0.8037858355808611\n"
     ]
    }
   ],
   "source": [
    "best_accuracy = classifier.best_score_\n",
    "\n",
    "# YOUR CODE HERE\n",
    "\n",
    "print('Best validation accuracy:\\n\\n', best_accuracy) "
   ]
  },
  {
   "cell_type": "code",
   "execution_count": 124,
   "metadata": {
    "ExecuteTime": {
     "end_time": "2022-03-03T08:51:23.109252Z",
     "start_time": "2022-03-03T08:51:23.105054Z"
    },
    "deletable": false,
    "editable": false,
    "nbgrader": {
     "cell_type": "code",
     "checksum": "56feb1e8ea4349d2b8ac2d4cb42f7cb1",
     "grade": true,
     "grade_id": "cell-fb6880f910793875",
     "locked": true,
     "points": 1,
     "schema_version": 3,
     "solution": false,
     "task": false
    }
   },
   "outputs": [],
   "source": [
    "# this is the test cell for A7.9\n",
    "### BEGIN HIDDEN TESTs\n",
    "assert np.isclose(best_accuracy,classifier.best_score_)\n",
    "### END HIDDEN TESTs"
   ]
  },
  {
   "cell_type": "markdown",
   "metadata": {
    "deletable": false,
    "editable": false,
    "nbgrader": {
     "cell_type": "markdown",
     "checksum": "049e45db35e6866f31e54525ceafb1d1",
     "grade": false,
     "grade_id": "cell-7d68ae192885ac0f",
     "locked": true,
     "schema_version": 3,
     "solution": false,
     "task": false
    }
   },
   "source": [
    "<div class=\" alert alert-warning\">\n",
    "\n",
    "# Student Task A7.10\n",
    "Answer the following quiz questions by setting the corresponding variable to the index of the answer that you consider correct. \n",
    "\n",
    "Question 1: \"If the activation functions are all linear functions, Neural Network only acts as a linear hypothesis mapper.\" Is this statement correct?\n",
    "- Answer 1: Yes, it is correct.\n",
    "- Answer 2: No, it is not correct.\n",
    "    \n",
    "Question 2: \"Neural Networks can approximate any continuous function.\" Is this statement correct?\n",
    "- Answer 1: Yes, it is correct.\n",
    "- Answer 2: No, it is not correct.\n",
    "    \n",
    "</div>"
   ]
  },
  {
   "cell_type": "code",
   "execution_count": 125,
   "metadata": {
    "ExecuteTime": {
     "end_time": "2022-03-03T08:50:55.398864Z",
     "start_time": "2022-03-03T08:50:55.392529Z"
    },
    "deletable": false,
    "nbgrader": {
     "cell_type": "code",
     "checksum": "8269d5dfbd75596a439f81837769c526",
     "grade": false,
     "grade_id": "cell-73a71928482be90a",
     "locked": false,
     "schema_version": 3,
     "solution": true,
     "task": false
    }
   },
   "outputs": [
    {
     "name": "stdout",
     "output_type": "stream",
     "text": [
      "My answer for Question1 is: 1\n",
      "My answer for Question2 is: 1\n"
     ]
    }
   ],
   "source": [
    "## set Answer_Q1 and Answer_Q2 to the index (starting from 1 !!!) of the correct answer (e.g., Answer_Q2=1 if you think Answer 1 is correct)\n",
    "Answer_Q1 = 1\n",
    "Answer_Q2 = 1  \n",
    "\n",
    "# YOUR CODE HERE\n",
    "\n",
    "print(\"My answer for Question1 is:\", Answer_Q1)\n",
    "print(\"My answer for Question2 is:\", Answer_Q2)\n",
    "\n",
    "assert Answer_Q1 in [1,2] \n",
    "assert Answer_Q2 in [1,2] "
   ]
  },
  {
   "cell_type": "code",
   "execution_count": 126,
   "metadata": {
    "ExecuteTime": {
     "end_time": "2022-03-03T08:50:56.333209Z",
     "start_time": "2022-03-03T08:50:56.328661Z"
    },
    "deletable": false,
    "editable": false,
    "nbgrader": {
     "cell_type": "code",
     "checksum": "b63d224ac137f270ffe3054be97e4eae",
     "grade": true,
     "grade_id": "cell-8c36c0acfc6c7ae0",
     "locked": true,
     "points": 1,
     "schema_version": 3,
     "solution": false,
     "task": false
    }
   },
   "outputs": [],
   "source": [
    "# this cell is for tests for A7.10"
   ]
  },
  {
   "cell_type": "code",
   "execution_count": 127,
   "metadata": {
    "ExecuteTime": {
     "end_time": "2022-03-02T07:32:59.384832Z",
     "start_time": "2022-03-02T07:32:59.372400Z"
    },
    "deletable": false,
    "editable": false,
    "nbgrader": {
     "cell_type": "code",
     "checksum": "74b812db59843fea482a0266bdb161cb",
     "grade": true,
     "grade_id": "cell-612db0bb5cf7f1d6",
     "locked": true,
     "points": 1,
     "schema_version": 3,
     "solution": false,
     "task": false
    }
   },
   "outputs": [],
   "source": [
    "# this cell is for tests for A7.10"
   ]
  }
 ],
 "metadata": {
  "kernelspec": {
   "display_name": "Python 3",
   "language": "python",
   "name": "python3"
  },
  "language_info": {
   "codemirror_mode": {
    "name": "ipython",
    "version": 3
   },
   "file_extension": ".py",
   "mimetype": "text/x-python",
   "name": "python",
   "nbconvert_exporter": "python",
   "pygments_lexer": "ipython3",
   "version": "3.8.6"
  },
  "latex_envs": {
   "LaTeX_envs_menu_present": true,
   "autoclose": false,
   "autocomplete": true,
   "bibliofile": "biblio.bib",
   "cite_by": "apalike",
   "current_citInitial": 1,
   "eqLabelWithNumbers": true,
   "eqNumInitial": 1,
   "hotkeys": {
    "equation": "Ctrl-E",
    "itemize": "Ctrl-I"
   },
   "labels_anchors": false,
   "latex_user_defs": false,
   "report_style_numbering": false,
   "user_envs_cfg": false
  },
  "toc": {
   "base_numbering": 1,
   "nav_menu": {},
   "number_sections": true,
   "sideBar": true,
   "skip_h1_title": false,
   "title_cell": "Table of Contents",
   "title_sidebar": "Contents",
   "toc_cell": false,
   "toc_position": {
    "height": "calc(100% - 180px)",
    "left": "10px",
    "top": "150px",
    "width": "210.796875px"
   },
   "toc_section_display": true,
   "toc_window_display": true
  },
  "varInspector": {
   "cols": {
    "lenName": 16,
    "lenType": 16,
    "lenVar": 40
   },
   "kernels_config": {
    "python": {
     "delete_cmd_postfix": "",
     "delete_cmd_prefix": "del ",
     "library": "var_list.py",
     "varRefreshCmd": "print(var_dic_list())"
    },
    "r": {
     "delete_cmd_postfix": ") ",
     "delete_cmd_prefix": "rm(",
     "library": "var_list.r",
     "varRefreshCmd": "cat(var_dic_list()) "
    }
   },
   "types_to_exclude": [
    "module",
    "function",
    "builtin_function_or_method",
    "instance",
    "_Feature"
   ],
   "window_display": false
  }
 },
 "nbformat": 4,
 "nbformat_minor": 4
}
